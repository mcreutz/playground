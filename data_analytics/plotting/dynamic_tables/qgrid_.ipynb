{
 "cells": [
  {
   "cell_type": "code",
   "execution_count": 2,
   "metadata": {
    "ExecuteTime": {
     "end_time": "2019-01-05T22:46:26.139633Z",
     "start_time": "2019-01-05T22:46:26.054556Z"
    }
   },
   "outputs": [
    {
     "data": {
      "application/vnd.jupyter.widget-view+json": {
       "model_id": "e9a60cdb0452426bb68433512338a386",
       "version_major": 2,
       "version_minor": 0
      },
      "text/plain": [
       "QgridWidget(grid_options={'fullWidthRows': True, 'syncColumnCellResize': True, 'forceFitColumns': True, 'defau…"
      ]
     },
     "metadata": {},
     "output_type": "display_data"
    }
   ],
   "source": [
    "import numpy as np\n",
    "import pandas as pd\n",
    "import qgrid\n",
    "randn = np.random.randn\n",
    "df_types = pd.DataFrame({\n",
    "    'A': 1.,\n",
    "    'B': pd.Series(['2013-01-01', '2013-01-02', '2013-01-03', '2013-01-04',\n",
    "               '2013-01-05', '2013-01-06', '2013-01-07', '2013-01-08', '2013-01-09'], index=list(range(9)), dtype='datetime64[ns]'),\n",
    "    'C': pd.Series(randn(9), index=list(range(9)),dtype='float32'),\n",
    "    'D': np.array([3] * 9, dtype='int32'),\n",
    "    'E': pd.Categorical([\"washington\", \"adams\", \"washington\", \"madison\", \"lincoln\",\"jefferson\", \"hamilton\", \"roosevelt\", \"kennedy\"]),\n",
    "    'F': [\"foo\", \"bar\", \"buzz\", \"bippity\",\"boppity\", \"foo\", \"foo\", \"bar\", \"zoo\"] })\n",
    "df_types['G'] = df_types['F'] == 'foo'\n",
    "qgrid_widget = qgrid.show_grid(df_types, show_toolbar=True)\n",
    "qgrid_widget\n",
    "# qgrid.show_grid(df_types)\n"
   ]
  },
  {
   "cell_type": "code",
   "execution_count": 7,
   "metadata": {},
   "outputs": [
    {
     "data": {
      "text/html": [
       "<div>\n",
       "<style scoped>\n",
       "    .dataframe tbody tr th:only-of-type {\n",
       "        vertical-align: middle;\n",
       "    }\n",
       "\n",
       "    .dataframe tbody tr th {\n",
       "        vertical-align: top;\n",
       "    }\n",
       "\n",
       "    .dataframe thead th {\n",
       "        text-align: right;\n",
       "    }\n",
       "</style>\n",
       "<table border=\"1\" class=\"dataframe\">\n",
       "  <thead>\n",
       "    <tr style=\"text-align: right;\">\n",
       "      <th></th>\n",
       "      <th>A</th>\n",
       "      <th>B</th>\n",
       "      <th>C</th>\n",
       "      <th>D</th>\n",
       "      <th>E</th>\n",
       "      <th>F</th>\n",
       "      <th>G</th>\n",
       "    </tr>\n",
       "  </thead>\n",
       "  <tbody>\n",
       "    <tr>\n",
       "      <th>0</th>\n",
       "      <td>1.0</td>\n",
       "      <td>2013-01-01</td>\n",
       "      <td>0.021915</td>\n",
       "      <td>3</td>\n",
       "      <td>washington</td>\n",
       "      <td>foo</td>\n",
       "      <td>True</td>\n",
       "    </tr>\n",
       "    <tr>\n",
       "      <th>1</th>\n",
       "      <td>1.0</td>\n",
       "      <td>2013-01-02</td>\n",
       "      <td>-1.911862</td>\n",
       "      <td>3</td>\n",
       "      <td>adams</td>\n",
       "      <td>bar</td>\n",
       "      <td>False</td>\n",
       "    </tr>\n",
       "    <tr>\n",
       "      <th>2</th>\n",
       "      <td>1.0</td>\n",
       "      <td>2013-01-03</td>\n",
       "      <td>0.370484</td>\n",
       "      <td>3</td>\n",
       "      <td>washington</td>\n",
       "      <td>buzz</td>\n",
       "      <td>False</td>\n",
       "    </tr>\n",
       "    <tr>\n",
       "      <th>3</th>\n",
       "      <td>1.0</td>\n",
       "      <td>2013-01-04</td>\n",
       "      <td>1.384196</td>\n",
       "      <td>3</td>\n",
       "      <td>madison</td>\n",
       "      <td>bippity</td>\n",
       "      <td>False</td>\n",
       "    </tr>\n",
       "    <tr>\n",
       "      <th>4</th>\n",
       "      <td>1.0</td>\n",
       "      <td>2013-01-05</td>\n",
       "      <td>-1.048261</td>\n",
       "      <td>3</td>\n",
       "      <td>lincoln</td>\n",
       "      <td>boppity</td>\n",
       "      <td>False</td>\n",
       "    </tr>\n",
       "    <tr>\n",
       "      <th>5</th>\n",
       "      <td>1.0</td>\n",
       "      <td>2013-01-06</td>\n",
       "      <td>-0.020804</td>\n",
       "      <td>3</td>\n",
       "      <td>jefferson</td>\n",
       "      <td>foo</td>\n",
       "      <td>True</td>\n",
       "    </tr>\n",
       "    <tr>\n",
       "      <th>6</th>\n",
       "      <td>1.0</td>\n",
       "      <td>2013-01-07</td>\n",
       "      <td>-0.607087</td>\n",
       "      <td>3</td>\n",
       "      <td>hamilton</td>\n",
       "      <td>foo</td>\n",
       "      <td>True</td>\n",
       "    </tr>\n",
       "    <tr>\n",
       "      <th>7</th>\n",
       "      <td>1.0</td>\n",
       "      <td>2013-01-08</td>\n",
       "      <td>2.052093</td>\n",
       "      <td>3</td>\n",
       "      <td>roosevelt</td>\n",
       "      <td>bar</td>\n",
       "      <td>False</td>\n",
       "    </tr>\n",
       "    <tr>\n",
       "      <th>8</th>\n",
       "      <td>1.0</td>\n",
       "      <td>2013-01-09</td>\n",
       "      <td>0.574161</td>\n",
       "      <td>3</td>\n",
       "      <td>kennedy</td>\n",
       "      <td>zoo</td>\n",
       "      <td>False</td>\n",
       "    </tr>\n",
       "  </tbody>\n",
       "</table>\n",
       "</div>"
      ],
      "text/plain": [
       "     A          B         C  D           E        F      G\n",
       "0  1.0 2013-01-01  0.021915  3  washington      foo   True\n",
       "1  1.0 2013-01-02 -1.911862  3       adams      bar  False\n",
       "2  1.0 2013-01-03  0.370484  3  washington     buzz  False\n",
       "3  1.0 2013-01-04  1.384196  3     madison  bippity  False\n",
       "4  1.0 2013-01-05 -1.048261  3     lincoln  boppity  False\n",
       "5  1.0 2013-01-06 -0.020804  3   jefferson      foo   True\n",
       "6  1.0 2013-01-07 -0.607087  3    hamilton      foo   True\n",
       "7  1.0 2013-01-08  2.052093  3   roosevelt      bar  False\n",
       "8  1.0 2013-01-09  0.574161  3     kennedy      zoo  False"
      ]
     },
     "execution_count": 7,
     "metadata": {},
     "output_type": "execute_result"
    }
   ],
   "source": [
    "df_types"
   ]
  },
  {
   "cell_type": "code",
   "execution_count": 3,
   "metadata": {},
   "outputs": [
    {
     "data": {
      "image/png": "[encoded data removed]",
      "text/plain": [
       "<Figure size 432x288 with 1 Axes>"
      ]
     },
     "metadata": {
      "needs_background": "light"
     },
     "output_type": "display_data"
    }
   ],
   "source": [
    "# %matplotlib nbagg\n",
    "import matplotlib.pyplot as plt\n",
    "\n",
    "n = 50\n",
    "x = qgrid_widget._df.index\n",
    "y = qgrid_widget._df['C']\n",
    "\n",
    "fig, ax = plt.subplots()\n",
    "fit = np.polyfit(x, y, deg=1)\n",
    "line, = ax.plot(x, fit[0] * x + fit[1], color='red')\n",
    "scatter, = ax.plot(x,y,ms=8,color='b',marker='o',ls='')\n",
    "\n",
    "def func(change):\n",
    "    x = change['new'].index\n",
    "    y = change['new']['C']\n",
    "    fit = np.polyfit(x, y, deg=1)\n",
    "    line.set_data(x, fit[0] * x + fit[1])\n",
    "    fig.canvas.draw()\n",
    "    scatter.set_data(x, y)\n",
    "    fig.canvas.draw()\n",
    "\n",
    "qgrid_widget.observe(func, names=['_df'])"
   ]
  },
  {
   "cell_type": "code",
   "execution_count": 4,
   "metadata": {},
   "outputs": [
    {
     "data": {
      "application/vnd.jupyter.widget-view+json": {
       "model_id": "e9a60cdb0452426bb68433512338a386",
       "version_major": 2,
       "version_minor": 0
      },
      "text/plain": [
       "QgridWidget(grid_options={'fullWidthRows': True, 'syncColumnCellResize': True, 'forceFitColumns': True, 'defau…"
      ]
     },
     "metadata": {},
     "output_type": "display_data"
    }
   ],
   "source": [
    "qgrid_widget # render the qgrid widget again so we don't have to scroll to see the changes in the scatter plot"
   ]
  },
  {
   "cell_type": "code",
   "execution_count": 5,
   "metadata": {},
   "outputs": [
    {
     "data": {
      "text/plain": [
       "0    1.0\n",
       "1    1.0\n",
       "2    1.0\n",
       "3    1.0\n",
       "4    1.0\n",
       "5    1.0\n",
       "6    1.0\n",
       "7    1.0\n",
       "8    1.0\n",
       "Name: A, dtype: float64"
      ]
     },
     "execution_count": 5,
     "metadata": {},
     "output_type": "execute_result"
    }
   ],
   "source": [
    "df_types['A']"
   ]
  },
  {
   "cell_type": "code",
   "execution_count": null,
   "metadata": {},
   "outputs": [],
   "source": []
  }
 ],
 "metadata": {
  "kernelspec": {
   "display_name": "Python 3",
   "language": "python",
   "name": "python3"
  },
  "language_info": {
   "codemirror_mode": {
    "name": "ipython",
    "version": 3
   },
   "file_extension": ".py",
   "mimetype": "text/x-python",
   "name": "python",
   "nbconvert_exporter": "python",
   "pygments_lexer": "ipython3",
   "version": "3.6.5"
  },
  "toc": {
   "base_numbering": 1,
   "nav_menu": {},
   "number_sections": true,
   "sideBar": true,
   "skip_h1_title": false,
   "title_cell": "Table of Contents",
   "title_sidebar": "Contents",
   "toc_cell": false,
   "toc_position": {},
   "toc_section_display": true,
   "toc_window_display": false
  },
  "varInspector": {
   "cols": {
    "lenName": 16,
    "lenType": 16,
    "lenVar": 40
   },
   "kernels_config": {
    "python": {
     "delete_cmd_postfix": "",
     "delete_cmd_prefix": "del ",
     "library": "var_list.py",
     "varRefreshCmd": "print(var_dic_list())"
    },
    "r": {
     "delete_cmd_postfix": ") ",
     "delete_cmd_prefix": "rm(",
     "library": "var_list.r",
     "varRefreshCmd": "cat(var_dic_list()) "
    }
   },
   "types_to_exclude": [
    "module",
    "function",
    "builtin_function_or_method",
    "instance",
    "_Feature"
   ],
   "window_display": false
  }
 },
 "nbformat": 4,
 "nbformat_minor": 2
}

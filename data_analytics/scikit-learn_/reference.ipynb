{
 "cells": [
  {
   "cell_type": "markdown",
   "metadata": {},
   "source": [
    "### Estimator\n",
    "- A class that can estimate parameters for a dataset by calling its '.fit()' method\n",
    "- Eg. SimpleImputer (?)\n",
    "- The '.fit()' method takes one parameter (the features) for unsupervised algorithms, two (features, labels) for supervised algorithms\n",
    "- The Estimators parameters are called 'Hyperparameters'\n",
    "- Transformers and Predictors are also Estimators\n",
    "\n",
    "### Transformer\n",
    "- An Estimator that can also transform a dataset by calling its '.transform()' method\n",
    "- Eg. SimpleImputer\n",
    "- '.transform()' returns the transformed dataset\n",
    "- '.fit_transform()' is a optimized method to fit and transform\n",
    "\n",
    "### Predictor\n",
    "- An Estimator that can make predictions on a dataset by calling its '.predict()' method\n",
    "- Eg. LinearRegression\n",
    "- '.predict()' takes the new instances and returns the predictions dataset\n",
    "- '.score()' can measure the quality of the predictions (in supervided learning), if the labels are available"
   ]
  },
  {
   "cell_type": "code",
   "execution_count": null,
   "metadata": {},
   "outputs": [],
   "source": [
    "# creating matrices for sklearn\n",
    "\n",
    "X_train = all_data[:train.shape[0]]\n",
    "X_test = all_data[train.shape[0]:]\n",
    "y = train.SalePrice"
   ]
  }
 ],
 "metadata": {
  "language_info": {
   "codemirror_mode": {
    "name": "ipython",
    "version": 3
   },
   "file_extension": ".py",
   "mimetype": "text/x-python",
   "name": "python",
   "nbconvert_exporter": "python",
   "pygments_lexer": "ipython3",
   "version": 3
  },
  "orig_nbformat": 2
 },
 "nbformat": 4,
 "nbformat_minor": 2
}

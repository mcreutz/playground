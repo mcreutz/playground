{
 "cells": [
  {
   "cell_type": "markdown",
   "metadata": {},
   "source": [
    "# Pipeline\n",
    "- \n",
    "\n",
    "# ColumnTransformer\n",
    "- "
   ]
  },
  {
   "cell_type": "code",
   "execution_count": 3,
   "metadata": {},
   "outputs": [],
   "source": [
    "import numpy as np\n",
    "\n",
    "from sklearn.compose import ColumnTransformer\n",
    "from sklearn.datasets import fetch_openml\n",
    "from sklearn.pipeline import Pipeline\n",
    "from sklearn.impute import SimpleImputer\n",
    "from sklearn.preprocessing import StandardScaler, OneHotEncoder\n",
    "from sklearn.linear_model import LogisticRegression\n",
    "from sklearn.model_selection import train_test_split, GridSearchCV\n",
    "\n",
    "np.random.seed(0)"
   ]
  },
  {
   "cell_type": "code",
   "execution_count": 2,
   "metadata": {},
   "outputs": [],
   "source": [
    "X, y = fetch_openml(\"titanic\", version=1, as_frame=True, return_X_y=True)"
   ]
  },
  {
   "cell_type": "code",
   "execution_count": 4,
   "metadata": {},
   "outputs": [],
   "source": [
    "# Pipeline\n",
    "# Usually used to combine an Estimator (Regressor, Classifier) with preceding Transformers. Is the called a Composite Estimator\n",
    "# Takes a list of 'name', 'estimator' tuples\n",
    "# Exposes the same methods as the final Estimator\n",
    "# All but the last Estimator need to be Tansformers, the last Estimator can be a Transformer\n",
    "# The Pipelines .fit() method calls .fit_transform() on all but the last Estimators and .fit() on the last Estimator\n",
    "# The Pipelines .fit_transform() method calls .fit_transform() on all Estimators, so for this the last Estimator needs to be an Transformer as well\n",
    "# Calling .predict() on a Pipeline should call .transform() for all but the last Estimators and .predict() on the last one\n",
    "# The Hyperparameters of all contained Estimators can be optimized together by GridSerach\n",
    "\n",
    "numeric_transformer = Pipeline(\n",
    "    steps=[\n",
    "        (\"imputer\", SimpleImputer(strategy=\"median\")), \n",
    "        (\"scaler\", StandardScaler())\n",
    "    ]\n",
    ")"
   ]
  },
  {
   "cell_type": "code",
   "execution_count": null,
   "metadata": {},
   "outputs": [],
   "source": [
    "categorical_transformer = OneHotEncoder(handle_unknown=\"ignore\")"
   ]
  },
  {
   "cell_type": "code",
   "execution_count": null,
   "metadata": {},
   "outputs": [],
   "source": [
    "# ColumnTransformer\n",
    "# Takes a list of 'name', 'transformer' and a 'list column names' tuples\n",
    "# On .transform() or .fit_transform(), it applies the transformeres to the given columns and chains the results through\n",
    "\n",
    "\n",
    "numeric_features = [\"age\", \"fare\"]\n",
    "categorical_features = [\"embarked\", \"sex\", \"pclass\"]\n",
    "preprocessor = ColumnTransformer(\n",
    "    transformers=[\n",
    "        (\"num\", numeric_transformer, numeric_features),\n",
    "        (\"cat\", categorical_transformer, categorical_features),\n",
    "    ]\n",
    ")"
   ]
  },
  {
   "cell_type": "code",
   "execution_count": null,
   "metadata": {},
   "outputs": [],
   "source": [
    "clf = Pipeline(\n",
    "    steps=[(\"preprocessor\", preprocessor), (\"classifier\", LogisticRegression())]\n",
    ")"
   ]
  },
  {
   "cell_type": "code",
   "execution_count": 5,
   "metadata": {},
   "outputs": [
    {
     "name": "stdout",
     "output_type": "stream",
     "text": [
      "model score: 0.790\n"
     ]
    }
   ],
   "source": [
    "X_train, X_test, y_train, y_test = train_test_split(X, y, test_size=0.2, random_state=0)"
   ]
  },
  {
   "cell_type": "code",
   "execution_count": null,
   "metadata": {},
   "outputs": [],
   "source": [
    "clf.fit(X_train, y_train)\n",
    "print(\"model score: %.3f\" % clf.score(X_test, y_test))"
   ]
  },
  {
   "cell_type": "code",
   "execution_count": 8,
   "metadata": {},
   "outputs": [
    {
     "data": {
      "text/plain": [
       "array(['0', '1', '0', '0', '0', '1', '0', '0', '0', '0', '0', '0', '0',\n",
       "       '1', '1', '0', '1', '0', '1', '0', '0', '0', '0', '1', '0', '1',\n",
       "       '0', '0', '0', '1', '1', '1', '1', '0', '1', '0', '0', '0', '0',\n",
       "       '0', '0', '0', '0', '0', '1', '0', '0', '1', '0', '0', '1', '0',\n",
       "       '0', '1', '0', '0', '1', '0', '1', '1', '0', '0', '1', '0', '1',\n",
       "       '1', '0', '0', '0', '1', '1', '0', '0', '0', '1', '1', '0', '1',\n",
       "       '1', '0', '0', '1', '0', '0', '1', '1', '0', '0', '0', '0', '0',\n",
       "       '0', '0', '0', '0', '0', '0', '1', '0', '1', '0', '0', '0', '1',\n",
       "       '0', '0', '1', '0', '0', '0', '0', '1', '0', '0', '1', '0', '0',\n",
       "       '0', '0', '1', '0', '0', '1', '1', '0', '0', '0', '0', '0', '0',\n",
       "       '0', '1', '0', '1', '0', '0', '0', '1', '0', '1', '0', '1', '0',\n",
       "       '0', '0', '0', '1', '0', '1', '0', '1', '0', '0', '1', '0', '0',\n",
       "       '1', '1', '0', '0', '0', '0', '0', '1', '0', '1', '0', '0', '0',\n",
       "       '0', '0', '0', '1', '0', '1', '0', '0', '1', '1', '1', '1', '0',\n",
       "       '1', '0', '1', '1', '1', '0', '0', '0', '0', '0', '1', '0', '0',\n",
       "       '1', '0', '1', '0', '0', '0', '0', '0', '1', '0', '0', '0', '0',\n",
       "       '0', '0', '1', '0', '0', '0', '1', '0', '0', '0', '0', '0', '1',\n",
       "       '1', '1', '1', '1', '0', '1', '1', '1', '1', '1', '0', '0', '1',\n",
       "       '0', '0', '1', '0', '0', '0', '0', '1', '0', '0', '0', '0', '0',\n",
       "       '0', '1', '0', '0', '0', '0', '0', '0', '0', '1', '0', '0', '0',\n",
       "       '0', '0'], dtype=object)"
      ]
     },
     "execution_count": 8,
     "metadata": {},
     "output_type": "execute_result"
    }
   ],
   "source": [
    "clf.predict()"
   ]
  },
  {
   "cell_type": "code",
   "execution_count": 9,
   "metadata": {},
   "outputs": [
    {
     "name": "stdout",
     "output_type": "stream",
     "text": [
      "model score: 0.790\n"
     ]
    }
   ],
   "source": [
    "print(\"model score: %.3f\" % clf.score(X_test, y_test))"
   ]
  },
  {
   "cell_type": "code",
   "execution_count": null,
   "metadata": {},
   "outputs": [],
   "source": []
  }
 ],
 "metadata": {
  "interpreter": {
   "hash": "d98c3b4b76a6c0d198e6bba6c34257f678fd8b927ca969049ed8b3cbefaaf8c3"
  },
  "kernelspec": {
   "display_name": "Python 3.9.12 ('playground-MkuFeJM_')",
   "language": "python",
   "name": "python3"
  },
  "language_info": {
   "codemirror_mode": {
    "name": "ipython",
    "version": 3
   },
   "file_extension": ".py",
   "mimetype": "text/x-python",
   "name": "python",
   "nbconvert_exporter": "python",
   "pygments_lexer": "ipython3",
   "version": "3.9.13"
  },
  "orig_nbformat": 4
 },
 "nbformat": 4,
 "nbformat_minor": 2
}

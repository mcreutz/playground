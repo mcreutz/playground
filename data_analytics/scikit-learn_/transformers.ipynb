{
 "cells": [
  {
   "cell_type": "code",
   "execution_count": null,
   "metadata": {},
   "outputs": [],
   "source": [
    "# Custom Transformer\n",
    "\n",
    "from sklearn.base import BaseEstimator, TransformerMixin\n",
    "\n",
    "class MyCustomTransformer(BaseEstimator, TransformerMixin):\n",
    "    # BaseEstimator to inherit get_params() and set_params() for your hyperparameters, but avoid *args or **kwargs in constructor\n",
    "    # TransformerMixin to inherit transform_fit()\n",
    "\n",
    "    def __init__(self, my_hyperparam=True):\n",
    "        self.my_hyperparam = my_hyperparam\n",
    "\n",
    "    def fit(self, X, y=None):\n",
    "        # code for fitting goes here\n",
    "        return self\n",
    "\n",
    "    def transform(self, X):\n",
    "        # code for transformation goes here\n",
    "        return X"
   ]
  }
 ],
 "metadata": {
  "language_info": {
   "name": "python"
  },
  "orig_nbformat": 4
 },
 "nbformat": 4,
 "nbformat_minor": 2
}

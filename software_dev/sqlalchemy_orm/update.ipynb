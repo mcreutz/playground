{
 "cells": [
  {
   "cell_type": "code",
   "execution_count": 47,
   "metadata": {},
   "outputs": [
    {
     "name": "stdout",
     "output_type": "stream",
     "text": [
      "Added FOREIGN_KEY pragma event for sqlite.\n",
      "2022-03-20 01:59:14,404 INFO sqlalchemy.engine.Engine BEGIN (implicit)\n",
      "2022-03-20 01:59:14,406 INFO sqlalchemy.engine.Engine PRAGMA main.table_info(\"user_accounts\")\n",
      "2022-03-20 01:59:14,407 INFO sqlalchemy.engine.Engine [raw sql] ()\n",
      "2022-03-20 01:59:14,409 INFO sqlalchemy.engine.Engine PRAGMA temp.table_info(\"user_accounts\")\n",
      "2022-03-20 01:59:14,409 INFO sqlalchemy.engine.Engine [raw sql] ()\n",
      "2022-03-20 01:59:14,413 INFO sqlalchemy.engine.Engine \n",
      "CREATE TABLE user_accounts (\n",
      "\tname VARCHAR(30) NOT NULL, \n",
      "\tfullname VARCHAR, \n",
      "\tPRIMARY KEY (name)\n",
      ")\n",
      "\n",
      "\n",
      "2022-03-20 01:59:14,414 INFO sqlalchemy.engine.Engine [no key 0.00079s] ()\n",
      "2022-03-20 01:59:14,417 INFO sqlalchemy.engine.Engine COMMIT\n",
      "2022-03-20 01:59:14,423 INFO sqlalchemy.engine.Engine BEGIN (implicit)\n",
      "2022-03-20 01:59:14,427 INFO sqlalchemy.engine.Engine INSERT INTO user_accounts (name, fullname) VALUES (?, ?)\n",
      "2022-03-20 01:59:14,428 INFO sqlalchemy.engine.Engine [generated in 0.00087s] ('sandy', 'Sandy Cheeks')\n",
      "2022-03-20 01:59:14,430 INFO sqlalchemy.engine.Engine COMMIT\n",
      "2022-03-20 01:59:14,432 INFO sqlalchemy.engine.Engine BEGIN (implicit)\n",
      "2022-03-20 01:59:14,434 INFO sqlalchemy.engine.Engine SELECT user_accounts.name, user_accounts.fullname \n",
      "FROM user_accounts\n",
      "2022-03-20 01:59:14,435 INFO sqlalchemy.engine.Engine [generated in 0.00078s] ()\n",
      "[(User(name=sandy, fullname=Sandy Cheeks),)]\n",
      "2022-03-20 01:59:14,438 INFO sqlalchemy.engine.Engine ROLLBACK\n"
     ]
    }
   ],
   "source": [
    "from datetime import date, datetime\n",
    "\n",
    "from sqlalchemy import create_engine, Column, Integer, String, ForeignKey, select, update, event, Date, DateTime, exists, and_, UniqueConstraint, ForeignKeyConstraint\n",
    "from sqlalchemy.orm import Session, declarative_base, relationship\n",
    "\n",
    "engine = create_engine(\"sqlite:///:memory:\", echo=True, future=True)\n",
    "\n",
    "def _fk_pragma_on_connect(dbapi_con, con_record):\n",
    "    dbapi_con.execute('PRAGMA foreign_keys = 1')\n",
    "\n",
    "if engine.url.drivername == 'sqlite':\n",
    "    event.listen(engine, 'connect', _fk_pragma_on_connect)\n",
    "    print(\"Added FOREIGN_KEY pragma event for sqlite.\")\n",
    "\n",
    "Base = declarative_base()\n",
    "\n",
    "\n",
    "class User(Base):\n",
    "    __tablename__ = 'user_accounts'\n",
    "\n",
    "    name = Column(String(30), primary_key=True)\n",
    "    fullname = Column(String)\n",
    "   \n",
    "    def __eq__(self, other):\n",
    "        return self.name == other.name\n",
    "\n",
    "    def __repr__(self):\n",
    "       return f\"User(name={self.name}, fullname={self.fullname})\"\n",
    "\n",
    "\n",
    "Base.metadata.create_all(engine)\n",
    "\n",
    "sandy = User(name=\"sandy\", fullname=\"Sandy Cheeks\")\n",
    "new_sandy = User(name=\"sandy\", fullname=\"Sandy New\")\n",
    "with Session(engine) as session:\n",
    "    session.add(sandy)\n",
    "    session.commit()\n",
    "    print(session.execute(select(User)).all())"
   ]
  },
  {
   "cell_type": "code",
   "execution_count": 44,
   "metadata": {},
   "outputs": [
    {
     "name": "stdout",
     "output_type": "stream",
     "text": [
      "False\n",
      "True\n"
     ]
    }
   ],
   "source": [
    "session = Session(engine)\n",
    "session.add(new_sandy)\n",
    "print(sandy in session)\n",
    "print(new_sandy in session)\n",
    "\n",
    "# session.commit()\n",
    "session.close()"
   ]
  },
  {
   "cell_type": "code",
   "execution_count": 43,
   "metadata": {},
   "outputs": [
    {
     "name": "stdout",
     "output_type": "stream",
     "text": [
      "2022-03-17 15:48:17,311 INFO sqlalchemy.engine.Engine BEGIN (implicit)\n",
      "2022-03-17 15:48:17,312 INFO sqlalchemy.engine.Engine SELECT user_accounts.name, user_accounts.fullname \n",
      "FROM user_accounts\n",
      "2022-03-17 15:48:17,313 INFO sqlalchemy.engine.Engine [cached since 2083s ago] ()\n",
      "False\n",
      "False\n",
      "True\n",
      "True\n",
      "2022-03-17 15:48:17,315 INFO sqlalchemy.engine.Engine ROLLBACK\n"
     ]
    }
   ],
   "source": [
    "session = Session(engine)\n",
    "users = session.execute(select(User)).scalars().all()\n",
    "\n",
    "print(sandy in session)\n",
    "print(new_sandy in session)\n",
    "\n",
    "print(sandy in users)\n",
    "print(new_sandy in users)\n",
    "\n",
    "session.close()"
   ]
  },
  {
   "cell_type": "code",
   "execution_count": null,
   "metadata": {},
   "outputs": [],
   "source": [
    "# adding to a session does not check for primary key uniquity violation, but the database itself does, when committing.\n",
    "# querying instances does not add them to the session. (????)\n",
    "# session contains references, so when checking for containing instances with 'in', actual references are checked, not __eq__ or primary_key\n",
    "# query result contains instances, so when checking for containing instances with 'in', instances are checked by usage of __eq__"
   ]
  },
  {
   "cell_type": "code",
   "execution_count": 46,
   "metadata": {},
   "outputs": [
    {
     "name": "stdout",
     "output_type": "stream",
     "text": [
      "[]\n"
     ]
    }
   ],
   "source": [
    "session = Session(engine)\n",
    "\n",
    "session.add(new_sandy)\n",
    "print(session.identity_map.values())\n",
    "\n",
    "session.close()"
   ]
  },
  {
   "cell_type": "code",
   "execution_count": 7,
   "metadata": {},
   "outputs": [
    {
     "name": "stdout",
     "output_type": "stream",
     "text": [
      "2022-03-10 17:48:05,538 INFO sqlalchemy.engine.Engine BEGIN (implicit)\n",
      "2022-03-10 17:48:05,540 INFO sqlalchemy.engine.Engine SELECT user_accounts.name, user_accounts.fullname \n",
      "FROM user_accounts\n",
      "2022-03-10 17:48:05,540 INFO sqlalchemy.engine.Engine [cached since 359.4s ago] ()\n",
      "[User(name=sandy, fullname=Sandy New)]\n",
      "2022-03-10 17:48:05,543 INFO sqlalchemy.engine.Engine SELECT user_accounts.name, user_accounts.fullname \n",
      "FROM user_accounts \n",
      "WHERE user_accounts.name = ?\n",
      "2022-03-10 17:48:05,543 INFO sqlalchemy.engine.Engine [cached since 19.4s ago] ('sandy',)\n",
      "2022-03-10 17:48:05,545 INFO sqlalchemy.engine.Engine COMMIT\n"
     ]
    }
   ],
   "source": [
    "with Session(engine) as session:\n",
    "    existing_users = session.execute(select(User)).scalars().all()\n",
    "    print(existing_users)\n",
    "    if new_sandy in existing_users:\n",
    "        user_to_update = session.execute(select(User).where(User.name == new_sandy.name)).scalar_one()\n",
    "        user_to_update.fullname = new_sandy.fullname\n",
    "    session.commit()"
   ]
  },
  {
   "cell_type": "code",
   "execution_count": 10,
   "metadata": {},
   "outputs": [
    {
     "name": "stdout",
     "output_type": "stream",
     "text": [
      "2022-03-10 17:48:32,297 INFO sqlalchemy.engine.Engine BEGIN (implicit)\n",
      "2022-03-10 17:48:32,298 INFO sqlalchemy.engine.Engine SELECT user_accounts.name, user_accounts.fullname \n",
      "FROM user_accounts\n",
      "2022-03-10 17:48:32,299 INFO sqlalchemy.engine.Engine [cached since 386.1s ago] ()\n",
      "[User(name=sandy, fullname=Sandy New)]\n",
      "2022-03-10 17:48:32,300 INFO sqlalchemy.engine.Engine ROLLBACK\n"
     ]
    }
   ],
   "source": [
    "with Session(engine) as session:\n",
    "    print(session.execute(select(User)).scalars().all())"
   ]
  },
  {
   "cell_type": "code",
   "execution_count": 54,
   "metadata": {},
   "outputs": [
    {
     "name": "stdout",
     "output_type": "stream",
     "text": [
      "2022-03-20 02:03:22,893 INFO sqlalchemy.engine.Engine BEGIN (implicit)\n",
      "2022-03-20 02:03:22,895 INFO sqlalchemy.engine.Engine SELECT user_accounts.name, user_accounts.fullname \n",
      "FROM user_accounts\n",
      "2022-03-20 02:03:22,895 INFO sqlalchemy.engine.Engine [cached since 248.5s ago] ()\n",
      "User(name=sandy, fullname=Sandy Cheeks)\n",
      "2022-03-20 02:03:22,900 INFO sqlalchemy.engine.Engine INSERT INTO user_accounts (name, fullname) VALUES (?, ?)\n",
      "2022-03-20 02:03:22,900 INFO sqlalchemy.engine.Engine [cached since 248.5s ago] ('sandy', 'Sandy New')\n",
      "2022-03-20 02:03:22,902 INFO sqlalchemy.engine.Engine ROLLBACK\n"
     ]
    },
    {
     "name": "stderr",
     "output_type": "stream",
     "text": [
      "/var/folders/qt/k5txb7556tz0pk9dmksrt2sr0000gn/T/ipykernel_87545/989246536.py:8: SAWarning: New instance <User at 0x112ebce80> with identity key (<class '__main__.User'>, ('sandy',), None) conflicts with persistent instance <User at 0x11308c4c0>\n",
      "  session.commit()\n"
     ]
    },
    {
     "ename": "IntegrityError",
     "evalue": "(sqlite3.IntegrityError) UNIQUE constraint failed: user_accounts.name\n[SQL: INSERT INTO user_accounts (name, fullname) VALUES (?, ?)]\n[parameters: ('sandy', 'Sandy New')]\n(Background on this error at: https://sqlalche.me/e/14/gkpj)",
     "output_type": "error",
     "traceback": [
      "\u001b[0;31m---------------------------------------------------------------------------\u001b[0m",
      "\u001b[0;31mIntegrityError\u001b[0m                            Traceback (most recent call last)",
      "File \u001b[0;32m~/.local/share/virtualenvs/playground-MkuFeJM_/lib/python3.9/site-packages/sqlalchemy/engine/base.py:1802\u001b[0m, in \u001b[0;36mConnection._execute_context\u001b[0;34m(self, dialect, constructor, statement, parameters, execution_options, *args, **kw)\u001b[0m\n\u001b[1;32m   <a href='file:///Users/martin/.local/share/virtualenvs/playground-MkuFeJM_/lib/python3.9/site-packages/sqlalchemy/engine/base.py?line=1800'>1801</a>\u001b[0m     \u001b[39mif\u001b[39;00m \u001b[39mnot\u001b[39;00m evt_handled:\n\u001b[0;32m-> <a href='file:///Users/martin/.local/share/virtualenvs/playground-MkuFeJM_/lib/python3.9/site-packages/sqlalchemy/engine/base.py?line=1801'>1802</a>\u001b[0m         \u001b[39mself\u001b[39;49m\u001b[39m.\u001b[39;49mdialect\u001b[39m.\u001b[39;49mdo_execute(\n\u001b[1;32m   <a href='file:///Users/martin/.local/share/virtualenvs/playground-MkuFeJM_/lib/python3.9/site-packages/sqlalchemy/engine/base.py?line=1802'>1803</a>\u001b[0m             cursor, statement, parameters, context\n\u001b[1;32m   <a href='file:///Users/martin/.local/share/virtualenvs/playground-MkuFeJM_/lib/python3.9/site-packages/sqlalchemy/engine/base.py?line=1803'>1804</a>\u001b[0m         )\n\u001b[1;32m   <a href='file:///Users/martin/.local/share/virtualenvs/playground-MkuFeJM_/lib/python3.9/site-packages/sqlalchemy/engine/base.py?line=1805'>1806</a>\u001b[0m \u001b[39mif\u001b[39;00m \u001b[39mself\u001b[39m\u001b[39m.\u001b[39m_has_events \u001b[39mor\u001b[39;00m \u001b[39mself\u001b[39m\u001b[39m.\u001b[39mengine\u001b[39m.\u001b[39m_has_events:\n",
      "File \u001b[0;32m~/.local/share/virtualenvs/playground-MkuFeJM_/lib/python3.9/site-packages/sqlalchemy/engine/default.py:732\u001b[0m, in \u001b[0;36mDefaultDialect.do_execute\u001b[0;34m(self, cursor, statement, parameters, context)\u001b[0m\n\u001b[1;32m    <a href='file:///Users/martin/.local/share/virtualenvs/playground-MkuFeJM_/lib/python3.9/site-packages/sqlalchemy/engine/default.py?line=730'>731</a>\u001b[0m \u001b[39mdef\u001b[39;00m \u001b[39mdo_execute\u001b[39m(\u001b[39mself\u001b[39m, cursor, statement, parameters, context\u001b[39m=\u001b[39m\u001b[39mNone\u001b[39;00m):\n\u001b[0;32m--> <a href='file:///Users/martin/.local/share/virtualenvs/playground-MkuFeJM_/lib/python3.9/site-packages/sqlalchemy/engine/default.py?line=731'>732</a>\u001b[0m     cursor\u001b[39m.\u001b[39;49mexecute(statement, parameters)\n",
      "\u001b[0;31mIntegrityError\u001b[0m: UNIQUE constraint failed: user_accounts.name",
      "\nThe above exception was the direct cause of the following exception:\n",
      "\u001b[0;31mIntegrityError\u001b[0m                            Traceback (most recent call last)",
      "\u001b[1;32m/Users/martin/Documents/devel/playground/software_dev/sqlalchemy_orm/update.ipynb Cell 8'\u001b[0m in \u001b[0;36m<cell line: 1>\u001b[0;34m()\u001b[0m\n\u001b[1;32m      <a href='vscode-notebook-cell:/Users/martin/Documents/devel/playground/software_dev/sqlalchemy_orm/update.ipynb#ch0000009?line=5'>6</a>\u001b[0m session\u001b[39m.\u001b[39mflush()\n\u001b[1;32m      <a href='vscode-notebook-cell:/Users/martin/Documents/devel/playground/software_dev/sqlalchemy_orm/update.ipynb#ch0000009?line=6'>7</a>\u001b[0m session\u001b[39m.\u001b[39madd(another_sandy)\n\u001b[0;32m----> <a href='vscode-notebook-cell:/Users/martin/Documents/devel/playground/software_dev/sqlalchemy_orm/update.ipynb#ch0000009?line=7'>8</a>\u001b[0m session\u001b[39m.\u001b[39;49mcommit()\n",
      "File \u001b[0;32m~/.local/share/virtualenvs/playground-MkuFeJM_/lib/python3.9/site-packages/sqlalchemy/orm/session.py:1431\u001b[0m, in \u001b[0;36mSession.commit\u001b[0;34m(self)\u001b[0m\n\u001b[1;32m   <a href='file:///Users/martin/.local/share/virtualenvs/playground-MkuFeJM_/lib/python3.9/site-packages/sqlalchemy/orm/session.py?line=1427'>1428</a>\u001b[0m     \u001b[39mif\u001b[39;00m \u001b[39mnot\u001b[39;00m \u001b[39mself\u001b[39m\u001b[39m.\u001b[39m_autobegin():\n\u001b[1;32m   <a href='file:///Users/martin/.local/share/virtualenvs/playground-MkuFeJM_/lib/python3.9/site-packages/sqlalchemy/orm/session.py?line=1428'>1429</a>\u001b[0m         \u001b[39mraise\u001b[39;00m sa_exc\u001b[39m.\u001b[39mInvalidRequestError(\u001b[39m\"\u001b[39m\u001b[39mNo transaction is begun.\u001b[39m\u001b[39m\"\u001b[39m)\n\u001b[0;32m-> <a href='file:///Users/martin/.local/share/virtualenvs/playground-MkuFeJM_/lib/python3.9/site-packages/sqlalchemy/orm/session.py?line=1430'>1431</a>\u001b[0m \u001b[39mself\u001b[39;49m\u001b[39m.\u001b[39;49m_transaction\u001b[39m.\u001b[39;49mcommit(_to_root\u001b[39m=\u001b[39;49m\u001b[39mself\u001b[39;49m\u001b[39m.\u001b[39;49mfuture)\n",
      "File \u001b[0;32m~/.local/share/virtualenvs/playground-MkuFeJM_/lib/python3.9/site-packages/sqlalchemy/orm/session.py:829\u001b[0m, in \u001b[0;36mSessionTransaction.commit\u001b[0;34m(self, _to_root)\u001b[0m\n\u001b[1;32m    <a href='file:///Users/martin/.local/share/virtualenvs/playground-MkuFeJM_/lib/python3.9/site-packages/sqlalchemy/orm/session.py?line=826'>827</a>\u001b[0m \u001b[39mself\u001b[39m\u001b[39m.\u001b[39m_assert_active(prepared_ok\u001b[39m=\u001b[39m\u001b[39mTrue\u001b[39;00m)\n\u001b[1;32m    <a href='file:///Users/martin/.local/share/virtualenvs/playground-MkuFeJM_/lib/python3.9/site-packages/sqlalchemy/orm/session.py?line=827'>828</a>\u001b[0m \u001b[39mif\u001b[39;00m \u001b[39mself\u001b[39m\u001b[39m.\u001b[39m_state \u001b[39mis\u001b[39;00m \u001b[39mnot\u001b[39;00m PREPARED:\n\u001b[0;32m--> <a href='file:///Users/martin/.local/share/virtualenvs/playground-MkuFeJM_/lib/python3.9/site-packages/sqlalchemy/orm/session.py?line=828'>829</a>\u001b[0m     \u001b[39mself\u001b[39;49m\u001b[39m.\u001b[39;49m_prepare_impl()\n\u001b[1;32m    <a href='file:///Users/martin/.local/share/virtualenvs/playground-MkuFeJM_/lib/python3.9/site-packages/sqlalchemy/orm/session.py?line=830'>831</a>\u001b[0m \u001b[39mif\u001b[39;00m \u001b[39mself\u001b[39m\u001b[39m.\u001b[39m_parent \u001b[39mis\u001b[39;00m \u001b[39mNone\u001b[39;00m \u001b[39mor\u001b[39;00m \u001b[39mself\u001b[39m\u001b[39m.\u001b[39mnested:\n\u001b[1;32m    <a href='file:///Users/martin/.local/share/virtualenvs/playground-MkuFeJM_/lib/python3.9/site-packages/sqlalchemy/orm/session.py?line=831'>832</a>\u001b[0m     \u001b[39mfor\u001b[39;00m conn, trans, should_commit, autoclose \u001b[39min\u001b[39;00m \u001b[39mset\u001b[39m(\n\u001b[1;32m    <a href='file:///Users/martin/.local/share/virtualenvs/playground-MkuFeJM_/lib/python3.9/site-packages/sqlalchemy/orm/session.py?line=832'>833</a>\u001b[0m         \u001b[39mself\u001b[39m\u001b[39m.\u001b[39m_connections\u001b[39m.\u001b[39mvalues()\n\u001b[1;32m    <a href='file:///Users/martin/.local/share/virtualenvs/playground-MkuFeJM_/lib/python3.9/site-packages/sqlalchemy/orm/session.py?line=833'>834</a>\u001b[0m     ):\n",
      "File \u001b[0;32m~/.local/share/virtualenvs/playground-MkuFeJM_/lib/python3.9/site-packages/sqlalchemy/orm/session.py:808\u001b[0m, in \u001b[0;36mSessionTransaction._prepare_impl\u001b[0;34m(self)\u001b[0m\n\u001b[1;32m    <a href='file:///Users/martin/.local/share/virtualenvs/playground-MkuFeJM_/lib/python3.9/site-packages/sqlalchemy/orm/session.py?line=805'>806</a>\u001b[0m     \u001b[39mif\u001b[39;00m \u001b[39mself\u001b[39m\u001b[39m.\u001b[39msession\u001b[39m.\u001b[39m_is_clean():\n\u001b[1;32m    <a href='file:///Users/martin/.local/share/virtualenvs/playground-MkuFeJM_/lib/python3.9/site-packages/sqlalchemy/orm/session.py?line=806'>807</a>\u001b[0m         \u001b[39mbreak\u001b[39;00m\n\u001b[0;32m--> <a href='file:///Users/martin/.local/share/virtualenvs/playground-MkuFeJM_/lib/python3.9/site-packages/sqlalchemy/orm/session.py?line=807'>808</a>\u001b[0m     \u001b[39mself\u001b[39;49m\u001b[39m.\u001b[39;49msession\u001b[39m.\u001b[39;49mflush()\n\u001b[1;32m    <a href='file:///Users/martin/.local/share/virtualenvs/playground-MkuFeJM_/lib/python3.9/site-packages/sqlalchemy/orm/session.py?line=808'>809</a>\u001b[0m \u001b[39melse\u001b[39;00m:\n\u001b[1;32m    <a href='file:///Users/martin/.local/share/virtualenvs/playground-MkuFeJM_/lib/python3.9/site-packages/sqlalchemy/orm/session.py?line=809'>810</a>\u001b[0m     \u001b[39mraise\u001b[39;00m exc\u001b[39m.\u001b[39mFlushError(\n\u001b[1;32m    <a href='file:///Users/martin/.local/share/virtualenvs/playground-MkuFeJM_/lib/python3.9/site-packages/sqlalchemy/orm/session.py?line=810'>811</a>\u001b[0m         \u001b[39m\"\u001b[39m\u001b[39mOver 100 subsequent flushes have occurred within \u001b[39m\u001b[39m\"\u001b[39m\n\u001b[1;32m    <a href='file:///Users/martin/.local/share/virtualenvs/playground-MkuFeJM_/lib/python3.9/site-packages/sqlalchemy/orm/session.py?line=811'>812</a>\u001b[0m         \u001b[39m\"\u001b[39m\u001b[39msession.commit() - is an after_flush() hook \u001b[39m\u001b[39m\"\u001b[39m\n\u001b[1;32m    <a href='file:///Users/martin/.local/share/virtualenvs/playground-MkuFeJM_/lib/python3.9/site-packages/sqlalchemy/orm/session.py?line=812'>813</a>\u001b[0m         \u001b[39m\"\u001b[39m\u001b[39mcreating new objects?\u001b[39m\u001b[39m\"\u001b[39m\n\u001b[1;32m    <a href='file:///Users/martin/.local/share/virtualenvs/playground-MkuFeJM_/lib/python3.9/site-packages/sqlalchemy/orm/session.py?line=813'>814</a>\u001b[0m     )\n",
      "File \u001b[0;32m~/.local/share/virtualenvs/playground-MkuFeJM_/lib/python3.9/site-packages/sqlalchemy/orm/session.py:3363\u001b[0m, in \u001b[0;36mSession.flush\u001b[0;34m(self, objects)\u001b[0m\n\u001b[1;32m   <a href='file:///Users/martin/.local/share/virtualenvs/playground-MkuFeJM_/lib/python3.9/site-packages/sqlalchemy/orm/session.py?line=3360'>3361</a>\u001b[0m \u001b[39mtry\u001b[39;00m:\n\u001b[1;32m   <a href='file:///Users/martin/.local/share/virtualenvs/playground-MkuFeJM_/lib/python3.9/site-packages/sqlalchemy/orm/session.py?line=3361'>3362</a>\u001b[0m     \u001b[39mself\u001b[39m\u001b[39m.\u001b[39m_flushing \u001b[39m=\u001b[39m \u001b[39mTrue\u001b[39;00m\n\u001b[0;32m-> <a href='file:///Users/martin/.local/share/virtualenvs/playground-MkuFeJM_/lib/python3.9/site-packages/sqlalchemy/orm/session.py?line=3362'>3363</a>\u001b[0m     \u001b[39mself\u001b[39;49m\u001b[39m.\u001b[39;49m_flush(objects)\n\u001b[1;32m   <a href='file:///Users/martin/.local/share/virtualenvs/playground-MkuFeJM_/lib/python3.9/site-packages/sqlalchemy/orm/session.py?line=3363'>3364</a>\u001b[0m \u001b[39mfinally\u001b[39;00m:\n\u001b[1;32m   <a href='file:///Users/martin/.local/share/virtualenvs/playground-MkuFeJM_/lib/python3.9/site-packages/sqlalchemy/orm/session.py?line=3364'>3365</a>\u001b[0m     \u001b[39mself\u001b[39m\u001b[39m.\u001b[39m_flushing \u001b[39m=\u001b[39m \u001b[39mFalse\u001b[39;00m\n",
      "File \u001b[0;32m~/.local/share/virtualenvs/playground-MkuFeJM_/lib/python3.9/site-packages/sqlalchemy/orm/session.py:3503\u001b[0m, in \u001b[0;36mSession._flush\u001b[0;34m(self, objects)\u001b[0m\n\u001b[1;32m   <a href='file:///Users/martin/.local/share/virtualenvs/playground-MkuFeJM_/lib/python3.9/site-packages/sqlalchemy/orm/session.py?line=3500'>3501</a>\u001b[0m \u001b[39mexcept\u001b[39;00m:\n\u001b[1;32m   <a href='file:///Users/martin/.local/share/virtualenvs/playground-MkuFeJM_/lib/python3.9/site-packages/sqlalchemy/orm/session.py?line=3501'>3502</a>\u001b[0m     \u001b[39mwith\u001b[39;00m util\u001b[39m.\u001b[39msafe_reraise():\n\u001b[0;32m-> <a href='file:///Users/martin/.local/share/virtualenvs/playground-MkuFeJM_/lib/python3.9/site-packages/sqlalchemy/orm/session.py?line=3502'>3503</a>\u001b[0m         transaction\u001b[39m.\u001b[39mrollback(_capture_exception\u001b[39m=\u001b[39m\u001b[39mTrue\u001b[39;00m)\n",
      "File \u001b[0;32m~/.local/share/virtualenvs/playground-MkuFeJM_/lib/python3.9/site-packages/sqlalchemy/util/langhelpers.py:70\u001b[0m, in \u001b[0;36msafe_reraise.__exit__\u001b[0;34m(self, type_, value, traceback)\u001b[0m\n\u001b[1;32m     <a href='file:///Users/martin/.local/share/virtualenvs/playground-MkuFeJM_/lib/python3.9/site-packages/sqlalchemy/util/langhelpers.py?line=67'>68</a>\u001b[0m     \u001b[39mself\u001b[39m\u001b[39m.\u001b[39m_exc_info \u001b[39m=\u001b[39m \u001b[39mNone\u001b[39;00m  \u001b[39m# remove potential circular references\u001b[39;00m\n\u001b[1;32m     <a href='file:///Users/martin/.local/share/virtualenvs/playground-MkuFeJM_/lib/python3.9/site-packages/sqlalchemy/util/langhelpers.py?line=68'>69</a>\u001b[0m     \u001b[39mif\u001b[39;00m \u001b[39mnot\u001b[39;00m \u001b[39mself\u001b[39m\u001b[39m.\u001b[39mwarn_only:\n\u001b[0;32m---> <a href='file:///Users/martin/.local/share/virtualenvs/playground-MkuFeJM_/lib/python3.9/site-packages/sqlalchemy/util/langhelpers.py?line=69'>70</a>\u001b[0m         compat\u001b[39m.\u001b[39;49mraise_(\n\u001b[1;32m     <a href='file:///Users/martin/.local/share/virtualenvs/playground-MkuFeJM_/lib/python3.9/site-packages/sqlalchemy/util/langhelpers.py?line=70'>71</a>\u001b[0m             exc_value,\n\u001b[1;32m     <a href='file:///Users/martin/.local/share/virtualenvs/playground-MkuFeJM_/lib/python3.9/site-packages/sqlalchemy/util/langhelpers.py?line=71'>72</a>\u001b[0m             with_traceback\u001b[39m=\u001b[39;49mexc_tb,\n\u001b[1;32m     <a href='file:///Users/martin/.local/share/virtualenvs/playground-MkuFeJM_/lib/python3.9/site-packages/sqlalchemy/util/langhelpers.py?line=72'>73</a>\u001b[0m         )\n\u001b[1;32m     <a href='file:///Users/martin/.local/share/virtualenvs/playground-MkuFeJM_/lib/python3.9/site-packages/sqlalchemy/util/langhelpers.py?line=73'>74</a>\u001b[0m \u001b[39melse\u001b[39;00m:\n\u001b[1;32m     <a href='file:///Users/martin/.local/share/virtualenvs/playground-MkuFeJM_/lib/python3.9/site-packages/sqlalchemy/util/langhelpers.py?line=74'>75</a>\u001b[0m     \u001b[39mif\u001b[39;00m \u001b[39mnot\u001b[39;00m compat\u001b[39m.\u001b[39mpy3k \u001b[39mand\u001b[39;00m \u001b[39mself\u001b[39m\u001b[39m.\u001b[39m_exc_info \u001b[39mand\u001b[39;00m \u001b[39mself\u001b[39m\u001b[39m.\u001b[39m_exc_info[\u001b[39m1\u001b[39m]:\n\u001b[1;32m     <a href='file:///Users/martin/.local/share/virtualenvs/playground-MkuFeJM_/lib/python3.9/site-packages/sqlalchemy/util/langhelpers.py?line=75'>76</a>\u001b[0m         \u001b[39m# emulate Py3K's behavior of telling us when an exception\u001b[39;00m\n\u001b[1;32m     <a href='file:///Users/martin/.local/share/virtualenvs/playground-MkuFeJM_/lib/python3.9/site-packages/sqlalchemy/util/langhelpers.py?line=76'>77</a>\u001b[0m         \u001b[39m# occurs in an exception handler.\u001b[39;00m\n",
      "File \u001b[0;32m~/.local/share/virtualenvs/playground-MkuFeJM_/lib/python3.9/site-packages/sqlalchemy/util/compat.py:207\u001b[0m, in \u001b[0;36mraise_\u001b[0;34m(***failed resolving arguments***)\u001b[0m\n\u001b[1;32m    <a href='file:///Users/martin/.local/share/virtualenvs/playground-MkuFeJM_/lib/python3.9/site-packages/sqlalchemy/util/compat.py?line=203'>204</a>\u001b[0m     exception\u001b[39m.\u001b[39m__cause__ \u001b[39m=\u001b[39m replace_context\n\u001b[1;32m    <a href='file:///Users/martin/.local/share/virtualenvs/playground-MkuFeJM_/lib/python3.9/site-packages/sqlalchemy/util/compat.py?line=205'>206</a>\u001b[0m \u001b[39mtry\u001b[39;00m:\n\u001b[0;32m--> <a href='file:///Users/martin/.local/share/virtualenvs/playground-MkuFeJM_/lib/python3.9/site-packages/sqlalchemy/util/compat.py?line=206'>207</a>\u001b[0m     \u001b[39mraise\u001b[39;00m exception\n\u001b[1;32m    <a href='file:///Users/martin/.local/share/virtualenvs/playground-MkuFeJM_/lib/python3.9/site-packages/sqlalchemy/util/compat.py?line=207'>208</a>\u001b[0m \u001b[39mfinally\u001b[39;00m:\n\u001b[1;32m    <a href='file:///Users/martin/.local/share/virtualenvs/playground-MkuFeJM_/lib/python3.9/site-packages/sqlalchemy/util/compat.py?line=208'>209</a>\u001b[0m     \u001b[39m# credit to\u001b[39;00m\n\u001b[1;32m    <a href='file:///Users/martin/.local/share/virtualenvs/playground-MkuFeJM_/lib/python3.9/site-packages/sqlalchemy/util/compat.py?line=209'>210</a>\u001b[0m     \u001b[39m# https://cosmicpercolator.com/2016/01/13/exception-leaks-in-python-2-and-3/\u001b[39;00m\n\u001b[1;32m    <a href='file:///Users/martin/.local/share/virtualenvs/playground-MkuFeJM_/lib/python3.9/site-packages/sqlalchemy/util/compat.py?line=210'>211</a>\u001b[0m     \u001b[39m# as the __traceback__ object creates a cycle\u001b[39;00m\n\u001b[1;32m    <a href='file:///Users/martin/.local/share/virtualenvs/playground-MkuFeJM_/lib/python3.9/site-packages/sqlalchemy/util/compat.py?line=211'>212</a>\u001b[0m     \u001b[39mdel\u001b[39;00m exception, replace_context, from_, with_traceback\n",
      "File \u001b[0;32m~/.local/share/virtualenvs/playground-MkuFeJM_/lib/python3.9/site-packages/sqlalchemy/orm/session.py:3463\u001b[0m, in \u001b[0;36mSession._flush\u001b[0;34m(self, objects)\u001b[0m\n\u001b[1;32m   <a href='file:///Users/martin/.local/share/virtualenvs/playground-MkuFeJM_/lib/python3.9/site-packages/sqlalchemy/orm/session.py?line=3460'>3461</a>\u001b[0m \u001b[39mself\u001b[39m\u001b[39m.\u001b[39m_warn_on_events \u001b[39m=\u001b[39m \u001b[39mTrue\u001b[39;00m\n\u001b[1;32m   <a href='file:///Users/martin/.local/share/virtualenvs/playground-MkuFeJM_/lib/python3.9/site-packages/sqlalchemy/orm/session.py?line=3461'>3462</a>\u001b[0m \u001b[39mtry\u001b[39;00m:\n\u001b[0;32m-> <a href='file:///Users/martin/.local/share/virtualenvs/playground-MkuFeJM_/lib/python3.9/site-packages/sqlalchemy/orm/session.py?line=3462'>3463</a>\u001b[0m     flush_context\u001b[39m.\u001b[39;49mexecute()\n\u001b[1;32m   <a href='file:///Users/martin/.local/share/virtualenvs/playground-MkuFeJM_/lib/python3.9/site-packages/sqlalchemy/orm/session.py?line=3463'>3464</a>\u001b[0m \u001b[39mfinally\u001b[39;00m:\n\u001b[1;32m   <a href='file:///Users/martin/.local/share/virtualenvs/playground-MkuFeJM_/lib/python3.9/site-packages/sqlalchemy/orm/session.py?line=3464'>3465</a>\u001b[0m     \u001b[39mself\u001b[39m\u001b[39m.\u001b[39m_warn_on_events \u001b[39m=\u001b[39m \u001b[39mFalse\u001b[39;00m\n",
      "File \u001b[0;32m~/.local/share/virtualenvs/playground-MkuFeJM_/lib/python3.9/site-packages/sqlalchemy/orm/unitofwork.py:456\u001b[0m, in \u001b[0;36mUOWTransaction.execute\u001b[0;34m(self)\u001b[0m\n\u001b[1;32m    <a href='file:///Users/martin/.local/share/virtualenvs/playground-MkuFeJM_/lib/python3.9/site-packages/sqlalchemy/orm/unitofwork.py?line=453'>454</a>\u001b[0m \u001b[39melse\u001b[39;00m:\n\u001b[1;32m    <a href='file:///Users/martin/.local/share/virtualenvs/playground-MkuFeJM_/lib/python3.9/site-packages/sqlalchemy/orm/unitofwork.py?line=454'>455</a>\u001b[0m     \u001b[39mfor\u001b[39;00m rec \u001b[39min\u001b[39;00m topological\u001b[39m.\u001b[39msort(\u001b[39mself\u001b[39m\u001b[39m.\u001b[39mdependencies, postsort_actions):\n\u001b[0;32m--> <a href='file:///Users/martin/.local/share/virtualenvs/playground-MkuFeJM_/lib/python3.9/site-packages/sqlalchemy/orm/unitofwork.py?line=455'>456</a>\u001b[0m         rec\u001b[39m.\u001b[39;49mexecute(\u001b[39mself\u001b[39;49m)\n",
      "File \u001b[0;32m~/.local/share/virtualenvs/playground-MkuFeJM_/lib/python3.9/site-packages/sqlalchemy/orm/unitofwork.py:630\u001b[0m, in \u001b[0;36mSaveUpdateAll.execute\u001b[0;34m(self, uow)\u001b[0m\n\u001b[1;32m    <a href='file:///Users/martin/.local/share/virtualenvs/playground-MkuFeJM_/lib/python3.9/site-packages/sqlalchemy/orm/unitofwork.py?line=627'>628</a>\u001b[0m \u001b[39m@util\u001b[39m\u001b[39m.\u001b[39mpreload_module(\u001b[39m\"\u001b[39m\u001b[39msqlalchemy.orm.persistence\u001b[39m\u001b[39m\"\u001b[39m)\n\u001b[1;32m    <a href='file:///Users/martin/.local/share/virtualenvs/playground-MkuFeJM_/lib/python3.9/site-packages/sqlalchemy/orm/unitofwork.py?line=628'>629</a>\u001b[0m \u001b[39mdef\u001b[39;00m \u001b[39mexecute\u001b[39m(\u001b[39mself\u001b[39m, uow):\n\u001b[0;32m--> <a href='file:///Users/martin/.local/share/virtualenvs/playground-MkuFeJM_/lib/python3.9/site-packages/sqlalchemy/orm/unitofwork.py?line=629'>630</a>\u001b[0m     util\u001b[39m.\u001b[39;49mpreloaded\u001b[39m.\u001b[39;49morm_persistence\u001b[39m.\u001b[39;49msave_obj(\n\u001b[1;32m    <a href='file:///Users/martin/.local/share/virtualenvs/playground-MkuFeJM_/lib/python3.9/site-packages/sqlalchemy/orm/unitofwork.py?line=630'>631</a>\u001b[0m         \u001b[39mself\u001b[39;49m\u001b[39m.\u001b[39;49mmapper,\n\u001b[1;32m    <a href='file:///Users/martin/.local/share/virtualenvs/playground-MkuFeJM_/lib/python3.9/site-packages/sqlalchemy/orm/unitofwork.py?line=631'>632</a>\u001b[0m         uow\u001b[39m.\u001b[39;49mstates_for_mapper_hierarchy(\u001b[39mself\u001b[39;49m\u001b[39m.\u001b[39;49mmapper, \u001b[39mFalse\u001b[39;49;00m, \u001b[39mFalse\u001b[39;49;00m),\n\u001b[1;32m    <a href='file:///Users/martin/.local/share/virtualenvs/playground-MkuFeJM_/lib/python3.9/site-packages/sqlalchemy/orm/unitofwork.py?line=632'>633</a>\u001b[0m         uow,\n\u001b[1;32m    <a href='file:///Users/martin/.local/share/virtualenvs/playground-MkuFeJM_/lib/python3.9/site-packages/sqlalchemy/orm/unitofwork.py?line=633'>634</a>\u001b[0m     )\n",
      "File \u001b[0;32m~/.local/share/virtualenvs/playground-MkuFeJM_/lib/python3.9/site-packages/sqlalchemy/orm/persistence.py:244\u001b[0m, in \u001b[0;36msave_obj\u001b[0;34m(base_mapper, states, uowtransaction, single)\u001b[0m\n\u001b[1;32m    <a href='file:///Users/martin/.local/share/virtualenvs/playground-MkuFeJM_/lib/python3.9/site-packages/sqlalchemy/orm/persistence.py?line=231'>232</a>\u001b[0m     update \u001b[39m=\u001b[39m _collect_update_commands(\n\u001b[1;32m    <a href='file:///Users/martin/.local/share/virtualenvs/playground-MkuFeJM_/lib/python3.9/site-packages/sqlalchemy/orm/persistence.py?line=232'>233</a>\u001b[0m         uowtransaction, table, states_to_update\n\u001b[1;32m    <a href='file:///Users/martin/.local/share/virtualenvs/playground-MkuFeJM_/lib/python3.9/site-packages/sqlalchemy/orm/persistence.py?line=233'>234</a>\u001b[0m     )\n\u001b[1;32m    <a href='file:///Users/martin/.local/share/virtualenvs/playground-MkuFeJM_/lib/python3.9/site-packages/sqlalchemy/orm/persistence.py?line=235'>236</a>\u001b[0m     _emit_update_statements(\n\u001b[1;32m    <a href='file:///Users/martin/.local/share/virtualenvs/playground-MkuFeJM_/lib/python3.9/site-packages/sqlalchemy/orm/persistence.py?line=236'>237</a>\u001b[0m         base_mapper,\n\u001b[1;32m    <a href='file:///Users/martin/.local/share/virtualenvs/playground-MkuFeJM_/lib/python3.9/site-packages/sqlalchemy/orm/persistence.py?line=237'>238</a>\u001b[0m         uowtransaction,\n\u001b[0;32m   (...)\u001b[0m\n\u001b[1;32m    <a href='file:///Users/martin/.local/share/virtualenvs/playground-MkuFeJM_/lib/python3.9/site-packages/sqlalchemy/orm/persistence.py?line=240'>241</a>\u001b[0m         update,\n\u001b[1;32m    <a href='file:///Users/martin/.local/share/virtualenvs/playground-MkuFeJM_/lib/python3.9/site-packages/sqlalchemy/orm/persistence.py?line=241'>242</a>\u001b[0m     )\n\u001b[0;32m--> <a href='file:///Users/martin/.local/share/virtualenvs/playground-MkuFeJM_/lib/python3.9/site-packages/sqlalchemy/orm/persistence.py?line=243'>244</a>\u001b[0m     _emit_insert_statements(\n\u001b[1;32m    <a href='file:///Users/martin/.local/share/virtualenvs/playground-MkuFeJM_/lib/python3.9/site-packages/sqlalchemy/orm/persistence.py?line=244'>245</a>\u001b[0m         base_mapper,\n\u001b[1;32m    <a href='file:///Users/martin/.local/share/virtualenvs/playground-MkuFeJM_/lib/python3.9/site-packages/sqlalchemy/orm/persistence.py?line=245'>246</a>\u001b[0m         uowtransaction,\n\u001b[1;32m    <a href='file:///Users/martin/.local/share/virtualenvs/playground-MkuFeJM_/lib/python3.9/site-packages/sqlalchemy/orm/persistence.py?line=246'>247</a>\u001b[0m         mapper,\n\u001b[1;32m    <a href='file:///Users/martin/.local/share/virtualenvs/playground-MkuFeJM_/lib/python3.9/site-packages/sqlalchemy/orm/persistence.py?line=247'>248</a>\u001b[0m         table,\n\u001b[1;32m    <a href='file:///Users/martin/.local/share/virtualenvs/playground-MkuFeJM_/lib/python3.9/site-packages/sqlalchemy/orm/persistence.py?line=248'>249</a>\u001b[0m         insert,\n\u001b[1;32m    <a href='file:///Users/martin/.local/share/virtualenvs/playground-MkuFeJM_/lib/python3.9/site-packages/sqlalchemy/orm/persistence.py?line=249'>250</a>\u001b[0m     )\n\u001b[1;32m    <a href='file:///Users/martin/.local/share/virtualenvs/playground-MkuFeJM_/lib/python3.9/site-packages/sqlalchemy/orm/persistence.py?line=251'>252</a>\u001b[0m _finalize_insert_update_commands(\n\u001b[1;32m    <a href='file:///Users/martin/.local/share/virtualenvs/playground-MkuFeJM_/lib/python3.9/site-packages/sqlalchemy/orm/persistence.py?line=252'>253</a>\u001b[0m     base_mapper,\n\u001b[1;32m    <a href='file:///Users/martin/.local/share/virtualenvs/playground-MkuFeJM_/lib/python3.9/site-packages/sqlalchemy/orm/persistence.py?line=253'>254</a>\u001b[0m     uowtransaction,\n\u001b[0;32m   (...)\u001b[0m\n\u001b[1;32m    <a href='file:///Users/martin/.local/share/virtualenvs/playground-MkuFeJM_/lib/python3.9/site-packages/sqlalchemy/orm/persistence.py?line=269'>270</a>\u001b[0m     ),\n\u001b[1;32m    <a href='file:///Users/martin/.local/share/virtualenvs/playground-MkuFeJM_/lib/python3.9/site-packages/sqlalchemy/orm/persistence.py?line=270'>271</a>\u001b[0m )\n",
      "File \u001b[0;32m~/.local/share/virtualenvs/playground-MkuFeJM_/lib/python3.9/site-packages/sqlalchemy/orm/persistence.py:1096\u001b[0m, in \u001b[0;36m_emit_insert_statements\u001b[0;34m(base_mapper, uowtransaction, mapper, table, insert, bookkeeping)\u001b[0m\n\u001b[1;32m   <a href='file:///Users/martin/.local/share/virtualenvs/playground-MkuFeJM_/lib/python3.9/site-packages/sqlalchemy/orm/persistence.py?line=1092'>1093</a>\u001b[0m records \u001b[39m=\u001b[39m \u001b[39mlist\u001b[39m(records)\n\u001b[1;32m   <a href='file:///Users/martin/.local/share/virtualenvs/playground-MkuFeJM_/lib/python3.9/site-packages/sqlalchemy/orm/persistence.py?line=1093'>1094</a>\u001b[0m multiparams \u001b[39m=\u001b[39m [rec[\u001b[39m2\u001b[39m] \u001b[39mfor\u001b[39;00m rec \u001b[39min\u001b[39;00m records]\n\u001b[0;32m-> <a href='file:///Users/martin/.local/share/virtualenvs/playground-MkuFeJM_/lib/python3.9/site-packages/sqlalchemy/orm/persistence.py?line=1095'>1096</a>\u001b[0m c \u001b[39m=\u001b[39m connection\u001b[39m.\u001b[39;49m_execute_20(\n\u001b[1;32m   <a href='file:///Users/martin/.local/share/virtualenvs/playground-MkuFeJM_/lib/python3.9/site-packages/sqlalchemy/orm/persistence.py?line=1096'>1097</a>\u001b[0m     statement, multiparams, execution_options\u001b[39m=\u001b[39;49mexecution_options\n\u001b[1;32m   <a href='file:///Users/martin/.local/share/virtualenvs/playground-MkuFeJM_/lib/python3.9/site-packages/sqlalchemy/orm/persistence.py?line=1097'>1098</a>\u001b[0m )\n\u001b[1;32m   <a href='file:///Users/martin/.local/share/virtualenvs/playground-MkuFeJM_/lib/python3.9/site-packages/sqlalchemy/orm/persistence.py?line=1099'>1100</a>\u001b[0m \u001b[39mif\u001b[39;00m bookkeeping:\n\u001b[1;32m   <a href='file:///Users/martin/.local/share/virtualenvs/playground-MkuFeJM_/lib/python3.9/site-packages/sqlalchemy/orm/persistence.py?line=1100'>1101</a>\u001b[0m     \u001b[39mfor\u001b[39;00m (\n\u001b[1;32m   <a href='file:///Users/martin/.local/share/virtualenvs/playground-MkuFeJM_/lib/python3.9/site-packages/sqlalchemy/orm/persistence.py?line=1101'>1102</a>\u001b[0m         (\n\u001b[1;32m   <a href='file:///Users/martin/.local/share/virtualenvs/playground-MkuFeJM_/lib/python3.9/site-packages/sqlalchemy/orm/persistence.py?line=1102'>1103</a>\u001b[0m             state,\n\u001b[0;32m   (...)\u001b[0m\n\u001b[1;32m   <a href='file:///Users/martin/.local/share/virtualenvs/playground-MkuFeJM_/lib/python3.9/site-packages/sqlalchemy/orm/persistence.py?line=1111'>1112</a>\u001b[0m         last_inserted_params,\n\u001b[1;32m   <a href='file:///Users/martin/.local/share/virtualenvs/playground-MkuFeJM_/lib/python3.9/site-packages/sqlalchemy/orm/persistence.py?line=1112'>1113</a>\u001b[0m     ) \u001b[39min\u001b[39;00m \u001b[39mzip\u001b[39m(records, c\u001b[39m.\u001b[39mcontext\u001b[39m.\u001b[39mcompiled_parameters):\n",
      "File \u001b[0;32m~/.local/share/virtualenvs/playground-MkuFeJM_/lib/python3.9/site-packages/sqlalchemy/engine/base.py:1614\u001b[0m, in \u001b[0;36mConnection._execute_20\u001b[0;34m(self, statement, parameters, execution_options)\u001b[0m\n\u001b[1;32m   <a href='file:///Users/martin/.local/share/virtualenvs/playground-MkuFeJM_/lib/python3.9/site-packages/sqlalchemy/engine/base.py?line=1609'>1610</a>\u001b[0m     util\u001b[39m.\u001b[39mraise_(\n\u001b[1;32m   <a href='file:///Users/martin/.local/share/virtualenvs/playground-MkuFeJM_/lib/python3.9/site-packages/sqlalchemy/engine/base.py?line=1610'>1611</a>\u001b[0m         exc\u001b[39m.\u001b[39mObjectNotExecutableError(statement), replace_context\u001b[39m=\u001b[39merr\n\u001b[1;32m   <a href='file:///Users/martin/.local/share/virtualenvs/playground-MkuFeJM_/lib/python3.9/site-packages/sqlalchemy/engine/base.py?line=1611'>1612</a>\u001b[0m     )\n\u001b[1;32m   <a href='file:///Users/martin/.local/share/virtualenvs/playground-MkuFeJM_/lib/python3.9/site-packages/sqlalchemy/engine/base.py?line=1612'>1613</a>\u001b[0m \u001b[39melse\u001b[39;00m:\n\u001b[0;32m-> <a href='file:///Users/martin/.local/share/virtualenvs/playground-MkuFeJM_/lib/python3.9/site-packages/sqlalchemy/engine/base.py?line=1613'>1614</a>\u001b[0m     \u001b[39mreturn\u001b[39;00m meth(\u001b[39mself\u001b[39;49m, args_10style, kwargs_10style, execution_options)\n",
      "File \u001b[0;32m~/.local/share/virtualenvs/playground-MkuFeJM_/lib/python3.9/site-packages/sqlalchemy/sql/elements.py:325\u001b[0m, in \u001b[0;36mClauseElement._execute_on_connection\u001b[0;34m(self, connection, multiparams, params, execution_options, _force)\u001b[0m\n\u001b[1;32m    <a href='file:///Users/martin/.local/share/virtualenvs/playground-MkuFeJM_/lib/python3.9/site-packages/sqlalchemy/sql/elements.py?line=320'>321</a>\u001b[0m \u001b[39mdef\u001b[39;00m \u001b[39m_execute_on_connection\u001b[39m(\n\u001b[1;32m    <a href='file:///Users/martin/.local/share/virtualenvs/playground-MkuFeJM_/lib/python3.9/site-packages/sqlalchemy/sql/elements.py?line=321'>322</a>\u001b[0m     \u001b[39mself\u001b[39m, connection, multiparams, params, execution_options, _force\u001b[39m=\u001b[39m\u001b[39mFalse\u001b[39;00m\n\u001b[1;32m    <a href='file:///Users/martin/.local/share/virtualenvs/playground-MkuFeJM_/lib/python3.9/site-packages/sqlalchemy/sql/elements.py?line=322'>323</a>\u001b[0m ):\n\u001b[1;32m    <a href='file:///Users/martin/.local/share/virtualenvs/playground-MkuFeJM_/lib/python3.9/site-packages/sqlalchemy/sql/elements.py?line=323'>324</a>\u001b[0m     \u001b[39mif\u001b[39;00m _force \u001b[39mor\u001b[39;00m \u001b[39mself\u001b[39m\u001b[39m.\u001b[39msupports_execution:\n\u001b[0;32m--> <a href='file:///Users/martin/.local/share/virtualenvs/playground-MkuFeJM_/lib/python3.9/site-packages/sqlalchemy/sql/elements.py?line=324'>325</a>\u001b[0m         \u001b[39mreturn\u001b[39;00m connection\u001b[39m.\u001b[39;49m_execute_clauseelement(\n\u001b[1;32m    <a href='file:///Users/martin/.local/share/virtualenvs/playground-MkuFeJM_/lib/python3.9/site-packages/sqlalchemy/sql/elements.py?line=325'>326</a>\u001b[0m             \u001b[39mself\u001b[39;49m, multiparams, params, execution_options\n\u001b[1;32m    <a href='file:///Users/martin/.local/share/virtualenvs/playground-MkuFeJM_/lib/python3.9/site-packages/sqlalchemy/sql/elements.py?line=326'>327</a>\u001b[0m         )\n\u001b[1;32m    <a href='file:///Users/martin/.local/share/virtualenvs/playground-MkuFeJM_/lib/python3.9/site-packages/sqlalchemy/sql/elements.py?line=327'>328</a>\u001b[0m     \u001b[39melse\u001b[39;00m:\n\u001b[1;32m    <a href='file:///Users/martin/.local/share/virtualenvs/playground-MkuFeJM_/lib/python3.9/site-packages/sqlalchemy/sql/elements.py?line=328'>329</a>\u001b[0m         \u001b[39mraise\u001b[39;00m exc\u001b[39m.\u001b[39mObjectNotExecutableError(\u001b[39mself\u001b[39m)\n",
      "File \u001b[0;32m~/.local/share/virtualenvs/playground-MkuFeJM_/lib/python3.9/site-packages/sqlalchemy/engine/base.py:1481\u001b[0m, in \u001b[0;36mConnection._execute_clauseelement\u001b[0;34m(self, elem, multiparams, params, execution_options)\u001b[0m\n\u001b[1;32m   <a href='file:///Users/martin/.local/share/virtualenvs/playground-MkuFeJM_/lib/python3.9/site-packages/sqlalchemy/engine/base.py?line=1468'>1469</a>\u001b[0m compiled_cache \u001b[39m=\u001b[39m execution_options\u001b[39m.\u001b[39mget(\n\u001b[1;32m   <a href='file:///Users/martin/.local/share/virtualenvs/playground-MkuFeJM_/lib/python3.9/site-packages/sqlalchemy/engine/base.py?line=1469'>1470</a>\u001b[0m     \u001b[39m\"\u001b[39m\u001b[39mcompiled_cache\u001b[39m\u001b[39m\"\u001b[39m, \u001b[39mself\u001b[39m\u001b[39m.\u001b[39mengine\u001b[39m.\u001b[39m_compiled_cache\n\u001b[1;32m   <a href='file:///Users/martin/.local/share/virtualenvs/playground-MkuFeJM_/lib/python3.9/site-packages/sqlalchemy/engine/base.py?line=1470'>1471</a>\u001b[0m )\n\u001b[1;32m   <a href='file:///Users/martin/.local/share/virtualenvs/playground-MkuFeJM_/lib/python3.9/site-packages/sqlalchemy/engine/base.py?line=1472'>1473</a>\u001b[0m compiled_sql, extracted_params, cache_hit \u001b[39m=\u001b[39m elem\u001b[39m.\u001b[39m_compile_w_cache(\n\u001b[1;32m   <a href='file:///Users/martin/.local/share/virtualenvs/playground-MkuFeJM_/lib/python3.9/site-packages/sqlalchemy/engine/base.py?line=1473'>1474</a>\u001b[0m     dialect\u001b[39m=\u001b[39mdialect,\n\u001b[1;32m   <a href='file:///Users/martin/.local/share/virtualenvs/playground-MkuFeJM_/lib/python3.9/site-packages/sqlalchemy/engine/base.py?line=1474'>1475</a>\u001b[0m     compiled_cache\u001b[39m=\u001b[39mcompiled_cache,\n\u001b[0;32m   (...)\u001b[0m\n\u001b[1;32m   <a href='file:///Users/martin/.local/share/virtualenvs/playground-MkuFeJM_/lib/python3.9/site-packages/sqlalchemy/engine/base.py?line=1478'>1479</a>\u001b[0m     linting\u001b[39m=\u001b[39m\u001b[39mself\u001b[39m\u001b[39m.\u001b[39mdialect\u001b[39m.\u001b[39mcompiler_linting \u001b[39m|\u001b[39m compiler\u001b[39m.\u001b[39mWARN_LINTING,\n\u001b[1;32m   <a href='file:///Users/martin/.local/share/virtualenvs/playground-MkuFeJM_/lib/python3.9/site-packages/sqlalchemy/engine/base.py?line=1479'>1480</a>\u001b[0m )\n\u001b[0;32m-> <a href='file:///Users/martin/.local/share/virtualenvs/playground-MkuFeJM_/lib/python3.9/site-packages/sqlalchemy/engine/base.py?line=1480'>1481</a>\u001b[0m ret \u001b[39m=\u001b[39m \u001b[39mself\u001b[39;49m\u001b[39m.\u001b[39;49m_execute_context(\n\u001b[1;32m   <a href='file:///Users/martin/.local/share/virtualenvs/playground-MkuFeJM_/lib/python3.9/site-packages/sqlalchemy/engine/base.py?line=1481'>1482</a>\u001b[0m     dialect,\n\u001b[1;32m   <a href='file:///Users/martin/.local/share/virtualenvs/playground-MkuFeJM_/lib/python3.9/site-packages/sqlalchemy/engine/base.py?line=1482'>1483</a>\u001b[0m     dialect\u001b[39m.\u001b[39;49mexecution_ctx_cls\u001b[39m.\u001b[39;49m_init_compiled,\n\u001b[1;32m   <a href='file:///Users/martin/.local/share/virtualenvs/playground-MkuFeJM_/lib/python3.9/site-packages/sqlalchemy/engine/base.py?line=1483'>1484</a>\u001b[0m     compiled_sql,\n\u001b[1;32m   <a href='file:///Users/martin/.local/share/virtualenvs/playground-MkuFeJM_/lib/python3.9/site-packages/sqlalchemy/engine/base.py?line=1484'>1485</a>\u001b[0m     distilled_params,\n\u001b[1;32m   <a href='file:///Users/martin/.local/share/virtualenvs/playground-MkuFeJM_/lib/python3.9/site-packages/sqlalchemy/engine/base.py?line=1485'>1486</a>\u001b[0m     execution_options,\n\u001b[1;32m   <a href='file:///Users/martin/.local/share/virtualenvs/playground-MkuFeJM_/lib/python3.9/site-packages/sqlalchemy/engine/base.py?line=1486'>1487</a>\u001b[0m     compiled_sql,\n\u001b[1;32m   <a href='file:///Users/martin/.local/share/virtualenvs/playground-MkuFeJM_/lib/python3.9/site-packages/sqlalchemy/engine/base.py?line=1487'>1488</a>\u001b[0m     distilled_params,\n\u001b[1;32m   <a href='file:///Users/martin/.local/share/virtualenvs/playground-MkuFeJM_/lib/python3.9/site-packages/sqlalchemy/engine/base.py?line=1488'>1489</a>\u001b[0m     elem,\n\u001b[1;32m   <a href='file:///Users/martin/.local/share/virtualenvs/playground-MkuFeJM_/lib/python3.9/site-packages/sqlalchemy/engine/base.py?line=1489'>1490</a>\u001b[0m     extracted_params,\n\u001b[1;32m   <a href='file:///Users/martin/.local/share/virtualenvs/playground-MkuFeJM_/lib/python3.9/site-packages/sqlalchemy/engine/base.py?line=1490'>1491</a>\u001b[0m     cache_hit\u001b[39m=\u001b[39;49mcache_hit,\n\u001b[1;32m   <a href='file:///Users/martin/.local/share/virtualenvs/playground-MkuFeJM_/lib/python3.9/site-packages/sqlalchemy/engine/base.py?line=1491'>1492</a>\u001b[0m )\n\u001b[1;32m   <a href='file:///Users/martin/.local/share/virtualenvs/playground-MkuFeJM_/lib/python3.9/site-packages/sqlalchemy/engine/base.py?line=1492'>1493</a>\u001b[0m \u001b[39mif\u001b[39;00m has_events:\n\u001b[1;32m   <a href='file:///Users/martin/.local/share/virtualenvs/playground-MkuFeJM_/lib/python3.9/site-packages/sqlalchemy/engine/base.py?line=1493'>1494</a>\u001b[0m     \u001b[39mself\u001b[39m\u001b[39m.\u001b[39mdispatch\u001b[39m.\u001b[39mafter_execute(\n\u001b[1;32m   <a href='file:///Users/martin/.local/share/virtualenvs/playground-MkuFeJM_/lib/python3.9/site-packages/sqlalchemy/engine/base.py?line=1494'>1495</a>\u001b[0m         \u001b[39mself\u001b[39m,\n\u001b[1;32m   <a href='file:///Users/martin/.local/share/virtualenvs/playground-MkuFeJM_/lib/python3.9/site-packages/sqlalchemy/engine/base.py?line=1495'>1496</a>\u001b[0m         elem,\n\u001b[0;32m   (...)\u001b[0m\n\u001b[1;32m   <a href='file:///Users/martin/.local/share/virtualenvs/playground-MkuFeJM_/lib/python3.9/site-packages/sqlalchemy/engine/base.py?line=1499'>1500</a>\u001b[0m         ret,\n\u001b[1;32m   <a href='file:///Users/martin/.local/share/virtualenvs/playground-MkuFeJM_/lib/python3.9/site-packages/sqlalchemy/engine/base.py?line=1500'>1501</a>\u001b[0m     )\n",
      "File \u001b[0;32m~/.local/share/virtualenvs/playground-MkuFeJM_/lib/python3.9/site-packages/sqlalchemy/engine/base.py:1845\u001b[0m, in \u001b[0;36mConnection._execute_context\u001b[0;34m(self, dialect, constructor, statement, parameters, execution_options, *args, **kw)\u001b[0m\n\u001b[1;32m   <a href='file:///Users/martin/.local/share/virtualenvs/playground-MkuFeJM_/lib/python3.9/site-packages/sqlalchemy/engine/base.py?line=1841'>1842</a>\u001b[0m             branched\u001b[39m.\u001b[39mclose()\n\u001b[1;32m   <a href='file:///Users/martin/.local/share/virtualenvs/playground-MkuFeJM_/lib/python3.9/site-packages/sqlalchemy/engine/base.py?line=1843'>1844</a>\u001b[0m \u001b[39mexcept\u001b[39;00m \u001b[39mBaseException\u001b[39;00m \u001b[39mas\u001b[39;00m e:\n\u001b[0;32m-> <a href='file:///Users/martin/.local/share/virtualenvs/playground-MkuFeJM_/lib/python3.9/site-packages/sqlalchemy/engine/base.py?line=1844'>1845</a>\u001b[0m     \u001b[39mself\u001b[39;49m\u001b[39m.\u001b[39;49m_handle_dbapi_exception(\n\u001b[1;32m   <a href='file:///Users/martin/.local/share/virtualenvs/playground-MkuFeJM_/lib/python3.9/site-packages/sqlalchemy/engine/base.py?line=1845'>1846</a>\u001b[0m         e, statement, parameters, cursor, context\n\u001b[1;32m   <a href='file:///Users/martin/.local/share/virtualenvs/playground-MkuFeJM_/lib/python3.9/site-packages/sqlalchemy/engine/base.py?line=1846'>1847</a>\u001b[0m     )\n\u001b[1;32m   <a href='file:///Users/martin/.local/share/virtualenvs/playground-MkuFeJM_/lib/python3.9/site-packages/sqlalchemy/engine/base.py?line=1848'>1849</a>\u001b[0m \u001b[39mreturn\u001b[39;00m result\n",
      "File \u001b[0;32m~/.local/share/virtualenvs/playground-MkuFeJM_/lib/python3.9/site-packages/sqlalchemy/engine/base.py:2026\u001b[0m, in \u001b[0;36mConnection._handle_dbapi_exception\u001b[0;34m(self, e, statement, parameters, cursor, context)\u001b[0m\n\u001b[1;32m   <a href='file:///Users/martin/.local/share/virtualenvs/playground-MkuFeJM_/lib/python3.9/site-packages/sqlalchemy/engine/base.py?line=2023'>2024</a>\u001b[0m     util\u001b[39m.\u001b[39mraise_(newraise, with_traceback\u001b[39m=\u001b[39mexc_info[\u001b[39m2\u001b[39m], from_\u001b[39m=\u001b[39me)\n\u001b[1;32m   <a href='file:///Users/martin/.local/share/virtualenvs/playground-MkuFeJM_/lib/python3.9/site-packages/sqlalchemy/engine/base.py?line=2024'>2025</a>\u001b[0m \u001b[39melif\u001b[39;00m should_wrap:\n\u001b[0;32m-> <a href='file:///Users/martin/.local/share/virtualenvs/playground-MkuFeJM_/lib/python3.9/site-packages/sqlalchemy/engine/base.py?line=2025'>2026</a>\u001b[0m     util\u001b[39m.\u001b[39;49mraise_(\n\u001b[1;32m   <a href='file:///Users/martin/.local/share/virtualenvs/playground-MkuFeJM_/lib/python3.9/site-packages/sqlalchemy/engine/base.py?line=2026'>2027</a>\u001b[0m         sqlalchemy_exception, with_traceback\u001b[39m=\u001b[39;49mexc_info[\u001b[39m2\u001b[39;49m], from_\u001b[39m=\u001b[39;49me\n\u001b[1;32m   <a href='file:///Users/martin/.local/share/virtualenvs/playground-MkuFeJM_/lib/python3.9/site-packages/sqlalchemy/engine/base.py?line=2027'>2028</a>\u001b[0m     )\n\u001b[1;32m   <a href='file:///Users/martin/.local/share/virtualenvs/playground-MkuFeJM_/lib/python3.9/site-packages/sqlalchemy/engine/base.py?line=2028'>2029</a>\u001b[0m \u001b[39melse\u001b[39;00m:\n\u001b[1;32m   <a href='file:///Users/martin/.local/share/virtualenvs/playground-MkuFeJM_/lib/python3.9/site-packages/sqlalchemy/engine/base.py?line=2029'>2030</a>\u001b[0m     util\u001b[39m.\u001b[39mraise_(exc_info[\u001b[39m1\u001b[39m], with_traceback\u001b[39m=\u001b[39mexc_info[\u001b[39m2\u001b[39m])\n",
      "File \u001b[0;32m~/.local/share/virtualenvs/playground-MkuFeJM_/lib/python3.9/site-packages/sqlalchemy/util/compat.py:207\u001b[0m, in \u001b[0;36mraise_\u001b[0;34m(***failed resolving arguments***)\u001b[0m\n\u001b[1;32m    <a href='file:///Users/martin/.local/share/virtualenvs/playground-MkuFeJM_/lib/python3.9/site-packages/sqlalchemy/util/compat.py?line=203'>204</a>\u001b[0m     exception\u001b[39m.\u001b[39m__cause__ \u001b[39m=\u001b[39m replace_context\n\u001b[1;32m    <a href='file:///Users/martin/.local/share/virtualenvs/playground-MkuFeJM_/lib/python3.9/site-packages/sqlalchemy/util/compat.py?line=205'>206</a>\u001b[0m \u001b[39mtry\u001b[39;00m:\n\u001b[0;32m--> <a href='file:///Users/martin/.local/share/virtualenvs/playground-MkuFeJM_/lib/python3.9/site-packages/sqlalchemy/util/compat.py?line=206'>207</a>\u001b[0m     \u001b[39mraise\u001b[39;00m exception\n\u001b[1;32m    <a href='file:///Users/martin/.local/share/virtualenvs/playground-MkuFeJM_/lib/python3.9/site-packages/sqlalchemy/util/compat.py?line=207'>208</a>\u001b[0m \u001b[39mfinally\u001b[39;00m:\n\u001b[1;32m    <a href='file:///Users/martin/.local/share/virtualenvs/playground-MkuFeJM_/lib/python3.9/site-packages/sqlalchemy/util/compat.py?line=208'>209</a>\u001b[0m     \u001b[39m# credit to\u001b[39;00m\n\u001b[1;32m    <a href='file:///Users/martin/.local/share/virtualenvs/playground-MkuFeJM_/lib/python3.9/site-packages/sqlalchemy/util/compat.py?line=209'>210</a>\u001b[0m     \u001b[39m# https://cosmicpercolator.com/2016/01/13/exception-leaks-in-python-2-and-3/\u001b[39;00m\n\u001b[1;32m    <a href='file:///Users/martin/.local/share/virtualenvs/playground-MkuFeJM_/lib/python3.9/site-packages/sqlalchemy/util/compat.py?line=210'>211</a>\u001b[0m     \u001b[39m# as the __traceback__ object creates a cycle\u001b[39;00m\n\u001b[1;32m    <a href='file:///Users/martin/.local/share/virtualenvs/playground-MkuFeJM_/lib/python3.9/site-packages/sqlalchemy/util/compat.py?line=211'>212</a>\u001b[0m     \u001b[39mdel\u001b[39;00m exception, replace_context, from_, with_traceback\n",
      "File \u001b[0;32m~/.local/share/virtualenvs/playground-MkuFeJM_/lib/python3.9/site-packages/sqlalchemy/engine/base.py:1802\u001b[0m, in \u001b[0;36mConnection._execute_context\u001b[0;34m(self, dialect, constructor, statement, parameters, execution_options, *args, **kw)\u001b[0m\n\u001b[1;32m   <a href='file:///Users/martin/.local/share/virtualenvs/playground-MkuFeJM_/lib/python3.9/site-packages/sqlalchemy/engine/base.py?line=1799'>1800</a>\u001b[0m                 \u001b[39mbreak\u001b[39;00m\n\u001b[1;32m   <a href='file:///Users/martin/.local/share/virtualenvs/playground-MkuFeJM_/lib/python3.9/site-packages/sqlalchemy/engine/base.py?line=1800'>1801</a>\u001b[0m     \u001b[39mif\u001b[39;00m \u001b[39mnot\u001b[39;00m evt_handled:\n\u001b[0;32m-> <a href='file:///Users/martin/.local/share/virtualenvs/playground-MkuFeJM_/lib/python3.9/site-packages/sqlalchemy/engine/base.py?line=1801'>1802</a>\u001b[0m         \u001b[39mself\u001b[39;49m\u001b[39m.\u001b[39;49mdialect\u001b[39m.\u001b[39;49mdo_execute(\n\u001b[1;32m   <a href='file:///Users/martin/.local/share/virtualenvs/playground-MkuFeJM_/lib/python3.9/site-packages/sqlalchemy/engine/base.py?line=1802'>1803</a>\u001b[0m             cursor, statement, parameters, context\n\u001b[1;32m   <a href='file:///Users/martin/.local/share/virtualenvs/playground-MkuFeJM_/lib/python3.9/site-packages/sqlalchemy/engine/base.py?line=1803'>1804</a>\u001b[0m         )\n\u001b[1;32m   <a href='file:///Users/martin/.local/share/virtualenvs/playground-MkuFeJM_/lib/python3.9/site-packages/sqlalchemy/engine/base.py?line=1805'>1806</a>\u001b[0m \u001b[39mif\u001b[39;00m \u001b[39mself\u001b[39m\u001b[39m.\u001b[39m_has_events \u001b[39mor\u001b[39;00m \u001b[39mself\u001b[39m\u001b[39m.\u001b[39mengine\u001b[39m.\u001b[39m_has_events:\n\u001b[1;32m   <a href='file:///Users/martin/.local/share/virtualenvs/playground-MkuFeJM_/lib/python3.9/site-packages/sqlalchemy/engine/base.py?line=1806'>1807</a>\u001b[0m     \u001b[39mself\u001b[39m\u001b[39m.\u001b[39mdispatch\u001b[39m.\u001b[39mafter_cursor_execute(\n\u001b[1;32m   <a href='file:///Users/martin/.local/share/virtualenvs/playground-MkuFeJM_/lib/python3.9/site-packages/sqlalchemy/engine/base.py?line=1807'>1808</a>\u001b[0m         \u001b[39mself\u001b[39m,\n\u001b[1;32m   <a href='file:///Users/martin/.local/share/virtualenvs/playground-MkuFeJM_/lib/python3.9/site-packages/sqlalchemy/engine/base.py?line=1808'>1809</a>\u001b[0m         cursor,\n\u001b[0;32m   (...)\u001b[0m\n\u001b[1;32m   <a href='file:///Users/martin/.local/share/virtualenvs/playground-MkuFeJM_/lib/python3.9/site-packages/sqlalchemy/engine/base.py?line=1812'>1813</a>\u001b[0m         context\u001b[39m.\u001b[39mexecutemany,\n\u001b[1;32m   <a href='file:///Users/martin/.local/share/virtualenvs/playground-MkuFeJM_/lib/python3.9/site-packages/sqlalchemy/engine/base.py?line=1813'>1814</a>\u001b[0m     )\n",
      "File \u001b[0;32m~/.local/share/virtualenvs/playground-MkuFeJM_/lib/python3.9/site-packages/sqlalchemy/engine/default.py:732\u001b[0m, in \u001b[0;36mDefaultDialect.do_execute\u001b[0;34m(self, cursor, statement, parameters, context)\u001b[0m\n\u001b[1;32m    <a href='file:///Users/martin/.local/share/virtualenvs/playground-MkuFeJM_/lib/python3.9/site-packages/sqlalchemy/engine/default.py?line=730'>731</a>\u001b[0m \u001b[39mdef\u001b[39;00m \u001b[39mdo_execute\u001b[39m(\u001b[39mself\u001b[39m, cursor, statement, parameters, context\u001b[39m=\u001b[39m\u001b[39mNone\u001b[39;00m):\n\u001b[0;32m--> <a href='file:///Users/martin/.local/share/virtualenvs/playground-MkuFeJM_/lib/python3.9/site-packages/sqlalchemy/engine/default.py?line=731'>732</a>\u001b[0m     cursor\u001b[39m.\u001b[39;49mexecute(statement, parameters)\n",
      "\u001b[0;31mIntegrityError\u001b[0m: (sqlite3.IntegrityError) UNIQUE constraint failed: user_accounts.name\n[SQL: INSERT INTO user_accounts (name, fullname) VALUES (?, ?)]\n[parameters: ('sandy', 'Sandy New')]\n(Background on this error at: https://sqlalche.me/e/14/gkpj)"
     ]
    }
   ],
   "source": [
    "with Session(engine) as session:\n",
    "    all_users = session.execute(select(User)).scalars().all()\n",
    "    for user in users:\n",
    "        print(user)\n",
    "    another_sandy = User(name=\"sandy\", fullname=\"Sandy New\")\n",
    "    session.flush()\n",
    "    session.add(another_sandy)\n",
    "    session.commit()\n",
    "    # DOES THIS CHANGE WHEN USING POSTGRES????\n",
    "    # BESTEHEN DIE CONTRACTS IN DER IDENTITIY MAP?\n",
    "    # PROBLEM ISOLIERT NACHSTELLEN"
   ]
  },
  {
   "cell_type": "code",
   "execution_count": null,
   "metadata": {},
   "outputs": [],
   "source": []
  }
 ],
 "metadata": {
  "interpreter": {
   "hash": "d98c3b4b76a6c0d198e6bba6c34257f678fd8b927ca969049ed8b3cbefaaf8c3"
  },
  "kernelspec": {
   "display_name": "Python 3.9.10 ('playground-MkuFeJM_')",
   "language": "python",
   "name": "python3"
  },
  "language_info": {
   "codemirror_mode": {
    "name": "ipython",
    "version": 3
   },
   "file_extension": ".py",
   "mimetype": "text/x-python",
   "name": "python",
   "nbconvert_exporter": "python",
   "pygments_lexer": "ipython3",
   "version": "3.9.10"
  },
  "orig_nbformat": 4
 },
 "nbformat": 4,
 "nbformat_minor": 2
}

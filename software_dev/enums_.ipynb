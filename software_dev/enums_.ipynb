{
 "cells": [
  {
   "cell_type": "code",
   "execution_count": 21,
   "metadata": {},
   "outputs": [],
   "source": [
    "from enum import Enum\n",
    "\n",
    "class Color(Enum):\n",
    "    red = 1\n",
    "    green = 2\n",
    "    blue = 3\n",
    "\n",
    "class Weekday(Enum):\n",
    "    MONDAY = 1\n",
    "    TUESDAY = 2\n",
    "    WEDNESDAY = 3"
   ]
  },
  {
   "cell_type": "code",
   "execution_count": 16,
   "metadata": {},
   "outputs": [
    {
     "name": "stdout",
     "output_type": "stream",
     "text": [
      "Color.red\n",
      "1\n",
      "red\n"
     ]
    }
   ],
   "source": [
    "print(Color.red)\n",
    "print(Color.red.value)\n",
    "print(Color.red.name)"
   ]
  },
  {
   "cell_type": "code",
   "execution_count": 18,
   "metadata": {},
   "outputs": [
    {
     "name": "stdout",
     "output_type": "stream",
     "text": [
      "Color.red\n",
      "1\n",
      "red\n"
     ]
    }
   ],
   "source": [
    "print(Color['red'])\n",
    "print(Color['red'].value)\n",
    "print(Color['red'].name)"
   ]
  },
  {
   "cell_type": "code",
   "execution_count": 20,
   "metadata": {},
   "outputs": [
    {
     "name": "stdout",
     "output_type": "stream",
     "text": [
      "Color.green\n",
      "2\n",
      "green\n"
     ]
    }
   ],
   "source": [
    "print(Color(2))\n",
    "print(Color(2).value)\n",
    "print(Color(2).name)"
   ]
  },
  {
   "cell_type": "code",
   "execution_count": 23,
   "metadata": {},
   "outputs": [
    {
     "data": {
      "text/plain": [
       "True"
      ]
     },
     "execution_count": 23,
     "metadata": {},
     "output_type": "execute_result"
    }
   ],
   "source": [
    "Color.red.value == Weekday.MONDAY.value"
   ]
  },
  {
   "cell_type": "code",
   "execution_count": 68,
   "metadata": {},
   "outputs": [
    {
     "name": "stdout",
     "output_type": "stream",
     "text": [
      "common\n",
      "ARCA\n"
     ]
    }
   ],
   "source": [
    "from enum import Enum\n",
    "\n",
    "\n",
    "class Api(Enum):\n",
    "    IB = 1\n",
    "    TV = 2\n",
    "\n",
    "\n",
    "class Encoding(Enum):\n",
    "    @classmethod\n",
    "    def encode(cls, name:str, to_api:Api) -> str:\n",
    "        \"\"\"Encode from Barbucket notation to specific api notation\"\"\"\n",
    "\n",
    "        for element in cls:\n",
    "            if element.name == name:\n",
    "                return element.value[to_api]\n",
    "        raise AttributeError(f\"Attribute '{name}' not found.\")\n",
    "\n",
    "    @classmethod\n",
    "    def decode(cls, name:str, from_api:Api) -> str:\n",
    "        \"\"\"Decode from specific api notation to Barbucket notation\"\"\"\n",
    "\n",
    "        for element in cls:\n",
    "            if element.value[from_api] == name:\n",
    "                return element.name\n",
    "        raise AttributeError(f\"Attribute '{name}' not found.\")\n",
    "\n",
    "\n",
    "class Exchange(Encoding):\n",
    "    NASDAQ = {Api.IB: 'ISLAND', Api.TV: 'Nasdaq'}\n",
    "    ARCA = {Api.IB: 'NYSE_ARCA', Api.TV: 'Nyse Arca'}\n",
    "\n",
    "    @classmethod\n",
    "    def decode(cls, name: str, from_api: Api) -> str:\n",
    "        \"\"\"Decode from specific api notation to Barbucket notation\"\"\"\n",
    "\n",
    "        if (from_api == Api.TV) and (name == 'Nyse Arca Something'):\n",
    "            name = 'Nyse Arca'\n",
    "        return super().decode(name=name, from_api=from_api)\n",
    "\n",
    "\n",
    "class ContractType(Encoding):\n",
    "    COMMON_STOCK = {Api.IB: 'common', Api.TV: 'Common Stock'}\n",
    "    ETF = {Api.IB: 'etf', Api.TV: 'Etf'}\n",
    "\n",
    "\n",
    "print(\n",
    "    ContractType.encode(\n",
    "        name='COMMON_STOCK',\n",
    "        to_api=Api.IB))\n",
    "\n",
    "print(\n",
    "    Exchange.decode(\n",
    "        name='Nyse Arca Something',\n",
    "        from_api=Api.TV))"
   ]
  },
  {
   "cell_type": "code",
   "execution_count": 63,
   "metadata": {},
   "outputs": [
    {
     "name": "stdout",
     "output_type": "stream",
     "text": [
      "something\n"
     ]
    },
    {
     "data": {
      "text/plain": [
       "<Weekday.MONDAY: 1>"
      ]
     },
     "execution_count": 63,
     "metadata": {},
     "output_type": "execute_result"
    }
   ],
   "source": [
    "from enum import Enum\n",
    "\n",
    "class Dates(Enum):\n",
    "    @classmethod\n",
    "    def some_method(cls):\n",
    "        print(\"something\")\n",
    "\n",
    "class Weekday(Dates):\n",
    "    MONDAY = 1\n",
    "    TUESDAY = 2\n",
    "    WEDNESDAY = 3\n",
    "\n",
    "Weekday.some_method()\n",
    "Weekday.MONDAY"
   ]
  },
  {
   "cell_type": "code",
   "execution_count": null,
   "metadata": {},
   "outputs": [],
   "source": []
  }
 ],
 "metadata": {
  "interpreter": {
   "hash": "d98c3b4b76a6c0d198e6bba6c34257f678fd8b927ca969049ed8b3cbefaaf8c3"
  },
  "kernelspec": {
   "display_name": "Python 3.9.7 64-bit ('playground-MkuFeJM_': pipenv)",
   "name": "python3"
  },
  "language_info": {
   "codemirror_mode": {
    "name": "ipython",
    "version": 3
   },
   "file_extension": ".py",
   "mimetype": "text/x-python",
   "name": "python",
   "nbconvert_exporter": "python",
   "pygments_lexer": "ipython3",
   "version": "3.9.7"
  },
  "orig_nbformat": 4
 },
 "nbformat": 4,
 "nbformat_minor": 2
}

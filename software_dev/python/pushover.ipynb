{
 "cells": [
  {
   "cell_type": "code",
   "execution_count": 1,
   "metadata": {},
   "outputs": [],
   "source": [
    "import requests\n",
    "import json"
   ]
  },
  {
   "cell_type": "code",
   "execution_count": 2,
   "metadata": {},
   "outputs": [],
   "source": [
    "with open(\"../../secrets.json\", 'r') as fr:\n",
    "    content = \"\".join(fr.readlines())\n",
    "    content_json = json.loads(content)\n",
    "    USER_KEY = content_json['pushover_userkey']\n",
    "    APP_KEY = content_json['pushover_appkey']\n",
    "URL = \"https://api.pushover.net/1/messages.json\""
   ]
  },
  {
   "cell_type": "code",
   "execution_count": 4,
   "metadata": {},
   "outputs": [
    {
     "data": {
      "text/plain": [
       "<Response [200]>"
      ]
     },
     "execution_count": 4,
     "metadata": {},
     "output_type": "execute_result"
    }
   ],
   "source": [
    "body = {\n",
    "    'token': APP_KEY,\n",
    "    'user': USER_KEY,\n",
    "    'title': \"My Title\",\n",
    "    'message': \"This is a message, yay!\",\n",
    "    'url_title': \"--> Visit Domain\",\n",
    "    'url': \"https://google.com\"\n",
    "}\n",
    "requests.request(method=\"POST\", url=URL, json=body)"
   ]
  }
 ],
 "metadata": {
  "kernelspec": {
   "display_name": "Python 3.10.8 ('playground-KdgE4xX--py3.10')",
   "language": "python",
   "name": "python3"
  },
  "language_info": {
   "codemirror_mode": {
    "name": "ipython",
    "version": 3
   },
   "file_extension": ".py",
   "mimetype": "text/x-python",
   "name": "python",
   "nbconvert_exporter": "python",
   "pygments_lexer": "ipython3",
   "version": "3.10.8"
  },
  "orig_nbformat": 4,
  "vscode": {
   "interpreter": {
    "hash": "4534b3131e25656730c698a2226cb19b13d1fe0a1bfcb5e653460d16b9233f41"
   }
  }
 },
 "nbformat": 4,
 "nbformat_minor": 2
}

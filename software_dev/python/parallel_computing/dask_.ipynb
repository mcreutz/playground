{
 "cells": [
  {
   "cell_type": "markdown",
   "metadata": {},
   "source": [
    "### SSHCluster"
   ]
  },
  {
   "cell_type": "code",
   "execution_count": 1,
   "metadata": {},
   "outputs": [],
   "source": [
    "from dask.distributed import Client, SSHCluster\n",
    "import json"
   ]
  },
  {
   "cell_type": "code",
   "execution_count": 2,
   "metadata": {},
   "outputs": [],
   "source": [
    "with open(\"../../secrets.json\", 'r') as fr:\n",
    "    content = \"\".join(fr.readlines())\n",
    "    PP = json.loads(content)['pp']"
   ]
  },
  {
   "cell_type": "code",
   "execution_count": 25,
   "metadata": {},
   "outputs": [
    {
     "name": "stderr",
     "output_type": "stream",
     "text": [
      "2024-07-20 18:51:27,454 - distributed.deploy.ssh - INFO - 2024-07-20 16:51:27,637 - distributed.http.proxy - INFO - To route to workers diagnostics web server please install jupyter-server-proxy: python -m pip install jupyter-server-proxy\n",
      "2024-07-20 18:51:27,457 - distributed.deploy.ssh - INFO - /root/dask/venv/lib/python3.12/site-packages/distributed/node.py:182: UserWarning: Port 8787 is already in use.\n",
      "2024-07-20 18:51:27,457 - distributed.deploy.ssh - INFO - Perhaps you already have a cluster running?\n",
      "2024-07-20 18:51:27,458 - distributed.deploy.ssh - INFO - Hosting the HTTP server on port 38123 instead\n",
      "2024-07-20 18:51:27,460 - distributed.deploy.ssh - INFO - warnings.warn(\n",
      "2024-07-20 18:51:27,461 - distributed.deploy.ssh - INFO - 2024-07-20 16:51:27,641 - distributed.scheduler - INFO - State start\n",
      "2024-07-20 18:51:27,465 - distributed.deploy.ssh - INFO - 2024-07-20 16:51:27,645 - distributed.scheduler - INFO -   Scheduler at: tcp://168.119.191.48:45561\n",
      "2024-07-20 18:51:28,992 - distributed.deploy.ssh - INFO - 2024-07-20 16:51:29,175 - distributed.nanny - INFO -         Start Nanny at: 'tcp://168.119.191.48:41711'\n",
      "2024-07-20 18:51:29,676 - distributed.deploy.ssh - INFO - 2024-07-20 16:51:29,859 - distributed.worker - INFO -       Start worker at: tcp://168.119.191.48:44703\n",
      "/Users/martin/Library/Caches/pypoetry/virtualenvs/playground-KdgE4xX--py3.10/lib/python3.10/site-packages/distributed/client.py:1612: VersionMismatchWarning: Mismatched versions found\n",
      "\n",
      "+---------+-----------------+----------------+----------------+\n",
      "| Package | Client          | Scheduler      | Workers        |\n",
      "+---------+-----------------+----------------+----------------+\n",
      "| numpy   | 1.26.4          | None           | None           |\n",
      "| pandas  | 1.5.3           | None           | None           |\n",
      "| python  | 3.10.14.final.0 | 3.12.3.final.0 | 3.12.3.final.0 |\n",
      "+---------+-----------------+----------------+----------------+\n",
      "  warnings.warn(version_module.VersionMismatchWarning(msg[0][\"warning\"]))\n"
     ]
    },
    {
     "data": {
      "text/html": [
       "<div>\n",
       "    <div style=\"width: 24px; height: 24px; background-color: #e1e1e1; border: 3px solid #9D9D9D; border-radius: 5px; position: absolute;\"> </div>\n",
       "    <div style=\"margin-left: 48px;\">\n",
       "        <h3 style=\"margin-bottom: 0px;\">Client</h3>\n",
       "        <p style=\"color: #9D9D9D; margin-bottom: 0px;\">Client-4fb2593c-46b8-11ef-9872-aa665a2fadd4</p>\n",
       "        <table style=\"width: 100%; text-align: left;\">\n",
       "\n",
       "        <tr>\n",
       "        \n",
       "            <td style=\"text-align: left;\"><strong>Connection method:</strong> Cluster object</td>\n",
       "            <td style=\"text-align: left;\"><strong>Cluster type:</strong> distributed.SpecCluster</td>\n",
       "        \n",
       "        </tr>\n",
       "\n",
       "        \n",
       "            <tr>\n",
       "                <td style=\"text-align: left;\">\n",
       "                    <strong>Dashboard: </strong> <a href=\"http://168.119.191.48:38123/status\" target=\"_blank\">http://168.119.191.48:38123/status</a>\n",
       "                </td>\n",
       "                <td style=\"text-align: left;\"></td>\n",
       "            </tr>\n",
       "        \n",
       "\n",
       "        </table>\n",
       "\n",
       "        \n",
       "\n",
       "        \n",
       "            <details>\n",
       "            <summary style=\"margin-bottom: 20px;\"><h3 style=\"display: inline;\">Cluster Info</h3></summary>\n",
       "            <div class=\"jp-RenderedHTMLCommon jp-RenderedHTML jp-mod-trusted jp-OutputArea-output\">\n",
       "    <div style=\"width: 24px; height: 24px; background-color: #e1e1e1; border: 3px solid #9D9D9D; border-radius: 5px; position: absolute;\">\n",
       "    </div>\n",
       "    <div style=\"margin-left: 48px;\">\n",
       "        <h3 style=\"margin-bottom: 0px; margin-top: 0px;\">SpecCluster</h3>\n",
       "        <p style=\"color: #9D9D9D; margin-bottom: 0px;\">SSHCluster</p>\n",
       "        <table style=\"width: 100%; text-align: left;\">\n",
       "            <tr>\n",
       "                <td style=\"text-align: left;\">\n",
       "                    <strong>Dashboard:</strong> <a href=\"http://168.119.191.48:38123/status\" target=\"_blank\">http://168.119.191.48:38123/status</a>\n",
       "                </td>\n",
       "                <td style=\"text-align: left;\">\n",
       "                    <strong>Workers:</strong> 1\n",
       "                </td>\n",
       "            </tr>\n",
       "            <tr>\n",
       "                <td style=\"text-align: left;\">\n",
       "                    <strong>Total threads:</strong> 2\n",
       "                </td>\n",
       "                <td style=\"text-align: left;\">\n",
       "                    <strong>Total memory:</strong> 3.73 GiB\n",
       "                </td>\n",
       "            </tr>\n",
       "            \n",
       "        </table>\n",
       "\n",
       "        <details>\n",
       "            <summary style=\"margin-bottom: 20px;\">\n",
       "                <h3 style=\"display: inline;\">Scheduler Info</h3>\n",
       "            </summary>\n",
       "\n",
       "            <div style=\"\">\n",
       "    <div>\n",
       "        <div style=\"width: 24px; height: 24px; background-color: #FFF7E5; border: 3px solid #FF6132; border-radius: 5px; position: absolute;\"> </div>\n",
       "        <div style=\"margin-left: 48px;\">\n",
       "            <h3 style=\"margin-bottom: 0px;\">Scheduler</h3>\n",
       "            <p style=\"color: #9D9D9D; margin-bottom: 0px;\">Scheduler-e45500b9-820e-40f7-a221-9bf98b0dd79c</p>\n",
       "            <table style=\"width: 100%; text-align: left;\">\n",
       "                <tr>\n",
       "                    <td style=\"text-align: left;\">\n",
       "                        <strong>Comm:</strong> tcp://168.119.191.48:45561\n",
       "                    </td>\n",
       "                    <td style=\"text-align: left;\">\n",
       "                        <strong>Workers:</strong> 1\n",
       "                    </td>\n",
       "                </tr>\n",
       "                <tr>\n",
       "                    <td style=\"text-align: left;\">\n",
       "                        <strong>Dashboard:</strong> <a href=\"http://168.119.191.48:38123/status\" target=\"_blank\">http://168.119.191.48:38123/status</a>\n",
       "                    </td>\n",
       "                    <td style=\"text-align: left;\">\n",
       "                        <strong>Total threads:</strong> 2\n",
       "                    </td>\n",
       "                </tr>\n",
       "                <tr>\n",
       "                    <td style=\"text-align: left;\">\n",
       "                        <strong>Started:</strong> Just now\n",
       "                    </td>\n",
       "                    <td style=\"text-align: left;\">\n",
       "                        <strong>Total memory:</strong> 3.73 GiB\n",
       "                    </td>\n",
       "                </tr>\n",
       "            </table>\n",
       "        </div>\n",
       "    </div>\n",
       "\n",
       "    <details style=\"margin-left: 48px;\">\n",
       "        <summary style=\"margin-bottom: 20px;\">\n",
       "            <h3 style=\"display: inline;\">Workers</h3>\n",
       "        </summary>\n",
       "\n",
       "        \n",
       "        <div style=\"margin-bottom: 20px;\">\n",
       "            <div style=\"width: 24px; height: 24px; background-color: #DBF5FF; border: 3px solid #4CC9FF; border-radius: 5px; position: absolute;\"> </div>\n",
       "            <div style=\"margin-left: 48px;\">\n",
       "            <details>\n",
       "                <summary>\n",
       "                    <h4 style=\"margin-bottom: 0px; display: inline;\">Worker: tcp://168.119.191.48:44703</h4>\n",
       "                </summary>\n",
       "                <table style=\"width: 100%; text-align: left;\">\n",
       "                    <tr>\n",
       "                        <td style=\"text-align: left;\">\n",
       "                            <strong>Comm: </strong> tcp://168.119.191.48:44703\n",
       "                        </td>\n",
       "                        <td style=\"text-align: left;\">\n",
       "                            <strong>Total threads: </strong> 2\n",
       "                        </td>\n",
       "                    </tr>\n",
       "                    <tr>\n",
       "                        <td style=\"text-align: left;\">\n",
       "                            <strong>Dashboard: </strong> <a href=\"http://168.119.191.48:34977/status\" target=\"_blank\">http://168.119.191.48:34977/status</a>\n",
       "                        </td>\n",
       "                        <td style=\"text-align: left;\">\n",
       "                            <strong>Memory: </strong> 3.73 GiB\n",
       "                        </td>\n",
       "                    </tr>\n",
       "                    <tr>\n",
       "                        <td style=\"text-align: left;\">\n",
       "                            <strong>Nanny: </strong> tcp://168.119.191.48:41711\n",
       "                        </td>\n",
       "                        <td style=\"text-align: left;\"></td>\n",
       "                    </tr>\n",
       "                    <tr>\n",
       "                        <td colspan=\"2\" style=\"text-align: left;\">\n",
       "                            <strong>Local directory: </strong> /tmp/dask-scratch-space/worker-8lcc_jzh\n",
       "                        </td>\n",
       "                    </tr>\n",
       "\n",
       "                    \n",
       "\n",
       "                    \n",
       "\n",
       "                </table>\n",
       "            </details>\n",
       "            </div>\n",
       "        </div>\n",
       "        \n",
       "\n",
       "    </details>\n",
       "</div>\n",
       "\n",
       "        </details>\n",
       "    </div>\n",
       "</div>\n",
       "            </details>\n",
       "        \n",
       "\n",
       "    </div>\n",
       "</div>"
      ],
      "text/plain": [
       "<Client: 'tcp://168.119.191.48:45561' processes=1 threads=2, memory=3.73 GiB>"
      ]
     },
     "execution_count": 25,
     "metadata": {},
     "output_type": "execute_result"
    },
    {
     "name": "stderr",
     "output_type": "stream",
     "text": [
      "2024-07-20 19:28:33,042 - distributed.deploy.cluster - WARNING - Failed to sync cluster info multiple times - perhaps there's a connection issue? Error:\n",
      "Traceback (most recent call last):\n",
      "  File \"/Users/martin/Library/Caches/pypoetry/virtualenvs/playground-KdgE4xX--py3.10/lib/python3.10/site-packages/distributed/comm/tcp.py\", line 546, in connect\n",
      "    stream = await self.client.connect(\n",
      "  File \"/Users/martin/Library/Caches/pypoetry/virtualenvs/playground-KdgE4xX--py3.10/lib/python3.10/site-packages/tornado/tcpclient.py\", line 279, in connect\n",
      "    af, addr, stream = await connector.start(connect_timeout=timeout)\n",
      "asyncio.exceptions.CancelledError\n",
      "\n",
      "During handling of the above exception, another exception occurred:\n",
      "\n",
      "Traceback (most recent call last):\n",
      "  File \"/usr/local/Cellar/python@3.10/3.10.14_1/Frameworks/Python.framework/Versions/3.10/lib/python3.10/asyncio/tasks.py\", line 456, in wait_for\n",
      "    return fut.result()\n",
      "asyncio.exceptions.CancelledError\n",
      "\n",
      "The above exception was the direct cause of the following exception:\n",
      "\n",
      "Traceback (most recent call last):\n",
      "  File \"/Users/martin/Library/Caches/pypoetry/virtualenvs/playground-KdgE4xX--py3.10/lib/python3.10/site-packages/distributed/comm/core.py\", line 342, in connect\n",
      "    comm = await wait_for(\n",
      "  File \"/Users/martin/Library/Caches/pypoetry/virtualenvs/playground-KdgE4xX--py3.10/lib/python3.10/site-packages/distributed/utils.py\", line 1957, in wait_for\n",
      "    return await asyncio.wait_for(fut, timeout)\n",
      "  File \"/usr/local/Cellar/python@3.10/3.10.14_1/Frameworks/Python.framework/Versions/3.10/lib/python3.10/asyncio/tasks.py\", line 458, in wait_for\n",
      "    raise exceptions.TimeoutError() from exc\n",
      "asyncio.exceptions.TimeoutError\n",
      "\n",
      "The above exception was the direct cause of the following exception:\n",
      "\n",
      "Traceback (most recent call last):\n",
      "  File \"/Users/martin/Library/Caches/pypoetry/virtualenvs/playground-KdgE4xX--py3.10/lib/python3.10/site-packages/distributed/deploy/cluster.py\", line 165, in _sync_cluster_info\n",
      "    await self.scheduler_comm.set_metadata(\n",
      "  File \"/Users/martin/Library/Caches/pypoetry/virtualenvs/playground-KdgE4xX--py3.10/lib/python3.10/site-packages/distributed/core.py\", line 1171, in send_recv_from_rpc\n",
      "    comm = await self.live_comm()\n",
      "  File \"/Users/martin/Library/Caches/pypoetry/virtualenvs/playground-KdgE4xX--py3.10/lib/python3.10/site-packages/distributed/core.py\", line 1130, in live_comm\n",
      "    comm = await connect(\n",
      "  File \"/Users/martin/Library/Caches/pypoetry/virtualenvs/playground-KdgE4xX--py3.10/lib/python3.10/site-packages/distributed/comm/core.py\", line 368, in connect\n",
      "    raise OSError(\n",
      "OSError: Timed out trying to connect to tcp://168.119.191.48:45561 after 30 s\n"
     ]
    }
   ],
   "source": [
    "vm = \"168.119.191.48\"\n",
    "s2 = \"192.168.0.15\"\n",
    "cluster = SSHCluster(\n",
    "    hosts=[vm, vm],\n",
    "    connect_options={\n",
    "        \"username\": \"root\",\n",
    "        \"client_keys\": \"/Users/martin/.ssh/id_ed25519_martin\",\n",
    "        \"passphrase\": PP\n",
    "    },\n",
    "    remote_python=\"/root/dask/venv/bin/python3\"\n",
    ")\n",
    "client = Client(address=cluster)\n",
    "client"
   ]
  },
  {
   "cell_type": "code",
   "execution_count": 28,
   "metadata": {},
   "outputs": [
    {
     "data": {
      "text/html": [
       "<div>\n",
       "    <div style=\"width: 24px; height: 24px; background-color: #e1e1e1; border: 3px solid #9D9D9D; border-radius: 5px; position: absolute;\"> </div>\n",
       "    <div style=\"margin-left: 48px;\">\n",
       "        <h3 style=\"margin-bottom: 0px;\">Client</h3>\n",
       "        <p style=\"color: #9D9D9D; margin-bottom: 0px;\">Client-4fb2593c-46b8-11ef-9872-aa665a2fadd4</p>\n",
       "        <table style=\"width: 100%; text-align: left;\">\n",
       "\n",
       "        <tr>\n",
       "        \n",
       "            <td style=\"text-align: left;\"><strong>Connection method:</strong> Cluster object</td>\n",
       "            <td style=\"text-align: left;\"><strong>Cluster type:</strong> distributed.SpecCluster</td>\n",
       "        \n",
       "        </tr>\n",
       "\n",
       "        \n",
       "            <tr>\n",
       "                <td style=\"text-align: left;\">\n",
       "                    <strong>Dashboard: </strong> <a href=\"http://168.119.191.48:38123/status\" target=\"_blank\">http://168.119.191.48:38123/status</a>\n",
       "                </td>\n",
       "                <td style=\"text-align: left;\"></td>\n",
       "            </tr>\n",
       "        \n",
       "\n",
       "        </table>\n",
       "\n",
       "        \n",
       "\n",
       "        \n",
       "            <p>No scheduler connected.</p>\n",
       "        \n",
       "\n",
       "    </div>\n",
       "</div>"
      ],
      "text/plain": [
       "<Client: No scheduler connected>"
      ]
     },
     "execution_count": 28,
     "metadata": {},
     "output_type": "execute_result"
    }
   ],
   "source": [
    "client"
   ]
  },
  {
   "cell_type": "code",
   "execution_count": 27,
   "metadata": {},
   "outputs": [],
   "source": [
    "client.close()  "
   ]
  },
  {
   "cell_type": "markdown",
   "metadata": {},
   "source": [
    "### Manual Setup"
   ]
  },
  {
   "cell_type": "code",
   "execution_count": 29,
   "metadata": {},
   "outputs": [
    {
     "name": "stderr",
     "output_type": "stream",
     "text": [
      "/Users/martin/Library/Caches/pypoetry/virtualenvs/playground-KdgE4xX--py3.10/lib/python3.10/site-packages/distributed/client.py:1612: VersionMismatchWarning: Mismatched versions found\n",
      "\n",
      "+---------+-----------------+----------------+----------------+\n",
      "| Package | Client          | Scheduler      | Workers        |\n",
      "+---------+-----------------+----------------+----------------+\n",
      "| numpy   | 1.26.4          | 2.0.0          | 2.0.0          |\n",
      "| pandas  | 1.5.3           | 2.2.2          | 2.2.2          |\n",
      "| python  | 3.10.14.final.0 | 3.12.3.final.0 | 3.12.3.final.0 |\n",
      "+---------+-----------------+----------------+----------------+\n",
      "  warnings.warn(version_module.VersionMismatchWarning(msg[0][\"warning\"]))\n"
     ]
    },
    {
     "name": "stderr",
     "output_type": "stream",
     "text": [
      "2024-07-20 19:20:13,392 - distributed.client - ERROR - Failed to reconnect to scheduler after 30.00 seconds, closing client\n"
     ]
    }
   ],
   "source": [
    "from dask.distributed import Client\n",
    "\n",
    "client = Client('168.119.191.48:8786')"
   ]
  },
  {
   "cell_type": "code",
   "execution_count": 30,
   "metadata": {},
   "outputs": [
    {
     "ename": "FutureCancelledError",
     "evalue": "sum-fd06918fcc4b6a2887871713bd23dccf cancelled for reason: unknown.",
     "output_type": "error",
     "traceback": [
      "\u001b[0;31m---------------------------------------------------------------------------\u001b[0m",
      "\u001b[0;31mFutureCancelledError\u001b[0m                      Traceback (most recent call last)",
      "Cell \u001b[0;32mIn[30], line 10\u001b[0m\n\u001b[1;32m      8\u001b[0m B \u001b[38;5;241m=\u001b[39m client\u001b[38;5;241m.\u001b[39mmap(neg, A)\n\u001b[1;32m      9\u001b[0m total \u001b[38;5;241m=\u001b[39m client\u001b[38;5;241m.\u001b[39msubmit(\u001b[38;5;28msum\u001b[39m, B)\n\u001b[0;32m---> 10\u001b[0m \u001b[43mtotal\u001b[49m\u001b[38;5;241;43m.\u001b[39;49m\u001b[43mresult\u001b[49m\u001b[43m(\u001b[49m\u001b[43m)\u001b[49m\n",
      "File \u001b[0;32m~/Library/Caches/pypoetry/virtualenvs/playground-KdgE4xX--py3.10/lib/python3.10/site-packages/distributed/client.py:405\u001b[0m, in \u001b[0;36mFuture.result\u001b[0;34m(self, timeout)\u001b[0m\n\u001b[1;32m    403\u001b[0m \u001b[38;5;28mself\u001b[39m\u001b[38;5;241m.\u001b[39m_verify_initialized()\n\u001b[1;32m    404\u001b[0m \u001b[38;5;28;01mwith\u001b[39;00m shorten_traceback():\n\u001b[0;32m--> 405\u001b[0m     \u001b[38;5;28;01mreturn\u001b[39;00m \u001b[38;5;28;43mself\u001b[39;49m\u001b[38;5;241;43m.\u001b[39;49m\u001b[43mclient\u001b[49m\u001b[38;5;241;43m.\u001b[39;49m\u001b[43msync\u001b[49m\u001b[43m(\u001b[49m\u001b[38;5;28;43mself\u001b[39;49m\u001b[38;5;241;43m.\u001b[39;49m\u001b[43m_result\u001b[49m\u001b[43m,\u001b[49m\u001b[43m \u001b[49m\u001b[43mcallback_timeout\u001b[49m\u001b[38;5;241;43m=\u001b[39;49m\u001b[43mtimeout\u001b[49m\u001b[43m)\u001b[49m\n",
      "File \u001b[0;32m~/Library/Caches/pypoetry/virtualenvs/playground-KdgE4xX--py3.10/lib/python3.10/site-packages/distributed/client.py:421\u001b[0m, in \u001b[0;36mFuture._result\u001b[0;34m(self, raiseit)\u001b[0m\n\u001b[1;32m    419\u001b[0m \u001b[38;5;28;01massert\u001b[39;00m \u001b[38;5;28misinstance\u001b[39m(exception, CancelledError)\n\u001b[1;32m    420\u001b[0m \u001b[38;5;28;01mif\u001b[39;00m raiseit:\n\u001b[0;32m--> 421\u001b[0m     \u001b[38;5;28;01mraise\u001b[39;00m exception\n\u001b[1;32m    422\u001b[0m \u001b[38;5;28;01melse\u001b[39;00m:\n\u001b[1;32m    423\u001b[0m     \u001b[38;5;28;01mreturn\u001b[39;00m exception\n",
      "\u001b[0;31mFutureCancelledError\u001b[0m: sum-fd06918fcc4b6a2887871713bd23dccf cancelled for reason: unknown."
     ]
    }
   ],
   "source": [
    "def square(x):\n",
    "        return x ** 2\n",
    "\n",
    "def neg(x):\n",
    "        return -x\n",
    "\n",
    "A = client.map(square, range(10))\n",
    "B = client.map(neg, A)\n",
    "total = client.submit(sum, B)\n",
    "total.result()"
   ]
  },
  {
   "cell_type": "code",
   "execution_count": 31,
   "metadata": {},
   "outputs": [],
   "source": [
    "client.close()"
   ]
  },
  {
   "cell_type": "code",
   "execution_count": null,
   "metadata": {},
   "outputs": [],
   "source": []
  }
 ],
 "metadata": {
  "kernelspec": {
   "display_name": "playground-KdgE4xX--py3.10",
   "language": "python",
   "name": "python3"
  },
  "language_info": {
   "codemirror_mode": {
    "name": "ipython",
    "version": 3
   },
   "file_extension": ".py",
   "mimetype": "text/x-python",
   "name": "python",
   "nbconvert_exporter": "python",
   "pygments_lexer": "ipython3",
   "version": "3.10.14"
  }
 },
 "nbformat": 4,
 "nbformat_minor": 2
}

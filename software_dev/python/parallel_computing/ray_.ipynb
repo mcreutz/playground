{
 "cells": [
  {
   "cell_type": "code",
   "execution_count": null,
   "metadata": {},
   "outputs": [],
   "source": []
  },
  {
   "cell_type": "code",
   "execution_count": 1,
   "metadata": {},
   "outputs": [
    {
     "name": "stderr",
     "output_type": "stream",
     "text": [
      "2025-06-24 00:30:40,602\tINFO client_builder.py:242 -- Passing the following kwargs to ray.init() on the server: log_to_driver\n",
      "SIGTERM handler is not set because current thread is not the main thread.\n"
     ]
    }
   ],
   "source": [
    "import ray\n",
    "import time\n",
    "import random\n",
    "\n",
    "# Shutdown any existing Ray connection\n",
    "if ray.is_initialized():\n",
    "    ray.shutdown()\n",
    "\n",
    "# Connect to Ray cluster\n",
    "ray.init(address='ray://localhost:10001')\n",
    "\n",
    "# worker function\n",
    "@ray.remote\n",
    "def compute_task(task_id, multiplier, base_value):\n",
    "    # time.sleep(0.2)  # 200ms sleep\n",
    "    return task_id * multiplier + base_value\n",
    "\n",
    "# Create 100 tasks with different parameters\n",
    "futures = []\n",
    "for i in range(50):\n",
    "    task_id = i + 1\n",
    "    multiplier = random.randint(2, 10)\n",
    "    base_value = random.randint(1, 50)\n",
    "    future = compute_task.remote(task_id, multiplier, base_value)\n",
    "    futures.append(future)\n",
    "\n",
    "# Wait for all tasks to complete\n",
    "results = ray.get(futures)\n",
    "\n",
    "# Shutdown Ray client\n",
    "ray.shutdown()"
   ]
  }
 ],
 "metadata": {
  "kernelspec": {
   "display_name": ".venv",
   "language": "python",
   "name": "python3"
  },
  "language_info": {
   "codemirror_mode": {
    "name": "ipython",
    "version": 3
   },
   "file_extension": ".py",
   "mimetype": "text/x-python",
   "name": "python",
   "nbconvert_exporter": "python",
   "pygments_lexer": "ipython3",
   "version": "3.12.11"
  }
 },
 "nbformat": 4,
 "nbformat_minor": 2
}

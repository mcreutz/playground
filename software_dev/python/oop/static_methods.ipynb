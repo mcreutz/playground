{
 "cells": [
  {
   "cell_type": "code",
   "execution_count": 8,
   "metadata": {},
   "outputs": [
    {
     "name": "stdout",
     "output_type": "stream",
     "text": [
      "static method\n",
      "class_property: 12\n",
      "instance_property: NO ACCESS\n",
      "-----\n",
      "class method\n",
      "class_property: 12\n",
      "instance_property: NO ACCESS\n",
      "-----\n"
     ]
    }
   ],
   "source": [
    "class MyClass():\n",
    "\n",
    "    class_property = 12\n",
    "    \n",
    "    def __init__(self):\n",
    "        self.instance_property = 34\n",
    "        \n",
    "    def instance_method(self):\n",
    "        print(\"instance method\")\n",
    "        print(f\"class_property: {MyClass.class_property}\")\n",
    "        print(f\"instance_property: {self.instance_property}\")\n",
    "        print(\"-----\")\n",
    "        \n",
    "\n",
    "    @staticmethod\n",
    "    def static_method():\n",
    "        print(\"static method\")\n",
    "        print(f\"class_property: {MyClass.class_property}\")  # This is bad.\n",
    "        print(f\"instance_property: NO ACCESS\")\n",
    "        print(\"-----\")\n",
    "\n",
    "    @classmethod\n",
    "    def class_method(cls):\n",
    "        print(\"class method\")\n",
    "        print(f\"class_property: {cls.class_property}\")\n",
    "        print(f\"instance_property: NO ACCESS\")\n",
    "        print(\"-----\")\n",
    "\n",
    "\n",
    "if __name__ == \"__main__\":\n",
    "    # my_object = MyClass()\n",
    "    # my_object.instance_method()\n",
    "    MyClass.static_method()\n",
    "    MyClass.class_method()"
   ]
  },
  {
   "cell_type": "code",
   "execution_count": null,
   "metadata": {},
   "outputs": [],
   "source": []
  },
  {
   "cell_type": "code",
   "execution_count": null,
   "metadata": {},
   "outputs": [],
   "source": []
  }
 ],
 "metadata": {
  "interpreter": {
   "hash": "d98c3b4b76a6c0d198e6bba6c34257f678fd8b927ca969049ed8b3cbefaaf8c3"
  },
  "kernelspec": {
   "display_name": "Python 3.9.7 64-bit ('playground-MkuFeJM_': pipenv)",
   "name": "python3"
  },
  "language_info": {
   "codemirror_mode": {
    "name": "ipython",
    "version": 3
   },
   "file_extension": ".py",
   "mimetype": "text/x-python",
   "name": "python",
   "nbconvert_exporter": "python",
   "pygments_lexer": "ipython3",
   "version": "3.9.7"
  },
  "orig_nbformat": 4
 },
 "nbformat": 4,
 "nbformat_minor": 2
}

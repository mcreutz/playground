{
 "cells": [
  {
   "cell_type": "code",
   "execution_count": 3,
   "metadata": {},
   "outputs": [],
   "source": [
    "import pathlib\n",
    "import zipfile"
   ]
  },
  {
   "cell_type": "code",
   "execution_count": 25,
   "metadata": {},
   "outputs": [
    {
     "name": "stdout",
     "output_type": "stream",
     "text": [
      "/\n",
      "/Users/martin\n"
     ]
    }
   ],
   "source": [
    "print(pathlib.Path(\"/Users\").parent)\n",
    "print(pathlib.Path.home())"
   ]
  },
  {
   "cell_type": "code",
   "execution_count": null,
   "metadata": {},
   "outputs": [],
   "source": [
    "# extract zip file\n",
    "with zipfile.ZipFile(\"testfile.txt.zip\", \"r\") as zip_ref:\n",
    "    zip_ref.extractall(\"temp\")\n"
   ]
  },
  {
   "cell_type": "code",
   "execution_count": 13,
   "metadata": {},
   "outputs": [],
   "source": [
    "# extracting from an archive with password\n",
    "with zipfile.ZipFile(\"testfile.txt.zip\", \"r\") as zip_ref:\n",
    "    zip_ref.extractall(pwd=b\"test\")\n"
   ]
  },
  {
   "cell_type": "code",
   "execution_count": 24,
   "metadata": {},
   "outputs": [
    {
     "name": "stdout",
     "output_type": "stream",
     "text": [
      "True\n",
      "False\n"
     ]
    }
   ],
   "source": [
    "# check if archive is password protected\n",
    "def is_encrypted(archive):\n",
    "    try:\n",
    "        with zipfile.ZipFile(archive, \"r\") as zip_ref:\n",
    "            zip_ref.testzip()\n",
    "    except RuntimeError as e:\n",
    "        if \"is encrypted, password required for extraction\" in str(e):\n",
    "            return True\n",
    "        else:\n",
    "            raise e\n",
    "    else:\n",
    "        return False\n",
    "\n",
    "print(is_encrypted(archive=\"encrypted.zip\"))\n",
    "print(is_encrypted(archive=\"unencrypted.zip\"))"
   ]
  },
  {
   "cell_type": "code",
   "execution_count": null,
   "metadata": {},
   "outputs": [],
   "source": []
  }
 ],
 "metadata": {
  "kernelspec": {
   "display_name": "playground-KdgE4xX--py3.10",
   "language": "python",
   "name": "python3"
  },
  "language_info": {
   "codemirror_mode": {
    "name": "ipython",
    "version": 3
   },
   "file_extension": ".py",
   "mimetype": "text/x-python",
   "name": "python",
   "nbconvert_exporter": "python",
   "pygments_lexer": "ipython3",
   "version": "3.10.8"
  },
  "orig_nbformat": 4,
  "vscode": {
   "interpreter": {
    "hash": "4534b3131e25656730c698a2226cb19b13d1fe0a1bfcb5e653460d16b9233f41"
   }
  }
 },
 "nbformat": 4,
 "nbformat_minor": 2
}

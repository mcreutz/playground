{
 "cells": [
  {
   "cell_type": "code",
   "execution_count": 6,
   "metadata": {},
   "outputs": [],
   "source": [
    "import ipaddress\n",
    "\n",
    "ip1 = ipaddress.ip_address(\"192.168.0.1\")\n",
    "ip2 = ipaddress.ip_address(\"192.168.0.19\")"
   ]
  },
  {
   "cell_type": "code",
   "execution_count": 19,
   "metadata": {},
   "outputs": [
    {
     "data": {
      "text/plain": [
       "[IPv4Address('192.168.0.1'),\n",
       " IPv4Address('192.168.0.2'),\n",
       " IPv4Address('192.168.0.3'),\n",
       " IPv4Address('192.168.0.4'),\n",
       " IPv4Address('192.168.0.5'),\n",
       " IPv4Address('192.168.0.6'),\n",
       " IPv4Address('192.168.0.7'),\n",
       " IPv4Address('192.168.0.8'),\n",
       " IPv4Address('192.168.0.9'),\n",
       " IPv4Address('192.168.0.10'),\n",
       " IPv4Address('192.168.0.11'),\n",
       " IPv4Address('192.168.0.12'),\n",
       " IPv4Address('192.168.0.13'),\n",
       " IPv4Address('192.168.0.14'),\n",
       " IPv4Address('192.168.0.15'),\n",
       " IPv4Address('192.168.0.16'),\n",
       " IPv4Address('192.168.0.17'),\n",
       " IPv4Address('192.168.0.18')]"
      ]
     },
     "execution_count": 19,
     "metadata": {},
     "output_type": "execute_result"
    }
   ],
   "source": [
    "# all ips between ip1 and ip2\n",
    "[ipaddress.ip_address(ip) for ip in range(int(ip1), int(ip2))]"
   ]
  },
  {
   "cell_type": "code",
   "execution_count": 17,
   "metadata": {},
   "outputs": [
    {
     "data": {
      "text/plain": [
       "[IPv4Network('192.168.0.1/32'),\n",
       " IPv4Network('192.168.0.2/31'),\n",
       " IPv4Network('192.168.0.4/30'),\n",
       " IPv4Network('192.168.0.8/29'),\n",
       " IPv4Network('192.168.0.16/30')]"
      ]
     },
     "execution_count": 17,
     "metadata": {},
     "output_type": "execute_result"
    }
   ],
   "source": [
    "[nw for nw in ipaddress.summarize_address_range(ip1, ip2)]"
   ]
  },
  {
   "cell_type": "code",
   "execution_count": 9,
   "metadata": {},
   "outputs": [
    {
     "name": "stdout",
     "output_type": "stream",
     "text": [
      "192.168.0.2\n",
      "192.168.0.3\n"
     ]
    }
   ],
   "source": [
    "for ip in ipaddress.IPv4Network('192.168.0.2/31'):\n",
    "    print(ip)"
   ]
  },
  {
   "cell_type": "code",
   "execution_count": 20,
   "metadata": {},
   "outputs": [
    {
     "ename": "TypeError",
     "evalue": "unsupported operand type(s) for -: 'IPv4Address' and 'IPv4Address'",
     "output_type": "error",
     "traceback": [
      "\u001b[0;31m---------------------------------------------------------------------------\u001b[0m",
      "\u001b[0;31mTypeError\u001b[0m                                 Traceback (most recent call last)",
      "Cell \u001b[0;32mIn [20], line 1\u001b[0m\n\u001b[0;32m----> 1\u001b[0m ip2 \u001b[39m-\u001b[39;49m ip1\n",
      "\u001b[0;31mTypeError\u001b[0m: unsupported operand type(s) for -: 'IPv4Address' and 'IPv4Address'"
     ]
    }
   ],
   "source": [
    "ip2 - ip1"
   ]
  },
  {
   "cell_type": "code",
   "execution_count": null,
   "metadata": {},
   "outputs": [],
   "source": [
    "for ip in range(ip1, ip2):\n",
    "    print(ip)"
   ]
  }
 ],
 "metadata": {
  "kernelspec": {
   "display_name": "playground-KdgE4xX--py3.10",
   "language": "python",
   "name": "python3"
  },
  "language_info": {
   "codemirror_mode": {
    "name": "ipython",
    "version": 3
   },
   "file_extension": ".py",
   "mimetype": "text/x-python",
   "name": "python",
   "nbconvert_exporter": "python",
   "pygments_lexer": "ipython3",
   "version": "3.10.8"
  },
  "orig_nbformat": 4,
  "vscode": {
   "interpreter": {
    "hash": "4534b3131e25656730c698a2226cb19b13d1fe0a1bfcb5e653460d16b9233f41"
   }
  }
 },
 "nbformat": 4,
 "nbformat_minor": 2
}

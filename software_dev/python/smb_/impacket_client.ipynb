{
 "cells": [
  {
   "cell_type": "code",
   "execution_count": 2,
   "metadata": {},
   "outputs": [],
   "source": [
    "from impacket.smbconnection import SMBConnection\n",
    "from impacket.smb3structs import SMB2_DIALECT_002, SMB2_DIALECT_21, SMB2_DIALECT_30, SMB2_DIALECT_302, SMB2_DIALECT_311"
   ]
  },
  {
   "cell_type": "code",
   "execution_count": null,
   "metadata": {},
   "outputs": [],
   "source": [
    "\"NT LM 0.12\"\n",
    "0x0202"
   ]
  },
  {
   "cell_type": "code",
   "execution_count": 21,
   "metadata": {},
   "outputs": [
    {
     "name": "stdout",
     "output_type": "stream",
     "text": [
      "0x300\n"
     ]
    }
   ],
   "source": [
    "smbClient = SMBConnection(remoteName=\"remote_name\", remoteHost=\"127.0.0.1\", myName=\"MYNAME\", sess_port=446)#, preferredDialect=SMB2_DIALECT_30)\n",
    "smbClient.login(user=\"uDCS\", password=\"Password\", domain=\"\", lmhash=\"\", nthash=\"\", ntlmFallback=False)\n",
    "print(hex(smbClient.getDialect()))\n",
    "# smbClient.readFile()\n",
    "smbClient.close()"
   ]
  }
 ],
 "metadata": {
  "kernelspec": {
   "display_name": "playground-0ZBjhm3r-py3.10",
   "language": "python",
   "name": "python3"
  },
  "language_info": {
   "codemirror_mode": {
    "name": "ipython",
    "version": 3
   },
   "file_extension": ".py",
   "mimetype": "text/x-python",
   "name": "python",
   "nbconvert_exporter": "python",
   "pygments_lexer": "ipython3",
   "version": "3.10.6"
  },
  "orig_nbformat": 4,
  "vscode": {
   "interpreter": {
    "hash": "209f868d1e28e070ea69f4dc66b9bf70dba9986efbf5363c700c867c4673879a"
   }
  }
 },
 "nbformat": 4,
 "nbformat_minor": 2
}

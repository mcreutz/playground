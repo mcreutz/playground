{
 "cells": [
  {
   "cell_type": "code",
   "execution_count": 17,
   "metadata": {},
   "outputs": [],
   "source": [
    "from impacket.smbconnection import SMBConnection\n",
    "from impacket.smb3structs import SMB2_DIALECT_002, SMB2_DIALECT_21, SMB2_DIALECT_30, SMB2_DIALECT_302, SMB2_DIALECT_311"
   ]
  },
  {
   "cell_type": "code",
   "execution_count": null,
   "metadata": {},
   "outputs": [],
   "source": [
    "\"NT LM 0.12\"\n",
    "0x0202"
   ]
  },
  {
   "cell_type": "code",
   "execution_count": 24,
   "metadata": {},
   "outputs": [
    {
     "ename": "SessionError",
     "evalue": "SMB SessionError: STATUS_NOT_SUPPORTED(The request is not supported.)",
     "output_type": "error",
     "traceback": [
      "\u001b[0;31m---------------------------------------------------------------------------\u001b[0m",
      "\u001b[0;31mSessionError\u001b[0m                              Traceback (most recent call last)",
      "Cell \u001b[0;32mIn [24], line 1\u001b[0m\n\u001b[0;32m----> 1\u001b[0m smbClient \u001b[39m=\u001b[39m SMBConnection(remoteName\u001b[39m=\u001b[39;49m\u001b[39m\"\u001b[39;49m\u001b[39m3c8f3ea72f46\u001b[39;49m\u001b[39m\"\u001b[39;49m, remoteHost\u001b[39m=\u001b[39;49m\u001b[39m\"\u001b[39;49m\u001b[39m127.0.0.1\u001b[39;49m\u001b[39m\"\u001b[39;49m, myName\u001b[39m=\u001b[39;49m\u001b[39m\"\u001b[39;49m\u001b[39mMY_CLIENT_NAME\u001b[39;49m\u001b[39m\"\u001b[39;49m, sess_port\u001b[39m=\u001b[39;49m\u001b[39m446\u001b[39;49m)\u001b[39m#, preferredDialect=SMB2_DIALECT_30)\u001b[39;00m\n\u001b[1;32m      2\u001b[0m smbClient\u001b[39m.\u001b[39mlogin(user\u001b[39m=\u001b[39m\u001b[39m\"\u001b[39m\u001b[39muDCS\u001b[39m\u001b[39m\"\u001b[39m, password\u001b[39m=\u001b[39m\u001b[39m\"\u001b[39m\u001b[39mPassword\u001b[39m\u001b[39m\"\u001b[39m, domain\u001b[39m=\u001b[39m\u001b[39m\"\u001b[39m\u001b[39mWORKGROUP\u001b[39m\u001b[39m\"\u001b[39m, lmhash\u001b[39m=\u001b[39m\u001b[39m\"\u001b[39m\u001b[39m\"\u001b[39m, nthash\u001b[39m=\u001b[39m\u001b[39m\"\u001b[39m\u001b[39m\"\u001b[39m, ntlmFallback\u001b[39m=\u001b[39m\u001b[39mFalse\u001b[39;00m)\n\u001b[1;32m      3\u001b[0m \u001b[39mprint\u001b[39m((smbClient\u001b[39m.\u001b[39mgetDialect()))\n",
      "File \u001b[0;32m~/.cache/pypoetry/virtualenvs/playground-0ZBjhm3r-py3.10/lib/python3.10/site-packages/impacket/smbconnection.py:80\u001b[0m, in \u001b[0;36mSMBConnection.__init__\u001b[0;34m(self, remoteName, remoteHost, myName, sess_port, timeout, preferredDialect, existingConnection, manualNegotiate)\u001b[0m\n\u001b[1;32m     77\u001b[0m \u001b[39m##preferredDialect = smb.SMB_DIALECT\u001b[39;00m\n\u001b[1;32m     79\u001b[0m \u001b[39mif\u001b[39;00m manualNegotiate \u001b[39mis\u001b[39;00m \u001b[39mFalse\u001b[39;00m:\n\u001b[0;32m---> 80\u001b[0m     \u001b[39mself\u001b[39;49m\u001b[39m.\u001b[39;49mnegotiateSession(preferredDialect)\n",
      "File \u001b[0;32m~/.cache/pypoetry/virtualenvs/playground-0ZBjhm3r-py3.10/lib/python3.10/site-packages/impacket/smbconnection.py:124\u001b[0m, in \u001b[0;36mSMBConnection.negotiateSession\u001b[0;34m(self, preferredDialect, flags1, flags2, negoData)\u001b[0m\n\u001b[1;32m    120\u001b[0m packet \u001b[39m=\u001b[39m \u001b[39mself\u001b[39m\u001b[39m.\u001b[39mnegotiateSessionWildcard(\u001b[39mself\u001b[39m\u001b[39m.\u001b[39m_myName, \u001b[39mself\u001b[39m\u001b[39m.\u001b[39m_remoteName, \u001b[39mself\u001b[39m\u001b[39m.\u001b[39m_remoteHost, \u001b[39mself\u001b[39m\u001b[39m.\u001b[39m_sess_port,\n\u001b[1;32m    121\u001b[0m                                        \u001b[39mself\u001b[39m\u001b[39m.\u001b[39m_timeout, \u001b[39mTrue\u001b[39;00m, flags1\u001b[39m=\u001b[39mflags1, flags2\u001b[39m=\u001b[39mflags2, data\u001b[39m=\u001b[39mnegoData)\n\u001b[1;32m    122\u001b[0m \u001b[39mif\u001b[39;00m packet[\u001b[39m0\u001b[39m:\u001b[39m1\u001b[39m] \u001b[39m==\u001b[39m \u001b[39mb\u001b[39m\u001b[39m'\u001b[39m\u001b[39m\\xfe\u001b[39;00m\u001b[39m'\u001b[39m:\n\u001b[1;32m    123\u001b[0m     \u001b[39m# Answer is SMB2 packet\u001b[39;00m\n\u001b[0;32m--> 124\u001b[0m     \u001b[39mself\u001b[39m\u001b[39m.\u001b[39m_SMBConnection \u001b[39m=\u001b[39m smb3\u001b[39m.\u001b[39;49mSMB3(\u001b[39mself\u001b[39;49m\u001b[39m.\u001b[39;49m_remoteName, \u001b[39mself\u001b[39;49m\u001b[39m.\u001b[39;49m_remoteHost, \u001b[39mself\u001b[39;49m\u001b[39m.\u001b[39;49m_myName, hostType,\n\u001b[1;32m    125\u001b[0m                                     \u001b[39mself\u001b[39;49m\u001b[39m.\u001b[39;49m_sess_port, \u001b[39mself\u001b[39;49m\u001b[39m.\u001b[39;49m_timeout, session\u001b[39m=\u001b[39;49m\u001b[39mself\u001b[39;49m\u001b[39m.\u001b[39;49m_nmbSession,\n\u001b[1;32m    126\u001b[0m                                     negSessionResponse\u001b[39m=\u001b[39;49mSMB2Packet(packet))\n\u001b[1;32m    127\u001b[0m \u001b[39melse\u001b[39;00m:\n\u001b[1;32m    128\u001b[0m     \u001b[39m# Answer is SMB packet, sticking to SMBv1\u001b[39;00m\n\u001b[1;32m    129\u001b[0m     \u001b[39mself\u001b[39m\u001b[39m.\u001b[39m_SMBConnection \u001b[39m=\u001b[39m smb\u001b[39m.\u001b[39mSMB(\u001b[39mself\u001b[39m\u001b[39m.\u001b[39m_remoteName, \u001b[39mself\u001b[39m\u001b[39m.\u001b[39m_remoteHost, \u001b[39mself\u001b[39m\u001b[39m.\u001b[39m_myName, hostType,\n\u001b[1;32m    130\u001b[0m                                   \u001b[39mself\u001b[39m\u001b[39m.\u001b[39m_sess_port, \u001b[39mself\u001b[39m\u001b[39m.\u001b[39m_timeout, session\u001b[39m=\u001b[39m\u001b[39mself\u001b[39m\u001b[39m.\u001b[39m_nmbSession,\n\u001b[1;32m    131\u001b[0m                                   negPacket\u001b[39m=\u001b[39mpacket)\n",
      "File \u001b[0;32m~/.cache/pypoetry/virtualenvs/playground-0ZBjhm3r-py3.10/lib/python3.10/site-packages/impacket/smb3.py:273\u001b[0m, in \u001b[0;36mSMB3.__init__\u001b[0;34m(self, remote_name, remote_host, my_name, host_type, sess_port, timeout, UDP, preferredDialect, session, negSessionResponse)\u001b[0m\n\u001b[1;32m    271\u001b[0m \u001b[39mself\u001b[39m\u001b[39m.\u001b[39m_Connection[\u001b[39m'\u001b[39m\u001b[39mSequenceWindow\u001b[39m\u001b[39m'\u001b[39m] \u001b[39m+\u001b[39m\u001b[39m=\u001b[39m \u001b[39m1\u001b[39m\n\u001b[1;32m    272\u001b[0m \u001b[39m# Let's negotiate again if needed (or parse the existing response) using the same connection\u001b[39;00m\n\u001b[0;32m--> 273\u001b[0m \u001b[39mself\u001b[39;49m\u001b[39m.\u001b[39;49mnegotiateSession(preferredDialect, negSessionResponse)\n",
      "File \u001b[0;32m~/.cache/pypoetry/virtualenvs/playground-0ZBjhm3r-py3.10/lib/python3.10/site-packages/impacket/smb3.py:562\u001b[0m, in \u001b[0;36mSMB3.negotiateSession\u001b[0;34m(self, preferredDialect, negSessionResponse)\u001b[0m\n\u001b[1;32m    560\u001b[0m packetID \u001b[39m=\u001b[39m \u001b[39mself\u001b[39m\u001b[39m.\u001b[39msendSMB(packet)\n\u001b[1;32m    561\u001b[0m ans \u001b[39m=\u001b[39m \u001b[39mself\u001b[39m\u001b[39m.\u001b[39mrecvSMB(packetID)\n\u001b[0;32m--> 562\u001b[0m \u001b[39mif\u001b[39;00m ans\u001b[39m.\u001b[39;49misValidAnswer(STATUS_SUCCESS):\n\u001b[1;32m    563\u001b[0m     negResp \u001b[39m=\u001b[39m SMB2Negotiate_Response(ans[\u001b[39m'\u001b[39m\u001b[39mData\u001b[39m\u001b[39m'\u001b[39m])\n\u001b[1;32m    564\u001b[0m     \u001b[39mif\u001b[39;00m negResp[\u001b[39m'\u001b[39m\u001b[39mDialectRevision\u001b[39m\u001b[39m'\u001b[39m]  \u001b[39m==\u001b[39m SMB2_DIALECT_311:\n",
      "File \u001b[0;32m~/.cache/pypoetry/virtualenvs/playground-0ZBjhm3r-py3.10/lib/python3.10/site-packages/impacket/smb3structs.py:458\u001b[0m, in \u001b[0;36mSMBPacketBase.isValidAnswer\u001b[0;34m(self, status)\u001b[0m\n\u001b[1;32m    456\u001b[0m \u001b[39mif\u001b[39;00m \u001b[39mself\u001b[39m[\u001b[39m'\u001b[39m\u001b[39mStatus\u001b[39m\u001b[39m'\u001b[39m] \u001b[39m!=\u001b[39m status:\n\u001b[1;32m    457\u001b[0m     \u001b[39mfrom\u001b[39;00m \u001b[39m.\u001b[39;00m \u001b[39mimport\u001b[39;00m smb3\n\u001b[0;32m--> 458\u001b[0m     \u001b[39mraise\u001b[39;00m smb3\u001b[39m.\u001b[39mSessionError(\u001b[39mself\u001b[39m[\u001b[39m'\u001b[39m\u001b[39mStatus\u001b[39m\u001b[39m'\u001b[39m], \u001b[39mself\u001b[39m)\n\u001b[1;32m    459\u001b[0m \u001b[39mreturn\u001b[39;00m \u001b[39mTrue\u001b[39;00m\n",
      "\u001b[0;31mSessionError\u001b[0m: SMB SessionError: STATUS_NOT_SUPPORTED(The request is not supported.)"
     ]
    }
   ],
   "source": [
    "smbClient = SMBConnection(remoteName=\"3c8f3ea72f46\", remoteHost=\"127.0.0.1\", myName=\"MY_CLIENT_NAME\", sess_port=446)#, preferredDialect=SMB2_DIALECT_30)\n",
    "smbClient.login(user=\"uDCS\", password=\"Password\", domain=\"WORKGROUP\", lmhash=\"\", nthash=\"\", ntlmFallback=False)\n",
    "# print(smbClient.getDialect())\n",
    "print(hex(smbClient.getDialect()))\n",
    "# smbClient.readFile()\n",
    "smbClient.close()"
   ]
  }
 ],
 "metadata": {
  "kernelspec": {
   "display_name": "playground-0ZBjhm3r-py3.10",
   "language": "python",
   "name": "python3"
  },
  "language_info": {
   "codemirror_mode": {
    "name": "ipython",
    "version": 3
   },
   "file_extension": ".py",
   "mimetype": "text/x-python",
   "name": "python",
   "nbconvert_exporter": "python",
   "pygments_lexer": "ipython3",
   "version": "3.10.6 (main, Nov 14 2022, 16:10:14) [GCC 11.3.0]"
  },
  "orig_nbformat": 4,
  "vscode": {
   "interpreter": {
    "hash": "209f868d1e28e070ea69f4dc66b9bf70dba9986efbf5363c700c867c4673879a"
   }
  }
 },
 "nbformat": 4,
 "nbformat_minor": 2
}

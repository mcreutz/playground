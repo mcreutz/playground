{
 "cells": [
  {
   "cell_type": "code",
   "execution_count": 1,
   "metadata": {},
   "outputs": [],
   "source": [
    "import tempfile\n",
    "import json\n",
    "\n",
    "from impacket.smbconnection import SMBConnection\n",
    "from impacket.smb import SMB_DIALECT\n",
    "from impacket.smb3structs import SMB2_DIALECT_002, SMB2_DIALECT_21, SMB2_DIALECT_30, SMB2_DIALECT_302, SMB2_DIALECT_311"
   ]
  },
  {
   "cell_type": "code",
   "execution_count": 8,
   "metadata": {},
   "outputs": [
    {
     "name": "stdout",
     "output_type": "stream",
     "text": [
      "0x300\n"
     ]
    }
   ],
   "source": [
    "remote_host = \"127.0.0.1\"\n",
    "port = 446\n",
    "password = \"Password\"\n",
    "smbClient = SMBConnection(remoteName=\"localhost\", remoteHost=remote_host, myName=\"MY_CLIENT_NAME\", sess_port=port)# , preferredDialect=SMB2_DIALECT_302)\n",
    "smbClient.login(user=\"uDCS\", password=password, domain=\"\", lmhash=\"\", nthash=\"\", ntlmFallback=True)\n",
    "\n",
    "dialect = smbClient.getDialect()\n",
    "if type(dialect) is int:\n",
    "    print(hex(smbClient.getDialect()))\n",
    "else:\n",
    "    print(dialect)"
   ]
  },
  {
   "cell_type": "code",
   "execution_count": 10,
   "metadata": {},
   "outputs": [
    {
     "name": "stdout",
     "output_type": "stream",
     "text": [
      "84DBCEB53048\n",
      "Windows 6.1 Build 0\n",
      "127.0.0.1\n",
      "84DBCEB53048\n",
      "<impacket.nmb.NetBIOSTCPSession object at 0x7ff9a2967df0>\n",
      "<impacket.smb3.SMB3 object at 0x7ff9a2d20af0>\n"
     ]
    }
   ],
   "source": [
    "# smbClient.getClientName()\n",
    "print(smbClient.getServerName())\n",
    "print(smbClient.getServerOS())\n",
    "print(smbClient.getRemoteHost())\n",
    "print(smbClient.getRemoteName())\n",
    "print(smbClient.getNMBServer())\n",
    "print(smbClient.getSMBServer())"
   ]
  },
  {
   "cell_type": "code",
   "execution_count": null,
   "metadata": {},
   "outputs": [],
   "source": [
    "share_name = \"DCSArchive\"\n",
    "smbClient.listPath(share_name, \"/*\")"
   ]
  },
  {
   "cell_type": "code",
   "execution_count": null,
   "metadata": {},
   "outputs": [],
   "source": [
    "readfile = \"subdirectory/testfile.txt\"\n",
    "writefile = \"testfile.txt\"\n",
    "fw = open(writefile, \"wb\")\n",
    "smbClient.getFile(share_name, readfile, fw.write)\n",
    "fw.close()"
   ]
  },
  {
   "cell_type": "code",
   "execution_count": 11,
   "metadata": {},
   "outputs": [],
   "source": [
    "smbClient.close()"
   ]
  }
 ],
 "metadata": {
  "kernelspec": {
   "display_name": "playground-3EBBBnoF-py3.10",
   "language": "python",
   "name": "python3"
  },
  "language_info": {
   "codemirror_mode": {
    "name": "ipython",
    "version": 3
   },
   "file_extension": ".py",
   "mimetype": "text/x-python",
   "name": "python",
   "nbconvert_exporter": "python",
   "pygments_lexer": "ipython3",
   "version": "3.10.6"
  },
  "orig_nbformat": 4,
  "vscode": {
   "interpreter": {
    "hash": "016c32e91cd1e07b56cbabf32411ebf659c66ff11bfb36b10c8a8b5657e288ce"
   }
  }
 },
 "nbformat": 4,
 "nbformat_minor": 2
}

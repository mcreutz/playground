{
 "cells": [
  {
   "cell_type": "code",
   "execution_count": 58,
   "metadata": {},
   "outputs": [],
   "source": [
    "import tempfile\n",
    "import json\n",
    "\n",
    "from impacket.smbconnection import SMBConnection\n",
    "from impacket.smb3structs import SMB2_DIALECT_002, SMB2_DIALECT_21, SMB2_DIALECT_30, SMB2_DIALECT_302, SMB2_DIALECT_311"
   ]
  },
  {
   "cell_type": "code",
   "execution_count": 83,
   "metadata": {},
   "outputs": [
    {
     "data": {
      "text/plain": [
       "True"
      ]
     },
     "execution_count": 83,
     "metadata": {},
     "output_type": "execute_result"
    }
   ],
   "source": [
    "remote_host = \"localhost\"\n",
    "port = 446\n",
    "password = \"Password\"\n",
    "smbClient = SMBConnection(remoteName=\"localhost\", remoteHost=remote_host, myName=\"MY_CLIENT_NAME\", sess_port=port)#, preferredDialect=SMB2_DIALECT_30)\n",
    "smbClient.login(user=\"uDCS\", password=password, domain=\"\", lmhash=\"\", nthash=\"\", ntlmFallback=True)"
   ]
  },
  {
   "cell_type": "code",
   "execution_count": 84,
   "metadata": {},
   "outputs": [
    {
     "name": "stdout",
     "output_type": "stream",
     "text": [
      "0x210\n"
     ]
    }
   ],
   "source": [
    "# print(smbClient.getDialect())\n",
    "print(hex(smbClient.getDialect()))"
   ]
  },
  {
   "cell_type": "code",
   "execution_count": 85,
   "metadata": {},
   "outputs": [
    {
     "data": {
      "text/plain": [
       "[<SharedFile instance: shortname=\".\", longname=\".\", filesize=0>,\n",
       " <SharedFile instance: shortname=\"..\", longname=\"..\", filesize=0>,\n",
       " <SharedFile instance: shortname=\"testfile.txt\", longname=\"testfile.txt\", filesize=19>]"
      ]
     },
     "execution_count": 85,
     "metadata": {},
     "output_type": "execute_result"
    }
   ],
   "source": [
    "share_name = \"TESTSHARE\"\n",
    "smbClient.listPath(share_name, \"/*\")"
   ]
  },
  {
   "cell_type": "code",
   "execution_count": 81,
   "metadata": {},
   "outputs": [],
   "source": [
    "filename = \"testfile.txt\"\n",
    "fw = open(filename, \"wb\")\n",
    "smbClient.getFile(share_name, filename, fw.write)\n",
    "fw.close()"
   ]
  },
  {
   "cell_type": "code",
   "execution_count": 86,
   "metadata": {},
   "outputs": [],
   "source": [
    "smbClient.close()"
   ]
  }
 ],
 "metadata": {
  "kernelspec": {
   "display_name": "playground-0ZBjhm3r-py3.10",
   "language": "python",
   "name": "python3"
  },
  "language_info": {
   "codemirror_mode": {
    "name": "ipython",
    "version": 3
   },
   "file_extension": ".py",
   "mimetype": "text/x-python",
   "name": "python",
   "nbconvert_exporter": "python",
   "pygments_lexer": "ipython3",
   "version": "3.10.6"
  },
  "orig_nbformat": 4,
  "vscode": {
   "interpreter": {
    "hash": "209f868d1e28e070ea69f4dc66b9bf70dba9986efbf5363c700c867c4673879a"
   }
  }
 },
 "nbformat": 4,
 "nbformat_minor": 2
}

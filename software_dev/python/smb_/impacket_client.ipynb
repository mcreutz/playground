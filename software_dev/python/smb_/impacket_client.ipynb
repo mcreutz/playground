{
 "cells": [
  {
   "cell_type": "code",
   "execution_count": 1,
   "metadata": {},
   "outputs": [],
   "source": [
    "import tempfile\n",
    "import json\n",
    "\n",
    "from impacket.smbconnection import SMBConnection\n",
    "from impacket.smb3structs import SMB2_DIALECT_002, SMB2_DIALECT_21, SMB2_DIALECT_30, SMB2_DIALECT_302, SMB2_DIALECT_311"
   ]
  },
  {
   "cell_type": "code",
   "execution_count": 53,
   "metadata": {},
   "outputs": [
    {
     "data": {
      "text/plain": [
       "True"
      ]
     },
     "execution_count": 53,
     "metadata": {},
     "output_type": "execute_result"
    }
   ],
   "source": [
    "remote_host = \"localhost\"\n",
    "port = 446\n",
    "password = \"Password\"\n",
    "smbClient = SMBConnection(remoteName=\"localhost\", remoteHost=remote_host, myName=\"MY_CLIENT_NAME\", sess_port=port)#, preferredDialect=SMB2_DIALECT_30)\n",
    "smbClient.login(user=\"uDCS\", password=password, domain=\"\", lmhash=\"\", nthash=\"\", ntlmFallback=True)"
   ]
  },
  {
   "cell_type": "code",
   "execution_count": 54,
   "metadata": {},
   "outputs": [
    {
     "name": "stdout",
     "output_type": "stream",
     "text": [
      "0x300\n"
     ]
    }
   ],
   "source": [
    "# print(smbClient.getDialect())\n",
    "print(hex(smbClient.getDialect()))"
   ]
  },
  {
   "cell_type": "code",
   "execution_count": 55,
   "metadata": {},
   "outputs": [
    {
     "data": {
      "text/plain": [
       "[<SharedFile instance: shortname=\".\", longname=\".\", filesize=0>,\n",
       " <SharedFile instance: shortname=\"..\", longname=\"..\", filesize=0>,\n",
       " <SharedFile instance: shortname=\"testfile.txt\", longname=\"testfile.txt\", filesize=19>]"
      ]
     },
     "execution_count": 55,
     "metadata": {},
     "output_type": "execute_result"
    }
   ],
   "source": [
    "share_name = \"TEST-SHARE\"\n",
    "smbClient.listPath(share_name, \"subdirectory/*\")"
   ]
  },
  {
   "cell_type": "code",
   "execution_count": 56,
   "metadata": {},
   "outputs": [],
   "source": [
    "readfile = \"subdirectory/testfile.txt\"\n",
    "writefile = \"testfile.txt\"\n",
    "fw = open(writefile, \"wb\")\n",
    "smbClient.getFile(share_name, readfile, fw.write)\n",
    "fw.close()"
   ]
  },
  {
   "cell_type": "code",
   "execution_count": 48,
   "metadata": {},
   "outputs": [],
   "source": [
    "smbClient.close()"
   ]
  }
 ],
 "metadata": {
  "kernelspec": {
   "display_name": "playground-0ZBjhm3r-py3.10",
   "language": "python",
   "name": "python3"
  },
  "language_info": {
   "codemirror_mode": {
    "name": "ipython",
    "version": 3
   },
   "file_extension": ".py",
   "mimetype": "text/x-python",
   "name": "python",
   "nbconvert_exporter": "python",
   "pygments_lexer": "ipython3",
   "version": "3.10.6"
  },
  "orig_nbformat": 4,
  "vscode": {
   "interpreter": {
    "hash": "209f868d1e28e070ea69f4dc66b9bf70dba9986efbf5363c700c867c4673879a"
   }
  }
 },
 "nbformat": 4,
 "nbformat_minor": 2
}

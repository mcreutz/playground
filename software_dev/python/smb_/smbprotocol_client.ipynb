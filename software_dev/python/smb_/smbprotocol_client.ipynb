{
 "cells": [
  {
   "attachments": {},
   "cell_type": "markdown",
   "metadata": {},
   "source": [
    "## High level interface"
   ]
  },
  {
   "cell_type": "code",
   "execution_count": 1,
   "metadata": {},
   "outputs": [],
   "source": [
    "from smbclient import link, open_file, register_session, remove, rename, stat, symlink, listdir"
   ]
  },
  {
   "cell_type": "code",
   "execution_count": 6,
   "metadata": {},
   "outputs": [],
   "source": [
    "# Optional - register the server with explicit credentials\n",
    "session = register_session(\"150.150.98.6\", port=445, username=\"uDCS\", password=\"Password\", require_signing=False)\n",
    "session.connect()"
   ]
  },
  {
   "cell_type": "code",
   "execution_count": null,
   "metadata": {},
   "outputs": [],
   "source": [
    "for filename in listdir(r\"\\\\150.150.98.6\\DCSArchive\"):\n",
    "    print(filename)"
   ]
  },
  {
   "cell_type": "code",
   "execution_count": null,
   "metadata": {},
   "outputs": [],
   "source": [
    "session.disconnect()"
   ]
  },
  {
   "attachments": {},
   "cell_type": "markdown",
   "metadata": {},
   "source": [
    "## Low level interface"
   ]
  },
  {
   "cell_type": "code",
   "execution_count": 1,
   "metadata": {},
   "outputs": [],
   "source": [
    "import uuid\n",
    "\n",
    "from smbprotocol.connection import Connection\n",
    "from smbprotocol.open import (\n",
    "    CreateDisposition,\n",
    "    CreateOptions,\n",
    "    DirectoryAccessMask,\n",
    "    FileAttributes,\n",
    "    FileInformationClass,\n",
    "    FilePipePrinterAccessMask,\n",
    "    ImpersonationLevel,\n",
    "    Open,\n",
    "    ShareAccess,\n",
    ")\n",
    "from smbprotocol.session import Session\n",
    "from smbprotocol.tree import TreeConnect\n"
   ]
  },
  {
   "cell_type": "code",
   "execution_count": 2,
   "metadata": {},
   "outputs": [],
   "source": [
    "server = \"127.0.0.1\"\n",
    "port = 446\n",
    "username = \"uDCS\"\n",
    "password = \"Password\"\n",
    "share = r\"\\\\%s\\DCS\" % server\n",
    "dir_name = \"SHIFT2\"\n",
    "\n",
    "connection = Connection(uuid.uuid4(), server, port)\n",
    "connection.connect()\n",
    "\n",
    "session = Session(connection, username, password)\n",
    "session.connect()\n",
    "tree = TreeConnect(session, share)\n",
    "tree.connect()\n",
    "\n",
    "connection.disconnect(True)"
   ]
  }
 ],
 "metadata": {
  "kernelspec": {
   "display_name": "playground-3EBBBnoF-py3.10",
   "language": "python",
   "name": "python3"
  },
  "language_info": {
   "codemirror_mode": {
    "name": "ipython",
    "version": 3
   },
   "file_extension": ".py",
   "mimetype": "text/x-python",
   "name": "python",
   "nbconvert_exporter": "python",
   "pygments_lexer": "ipython3",
   "version": "3.10.6"
  },
  "orig_nbformat": 4,
  "vscode": {
   "interpreter": {
    "hash": "016c32e91cd1e07b56cbabf32411ebf659c66ff11bfb36b10c8a8b5657e288ce"
   }
  }
 },
 "nbformat": 4,
 "nbformat_minor": 2
}

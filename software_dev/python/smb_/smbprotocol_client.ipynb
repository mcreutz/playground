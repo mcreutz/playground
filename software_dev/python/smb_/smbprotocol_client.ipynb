{
 "cells": [
  {
   "attachments": {},
   "cell_type": "markdown",
   "metadata": {},
   "source": [
    "## High level interface"
   ]
  },
  {
   "cell_type": "code",
   "execution_count": 3,
   "metadata": {},
   "outputs": [],
   "source": [
    "from smbclient import link, open_file, register_session, remove, rename, stat, symlink, listdir"
   ]
  },
  {
   "cell_type": "code",
   "execution_count": 8,
   "metadata": {},
   "outputs": [],
   "source": [
    "# Optional - register the server with explicit credentials\n",
    "session = register_session(\"localhost\", port=446, username=\"uDCS\", password=\"Password\", require_signing=False)"
   ]
  },
  {
   "cell_type": "code",
   "execution_count": 10,
   "metadata": {},
   "outputs": [
    {
     "ename": "ValueError",
     "evalue": "Failed to connect to 'localhost:446:445': [Errno -2] Name or service not known",
     "output_type": "error",
     "traceback": [
      "\u001b[0;31m---------------------------------------------------------------------------\u001b[0m",
      "\u001b[0;31mgaierror\u001b[0m                                  Traceback (most recent call last)",
      "File \u001b[0;32m~/.cache/pypoetry/virtualenvs/playground-3EBBBnoF-py3.10/lib/python3.10/site-packages/smbprotocol/transport.py:68\u001b[0m, in \u001b[0;36mTcp.connect\u001b[0;34m(self)\u001b[0m\n\u001b[1;32m     67\u001b[0m \u001b[39mtry\u001b[39;00m:\n\u001b[0;32m---> 68\u001b[0m     \u001b[39mself\u001b[39m\u001b[39m.\u001b[39m_sock \u001b[39m=\u001b[39m socket\u001b[39m.\u001b[39;49mcreate_connection((\u001b[39mself\u001b[39;49m\u001b[39m.\u001b[39;49mserver, \u001b[39mself\u001b[39;49m\u001b[39m.\u001b[39;49mport), timeout\u001b[39m=\u001b[39;49m\u001b[39mself\u001b[39;49m\u001b[39m.\u001b[39;49mtimeout)\n\u001b[1;32m     69\u001b[0m \u001b[39mexcept\u001b[39;00m (\u001b[39mOSError\u001b[39;00m, socket\u001b[39m.\u001b[39mgaierror) \u001b[39mas\u001b[39;00m err:\n",
      "File \u001b[0;32m/usr/lib/python3.10/socket.py:824\u001b[0m, in \u001b[0;36mcreate_connection\u001b[0;34m(address, timeout, source_address)\u001b[0m\n\u001b[1;32m    823\u001b[0m err \u001b[39m=\u001b[39m \u001b[39mNone\u001b[39;00m\n\u001b[0;32m--> 824\u001b[0m \u001b[39mfor\u001b[39;00m res \u001b[39min\u001b[39;00m getaddrinfo(host, port, \u001b[39m0\u001b[39;49m, SOCK_STREAM):\n\u001b[1;32m    825\u001b[0m     af, socktype, proto, canonname, sa \u001b[39m=\u001b[39m res\n",
      "File \u001b[0;32m/usr/lib/python3.10/socket.py:955\u001b[0m, in \u001b[0;36mgetaddrinfo\u001b[0;34m(host, port, family, type, proto, flags)\u001b[0m\n\u001b[1;32m    954\u001b[0m addrlist \u001b[39m=\u001b[39m []\n\u001b[0;32m--> 955\u001b[0m \u001b[39mfor\u001b[39;00m res \u001b[39min\u001b[39;00m _socket\u001b[39m.\u001b[39;49mgetaddrinfo(host, port, family, \u001b[39mtype\u001b[39;49m, proto, flags):\n\u001b[1;32m    956\u001b[0m     af, socktype, proto, canonname, sa \u001b[39m=\u001b[39m res\n",
      "\u001b[0;31mgaierror\u001b[0m: [Errno -2] Name or service not known",
      "\nThe above exception was the direct cause of the following exception:\n",
      "\u001b[0;31mValueError\u001b[0m                                Traceback (most recent call last)",
      "Cell \u001b[0;32mIn [10], line 1\u001b[0m\n\u001b[0;32m----> 1\u001b[0m \u001b[39mfor\u001b[39;00m filename \u001b[39min\u001b[39;00m listdir(\u001b[39mr\u001b[39;49m\u001b[39m\"\u001b[39;49m\u001b[39m\\\\\u001b[39;49;00m\u001b[39mlocalhost:446\u001b[39;49m\u001b[39m\\\u001b[39;49m\u001b[39mDCS\u001b[39;49m\u001b[39m\\\u001b[39;49m\u001b[39mSHIFT2\u001b[39;49m\u001b[39m\"\u001b[39;49m):\n\u001b[1;32m      2\u001b[0m     \u001b[39mprint\u001b[39m(filename)\n",
      "File \u001b[0;32m~/.cache/pypoetry/virtualenvs/playground-3EBBBnoF-py3.10/lib/python3.10/site-packages/smbclient/_os.py:238\u001b[0m, in \u001b[0;36mlistdir\u001b[0;34m(path, search_pattern, **kwargs)\u001b[0m\n\u001b[1;32m    227\u001b[0m \u001b[39mdef\u001b[39;00m \u001b[39mlistdir\u001b[39m(path, search_pattern\u001b[39m=\u001b[39m\u001b[39m\"\u001b[39m\u001b[39m*\u001b[39m\u001b[39m\"\u001b[39m, \u001b[39m*\u001b[39m\u001b[39m*\u001b[39mkwargs):\n\u001b[1;32m    228\u001b[0m     \u001b[39m\"\"\"\u001b[39;00m\n\u001b[1;32m    229\u001b[0m \u001b[39m    Return a list containing the names of the entries in the directory given by path. The list is in arbitrary order,\u001b[39;00m\n\u001b[1;32m    230\u001b[0m \u001b[39m    and does not include the special entries '.' and '..' even if they are present in the directory.\u001b[39;00m\n\u001b[0;32m   (...)\u001b[0m\n\u001b[1;32m    236\u001b[0m \u001b[39m    :return: A list containing the names of the entries in the directory.\u001b[39;00m\n\u001b[1;32m    237\u001b[0m \u001b[39m    \"\"\"\u001b[39;00m\n\u001b[0;32m--> 238\u001b[0m     \u001b[39mwith\u001b[39;00m SMBDirectoryIO(path, mode\u001b[39m=\u001b[39;49m\u001b[39m\"\u001b[39;49m\u001b[39mr\u001b[39;49m\u001b[39m\"\u001b[39;49m, share_access\u001b[39m=\u001b[39;49m\u001b[39m\"\u001b[39;49m\u001b[39mr\u001b[39;49m\u001b[39m\"\u001b[39;49m, \u001b[39m*\u001b[39;49m\u001b[39m*\u001b[39;49mkwargs) \u001b[39mas\u001b[39;00m dir_fd:\n\u001b[1;32m    239\u001b[0m         \u001b[39mtry\u001b[39;00m:\n\u001b[1;32m    240\u001b[0m             raw_filenames \u001b[39m=\u001b[39m dir_fd\u001b[39m.\u001b[39mquery_directory(search_pattern, FileInformationClass\u001b[39m.\u001b[39mFILE_NAMES_INFORMATION)\n",
      "File \u001b[0;32m~/.cache/pypoetry/virtualenvs/playground-3EBBBnoF-py3.10/lib/python3.10/site-packages/smbclient/_io.py:353\u001b[0m, in \u001b[0;36mSMBRawIO.__init__\u001b[0;34m(self, path, mode, share_access, desired_access, file_attributes, create_options, **kwargs)\u001b[0m\n\u001b[1;32m    350\u001b[0m \u001b[39mdef\u001b[39;00m \u001b[39m__init__\u001b[39m(\n\u001b[1;32m    351\u001b[0m     \u001b[39mself\u001b[39m, path, mode\u001b[39m=\u001b[39m\u001b[39m\"\u001b[39m\u001b[39mr\u001b[39m\u001b[39m\"\u001b[39m, share_access\u001b[39m=\u001b[39m\u001b[39mNone\u001b[39;00m, desired_access\u001b[39m=\u001b[39m\u001b[39mNone\u001b[39;00m, file_attributes\u001b[39m=\u001b[39m\u001b[39mNone\u001b[39;00m, create_options\u001b[39m=\u001b[39m\u001b[39m0\u001b[39m, \u001b[39m*\u001b[39m\u001b[39m*\u001b[39mkwargs\n\u001b[1;32m    352\u001b[0m ):\n\u001b[0;32m--> 353\u001b[0m     tree, fd_path \u001b[39m=\u001b[39m get_smb_tree(path, \u001b[39m*\u001b[39;49m\u001b[39m*\u001b[39;49mkwargs)\n\u001b[1;32m    355\u001b[0m     \u001b[39mself\u001b[39m\u001b[39m.\u001b[39mshare_access \u001b[39m=\u001b[39m share_access\n\u001b[1;32m    356\u001b[0m     \u001b[39mself\u001b[39m\u001b[39m.\u001b[39mfd \u001b[39m=\u001b[39m Open(tree, fd_path)\n",
      "File \u001b[0;32m~/.cache/pypoetry/virtualenvs/playground-3EBBBnoF-py3.10/lib/python3.10/site-packages/smbclient/_pool.py:304\u001b[0m, in \u001b[0;36mget_smb_tree\u001b[0;34m(path, username, password, port, encrypt, connection_timeout, connection_cache)\u001b[0m\n\u001b[1;32m    301\u001b[0m         path_split \u001b[39m=\u001b[39m [p \u001b[39mfor\u001b[39;00m p \u001b[39min\u001b[39;00m path\u001b[39m.\u001b[39msplit(\u001b[39m\"\u001b[39m\u001b[39m\\\\\u001b[39;00m\u001b[39m\"\u001b[39m) \u001b[39mif\u001b[39;00m p]\n\u001b[1;32m    303\u001b[0m server \u001b[39m=\u001b[39m path_split[\u001b[39m0\u001b[39m]\n\u001b[0;32m--> 304\u001b[0m session \u001b[39m=\u001b[39m register_session(\n\u001b[1;32m    305\u001b[0m     server,\n\u001b[1;32m    306\u001b[0m     username\u001b[39m=\u001b[39;49musername,\n\u001b[1;32m    307\u001b[0m     password\u001b[39m=\u001b[39;49mpassword,\n\u001b[1;32m    308\u001b[0m     port\u001b[39m=\u001b[39;49mport,\n\u001b[1;32m    309\u001b[0m     encrypt\u001b[39m=\u001b[39;49mencrypt,\n\u001b[1;32m    310\u001b[0m     connection_timeout\u001b[39m=\u001b[39;49mconnection_timeout,\n\u001b[1;32m    311\u001b[0m     connection_cache\u001b[39m=\u001b[39;49mconnection_cache,\n\u001b[1;32m    312\u001b[0m     auth_protocol\u001b[39m=\u001b[39;49mauth_protocol,\n\u001b[1;32m    313\u001b[0m )\n\u001b[1;32m    315\u001b[0m share_path \u001b[39m=\u001b[39m \u001b[39m\"\u001b[39m\u001b[39m\\\\\u001b[39;00m\u001b[39m\\\\\u001b[39;00m\u001b[39m%s\u001b[39;00m\u001b[39m\\\\\u001b[39;00m\u001b[39m%s\u001b[39;00m\u001b[39m\"\u001b[39m \u001b[39m%\u001b[39m (server, path_split[\u001b[39m1\u001b[39m])\n\u001b[1;32m    316\u001b[0m tree \u001b[39m=\u001b[39m \u001b[39mnext\u001b[39m((t \u001b[39mfor\u001b[39;00m t \u001b[39min\u001b[39;00m session\u001b[39m.\u001b[39mtree_connect_table\u001b[39m.\u001b[39mvalues() \u001b[39mif\u001b[39;00m t\u001b[39m.\u001b[39mshare_name \u001b[39m==\u001b[39m share_path), \u001b[39mNone\u001b[39;00m)\n",
      "File \u001b[0;32m~/.cache/pypoetry/virtualenvs/playground-3EBBBnoF-py3.10/lib/python3.10/site-packages/smbclient/_pool.py:408\u001b[0m, in \u001b[0;36mregister_session\u001b[0;34m(server, username, password, port, encrypt, connection_timeout, connection_cache, auth_protocol, require_signing)\u001b[0m\n\u001b[1;32m    406\u001b[0m \u001b[39mif\u001b[39;00m \u001b[39mnot\u001b[39;00m connection \u001b[39mor\u001b[39;00m \u001b[39mnot\u001b[39;00m connection\u001b[39m.\u001b[39mtransport\u001b[39m.\u001b[39mconnected:\n\u001b[1;32m    407\u001b[0m     connection \u001b[39m=\u001b[39m Connection(ClientConfig()\u001b[39m.\u001b[39mclient_guid, server, port, require_signing\u001b[39m=\u001b[39mrequire_signing)\n\u001b[0;32m--> 408\u001b[0m     connection\u001b[39m.\u001b[39;49mconnect(timeout\u001b[39m=\u001b[39;49mconnection_timeout)\n\u001b[1;32m    409\u001b[0m     connection_cache[connection_key] \u001b[39m=\u001b[39m connection\n\u001b[1;32m    411\u001b[0m \u001b[39m# Find the first session in the connection session list that match the username specified, if not username then\u001b[39;00m\n\u001b[1;32m    412\u001b[0m \u001b[39m# just use the first session found or fall back to creating a new one with implicit auth/kerberos.\u001b[39;00m\n",
      "File \u001b[0;32m~/.cache/pypoetry/virtualenvs/playground-3EBBBnoF-py3.10/lib/python3.10/site-packages/smbprotocol/connection.py:861\u001b[0m, in \u001b[0;36mConnection.connect\u001b[0;34m(self, dialect, timeout, preferred_encryption_algos, preferred_signing_algos)\u001b[0m\n\u001b[1;32m    859\u001b[0m log\u001b[39m.\u001b[39minfo(\u001b[39m\"\u001b[39m\u001b[39mSetting up transport connection\u001b[39m\u001b[39m\"\u001b[39m)\n\u001b[1;32m    860\u001b[0m \u001b[39mself\u001b[39m\u001b[39m.\u001b[39mtransport \u001b[39m=\u001b[39m Tcp(\u001b[39mself\u001b[39m\u001b[39m.\u001b[39mserver_name, \u001b[39mself\u001b[39m\u001b[39m.\u001b[39mport, timeout)\n\u001b[0;32m--> 861\u001b[0m \u001b[39mself\u001b[39;49m\u001b[39m.\u001b[39;49mtransport\u001b[39m.\u001b[39;49mconnect()\n\u001b[1;32m    862\u001b[0m t_worker \u001b[39m=\u001b[39m threading\u001b[39m.\u001b[39mThread(\n\u001b[1;32m    863\u001b[0m     target\u001b[39m=\u001b[39m\u001b[39mself\u001b[39m\u001b[39m.\u001b[39m_process_message_thread, name\u001b[39m=\u001b[39m\u001b[39m\"\u001b[39m\u001b[39mmsg_worker-\u001b[39m\u001b[39m%s\u001b[39;00m\u001b[39m:\u001b[39m\u001b[39m%s\u001b[39;00m\u001b[39m\"\u001b[39m \u001b[39m%\u001b[39m (\u001b[39mself\u001b[39m\u001b[39m.\u001b[39mserver_name, \u001b[39mself\u001b[39m\u001b[39m.\u001b[39mport)\n\u001b[1;32m    864\u001b[0m )\n\u001b[1;32m    865\u001b[0m t_worker\u001b[39m.\u001b[39mdaemon \u001b[39m=\u001b[39m \u001b[39mTrue\u001b[39;00m\n",
      "File \u001b[0;32m~/.cache/pypoetry/virtualenvs/playground-3EBBBnoF-py3.10/lib/python3.10/site-packages/smbprotocol/transport.py:70\u001b[0m, in \u001b[0;36mTcp.connect\u001b[0;34m(self)\u001b[0m\n\u001b[1;32m     68\u001b[0m     \u001b[39mself\u001b[39m\u001b[39m.\u001b[39m_sock \u001b[39m=\u001b[39m socket\u001b[39m.\u001b[39mcreate_connection((\u001b[39mself\u001b[39m\u001b[39m.\u001b[39mserver, \u001b[39mself\u001b[39m\u001b[39m.\u001b[39mport), timeout\u001b[39m=\u001b[39m\u001b[39mself\u001b[39m\u001b[39m.\u001b[39mtimeout)\n\u001b[1;32m     69\u001b[0m \u001b[39mexcept\u001b[39;00m (\u001b[39mOSError\u001b[39;00m, socket\u001b[39m.\u001b[39mgaierror) \u001b[39mas\u001b[39;00m err:\n\u001b[0;32m---> 70\u001b[0m     \u001b[39mraise\u001b[39;00m \u001b[39mValueError\u001b[39;00m(\u001b[39m\"\u001b[39m\u001b[39mFailed to connect to \u001b[39m\u001b[39m'\u001b[39m\u001b[39m%s\u001b[39;00m\u001b[39m:\u001b[39m\u001b[39m%s\u001b[39;00m\u001b[39m'\u001b[39m\u001b[39m: \u001b[39m\u001b[39m%s\u001b[39;00m\u001b[39m\"\u001b[39m \u001b[39m%\u001b[39m (\u001b[39mself\u001b[39m\u001b[39m.\u001b[39mserver, \u001b[39mself\u001b[39m\u001b[39m.\u001b[39mport, \u001b[39mstr\u001b[39m(err))) \u001b[39mfrom\u001b[39;00m \u001b[39merr\u001b[39;00m\n\u001b[1;32m     71\u001b[0m \u001b[39mself\u001b[39m\u001b[39m.\u001b[39m_sock\u001b[39m.\u001b[39msettimeout(\u001b[39mNone\u001b[39;00m)  \u001b[39m# Make sure the socket is in blocking mode.\u001b[39;00m\n\u001b[1;32m     72\u001b[0m \u001b[39mself\u001b[39m\u001b[39m.\u001b[39mconnected \u001b[39m=\u001b[39m \u001b[39mTrue\u001b[39;00m\n",
      "\u001b[0;31mValueError\u001b[0m: Failed to connect to 'localhost:446:445': [Errno -2] Name or service not known"
     ]
    }
   ],
   "source": [
    "for filename in listdir(r\"\\\\localhost\\DCS\\SHIFT2\"):\n",
    "    print(filename)"
   ]
  },
  {
   "cell_type": "code",
   "execution_count": null,
   "metadata": {},
   "outputs": [],
   "source": [
    "session."
   ]
  },
  {
   "cell_type": "code",
   "execution_count": 11,
   "metadata": {},
   "outputs": [],
   "source": [
    "session.disconnect()"
   ]
  },
  {
   "attachments": {},
   "cell_type": "markdown",
   "metadata": {},
   "source": [
    "## Low level interface"
   ]
  },
  {
   "cell_type": "code",
   "execution_count": 1,
   "metadata": {},
   "outputs": [],
   "source": [
    "import uuid\n",
    "\n",
    "from smbprotocol.connection import Connection\n",
    "from smbprotocol.open import (\n",
    "    CreateDisposition,\n",
    "    CreateOptions,\n",
    "    DirectoryAccessMask,\n",
    "    FileAttributes,\n",
    "    FileInformationClass,\n",
    "    FilePipePrinterAccessMask,\n",
    "    ImpersonationLevel,\n",
    "    Open,\n",
    "    ShareAccess,\n",
    ")\n",
    "from smbprotocol.session import Session\n",
    "from smbprotocol.tree import TreeConnect\n"
   ]
  },
  {
   "cell_type": "code",
   "execution_count": 2,
   "metadata": {},
   "outputs": [],
   "source": [
    "server = \"127.0.0.1\"\n",
    "port = 446\n",
    "username = \"uDCS\"\n",
    "password = \"Password\"\n",
    "share = r\"\\\\%s\\DCS\" % server\n",
    "dir_name = \"SHIFT2\"\n",
    "\n",
    "connection = Connection(uuid.uuid4(), server, port)\n",
    "connection.connect()\n",
    "\n",
    "session = Session(connection, username, password)\n",
    "session.connect()\n",
    "tree = TreeConnect(session, share)\n",
    "tree.connect()\n",
    "\n",
    "connection.disconnect(True)"
   ]
  }
 ],
 "metadata": {
  "kernelspec": {
   "display_name": "playground-3EBBBnoF-py3.10",
   "language": "python",
   "name": "python3"
  },
  "language_info": {
   "codemirror_mode": {
    "name": "ipython",
    "version": 3
   },
   "file_extension": ".py",
   "mimetype": "text/x-python",
   "name": "python",
   "nbconvert_exporter": "python",
   "pygments_lexer": "ipython3",
   "version": "3.10.6"
  },
  "orig_nbformat": 4,
  "vscode": {
   "interpreter": {
    "hash": "016c32e91cd1e07b56cbabf32411ebf659c66ff11bfb36b10c8a8b5657e288ce"
   }
  }
 },
 "nbformat": 4,
 "nbformat_minor": 2
}

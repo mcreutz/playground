{
 "cells": [
  {
   "attachments": {},
   "cell_type": "markdown",
   "metadata": {},
   "source": [
    "## Low level interface"
   ]
  },
  {
   "cell_type": "code",
   "execution_count": 6,
   "metadata": {},
   "outputs": [],
   "source": [
    "from smbclient import link, open_file, register_session, remove, rename, stat, symlink, listdir"
   ]
  },
  {
   "cell_type": "code",
   "execution_count": 5,
   "metadata": {},
   "outputs": [
    {
     "data": {
      "text/plain": [
       "<smbprotocol.session.Session at 0x7ff4ad8100a0>"
      ]
     },
     "execution_count": 5,
     "metadata": {},
     "output_type": "execute_result"
    }
   ],
   "source": [
    "# Optional - register the server with explicit credentials\n",
    "register_session(\"localhost\", port=446, username=\"uDCS\", password=\"Password\", require_signing=False)"
   ]
  },
  {
   "cell_type": "code",
   "execution_count": 17,
   "metadata": {},
   "outputs": [
    {
     "ename": "TypeError",
     "evalue": "get_smb_tree() got an unexpected keyword argument 'require_signing'",
     "output_type": "error",
     "traceback": [
      "\u001b[0;31m---------------------------------------------------------------------------\u001b[0m",
      "\u001b[0;31mTypeError\u001b[0m                                 Traceback (most recent call last)",
      "Cell \u001b[0;32mIn [17], line 1\u001b[0m\n\u001b[0;32m----> 1\u001b[0m \u001b[39mfor\u001b[39;00m filename \u001b[39min\u001b[39;00m listdir(\u001b[39mr\u001b[39;49m\u001b[39m\"\u001b[39;49m\u001b[39m\\\\\u001b[39;49;00m\u001b[39mlocalhost\u001b[39;49m\u001b[39m\\\u001b[39;49m\u001b[39mDCS_SHARE\u001b[39;49m\u001b[39m\"\u001b[39;49m, port\u001b[39m=\u001b[39;49m\u001b[39m446\u001b[39;49m, username\u001b[39m=\u001b[39;49m\u001b[39m\"\u001b[39;49m\u001b[39muDCS\u001b[39;49m\u001b[39m\"\u001b[39;49m, password\u001b[39m=\u001b[39;49m\u001b[39m\"\u001b[39;49m\u001b[39mPassword\u001b[39;49m\u001b[39m\"\u001b[39;49m, require_signing\u001b[39m=\u001b[39;49m\u001b[39mFalse\u001b[39;49;00m):\n\u001b[1;32m      2\u001b[0m     \u001b[39mprint\u001b[39m(filename)\n",
      "File \u001b[0;32m~/.cache/pypoetry/virtualenvs/playground-0ZBjhm3r-py3.10/lib/python3.10/site-packages/smbclient/_os.py:238\u001b[0m, in \u001b[0;36mlistdir\u001b[0;34m(path, search_pattern, **kwargs)\u001b[0m\n\u001b[1;32m    227\u001b[0m \u001b[39mdef\u001b[39;00m \u001b[39mlistdir\u001b[39m(path, search_pattern\u001b[39m=\u001b[39m\u001b[39m\"\u001b[39m\u001b[39m*\u001b[39m\u001b[39m\"\u001b[39m, \u001b[39m*\u001b[39m\u001b[39m*\u001b[39mkwargs):\n\u001b[1;32m    228\u001b[0m     \u001b[39m\"\"\"\u001b[39;00m\n\u001b[1;32m    229\u001b[0m \u001b[39m    Return a list containing the names of the entries in the directory given by path. The list is in arbitrary order,\u001b[39;00m\n\u001b[1;32m    230\u001b[0m \u001b[39m    and does not include the special entries '.' and '..' even if they are present in the directory.\u001b[39;00m\n\u001b[0;32m   (...)\u001b[0m\n\u001b[1;32m    236\u001b[0m \u001b[39m    :return: A list containing the names of the entries in the directory.\u001b[39;00m\n\u001b[1;32m    237\u001b[0m \u001b[39m    \"\"\"\u001b[39;00m\n\u001b[0;32m--> 238\u001b[0m     \u001b[39mwith\u001b[39;00m SMBDirectoryIO(path, mode\u001b[39m=\u001b[39;49m\u001b[39m\"\u001b[39;49m\u001b[39mr\u001b[39;49m\u001b[39m\"\u001b[39;49m, share_access\u001b[39m=\u001b[39;49m\u001b[39m\"\u001b[39;49m\u001b[39mr\u001b[39;49m\u001b[39m\"\u001b[39;49m, \u001b[39m*\u001b[39;49m\u001b[39m*\u001b[39;49mkwargs) \u001b[39mas\u001b[39;00m dir_fd:\n\u001b[1;32m    239\u001b[0m         \u001b[39mtry\u001b[39;00m:\n\u001b[1;32m    240\u001b[0m             raw_filenames \u001b[39m=\u001b[39m dir_fd\u001b[39m.\u001b[39mquery_directory(search_pattern, FileInformationClass\u001b[39m.\u001b[39mFILE_NAMES_INFORMATION)\n",
      "File \u001b[0;32m~/.cache/pypoetry/virtualenvs/playground-0ZBjhm3r-py3.10/lib/python3.10/site-packages/smbclient/_io.py:353\u001b[0m, in \u001b[0;36mSMBRawIO.__init__\u001b[0;34m(self, path, mode, share_access, desired_access, file_attributes, create_options, **kwargs)\u001b[0m\n\u001b[1;32m    350\u001b[0m \u001b[39mdef\u001b[39;00m \u001b[39m__init__\u001b[39m(\n\u001b[1;32m    351\u001b[0m     \u001b[39mself\u001b[39m, path, mode\u001b[39m=\u001b[39m\u001b[39m\"\u001b[39m\u001b[39mr\u001b[39m\u001b[39m\"\u001b[39m, share_access\u001b[39m=\u001b[39m\u001b[39mNone\u001b[39;00m, desired_access\u001b[39m=\u001b[39m\u001b[39mNone\u001b[39;00m, file_attributes\u001b[39m=\u001b[39m\u001b[39mNone\u001b[39;00m, create_options\u001b[39m=\u001b[39m\u001b[39m0\u001b[39m, \u001b[39m*\u001b[39m\u001b[39m*\u001b[39mkwargs\n\u001b[1;32m    352\u001b[0m ):\n\u001b[0;32m--> 353\u001b[0m     tree, fd_path \u001b[39m=\u001b[39m get_smb_tree(path, \u001b[39m*\u001b[39;49m\u001b[39m*\u001b[39;49mkwargs)\n\u001b[1;32m    355\u001b[0m     \u001b[39mself\u001b[39m\u001b[39m.\u001b[39mshare_access \u001b[39m=\u001b[39m share_access\n\u001b[1;32m    356\u001b[0m     \u001b[39mself\u001b[39m\u001b[39m.\u001b[39mfd \u001b[39m=\u001b[39m Open(tree, fd_path)\n",
      "\u001b[0;31mTypeError\u001b[0m: get_smb_tree() got an unexpected keyword argument 'require_signing'"
     ]
    }
   ],
   "source": [
    "for filename in listdir(r\"\\\\localhost\\DCS_SHARE\"):\n",
    "    print(filename)"
   ]
  },
  {
   "attachments": {},
   "cell_type": "markdown",
   "metadata": {},
   "source": [
    "## High level interface"
   ]
  },
  {
   "cell_type": "code",
   "execution_count": null,
   "metadata": {},
   "outputs": [],
   "source": [
    "import uuid\n",
    "\n",
    "from smbprotocol.connection import Connection\n",
    "from smbprotocol.open import (\n",
    "    CreateDisposition,\n",
    "    CreateOptions,\n",
    "    DirectoryAccessMask,\n",
    "    FileAttributes,\n",
    "    FileInformationClass,\n",
    "    FilePipePrinterAccessMask,\n",
    "    ImpersonationLevel,\n",
    "    Open,\n",
    "    ShareAccess,\n",
    ")\n",
    "from smbprotocol.session import Session\n",
    "from smbprotocol.tree import TreeConnect\n"
   ]
  },
  {
   "cell_type": "code",
   "execution_count": null,
   "metadata": {},
   "outputs": [],
   "source": [
    "server = \"127.0.0.1\"\n",
    "port = 445\n",
    "username = \"smbuser\"\n",
    "password = \"smbpassword\"\n",
    "share = r\"\\\\%s\\share\" % server\n",
    "dir_name = \"directory\"\n",
    "\n",
    "connection = Connection(uuid.uuid4(), server, port)\n",
    "connection.connect()\n",
    "\n",
    "session = Session(connection, username, password)\n",
    "session.connect()\n",
    "tree = TreeConnect(session, share)\n",
    "tree.connect()\n",
    "\n",
    "connection.disconnect(True)"
   ]
  }
 ],
 "metadata": {
  "kernelspec": {
   "display_name": "playground-0ZBjhm3r-py3.10",
   "language": "python",
   "name": "python3"
  },
  "language_info": {
   "codemirror_mode": {
    "name": "ipython",
    "version": 3
   },
   "file_extension": ".py",
   "mimetype": "text/x-python",
   "name": "python",
   "nbconvert_exporter": "python",
   "pygments_lexer": "ipython3",
   "version": "3.10.6"
  },
  "orig_nbformat": 4,
  "vscode": {
   "interpreter": {
    "hash": "209f868d1e28e070ea69f4dc66b9bf70dba9986efbf5363c700c867c4673879a"
   }
  }
 },
 "nbformat": 4,
 "nbformat_minor": 2
}

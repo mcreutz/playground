{
 "cells": [
  {
   "cell_type": "code",
   "execution_count": 55,
   "metadata": {},
   "outputs": [],
   "source": [
    "import tempfile\n",
    "\n",
    "from smb.SMBConnection import SMBConnection\n",
    "from smb import smb_structs\n",
    "\n",
    "smb_structs.SUPPORT_SMB2 = True"
   ]
  },
  {
   "cell_type": "code",
   "execution_count": 58,
   "metadata": {},
   "outputs": [
    {
     "ename": "ProtocolError",
     "evalue": "Server does not support any of the pysmb dialects. Please email pysmb to add in support for your OS\n==================== SMB Message ====================\nCommand: 0x72 (SMB_COM_NEGOTIATE) \nStatus: NTSTATUS=0x00000000 \nFlags: 0x88 \nFlags2: 0xC003 \nPID: 783 \nUID: 0 \nMID: 1 \nTID: 0 \nSecurity: 0x0000000000000000 \nParameters: 2 bytes \nb'ffff' \nData: 0 bytes \nb'' \n==================== SMB Data Packet (hex) ====================\nb'ff534d4272000000008803c000000000000000000000000000000f030000010001ffff0000'\n",
     "output_type": "error",
     "traceback": [
      "\u001b[0;31m---------------------------------------------------------------------------\u001b[0m",
      "\u001b[0;31mProtocolError\u001b[0m                             Traceback (most recent call last)",
      "Cell \u001b[0;32mIn [58], line 8\u001b[0m\n\u001b[1;32m      6\u001b[0m password \u001b[39m=\u001b[39m \u001b[39m\"\u001b[39m\u001b[39mPassword\u001b[39m\u001b[39m\"\u001b[39m\n\u001b[1;32m      7\u001b[0m conn \u001b[39m=\u001b[39m SMBConnection(username\u001b[39m=\u001b[39m\u001b[39m\"\u001b[39m\u001b[39muDCS\u001b[39m\u001b[39m\"\u001b[39m, password\u001b[39m=\u001b[39mpassword, my_name\u001b[39m=\u001b[39m\u001b[39m\"\u001b[39m\u001b[39mclient_name\u001b[39m\u001b[39m\"\u001b[39m, remote_name\u001b[39m=\u001b[39m\u001b[39m\"\u001b[39m\u001b[39m\"\u001b[39m, domain\u001b[39m=\u001b[39m\u001b[39m\"\u001b[39m\u001b[39m\"\u001b[39m, use_ntlm_v2\u001b[39m=\u001b[39m\u001b[39mTrue\u001b[39;00m)  \u001b[39m#sign_options=, is_direct_tcp=,c\u001b[39;00m\n\u001b[0;32m----> 8\u001b[0m \u001b[39massert\u001b[39;00m conn\u001b[39m.\u001b[39;49mconnect(ip\u001b[39m=\u001b[39;49mip, port\u001b[39m=\u001b[39;49mport)\n\u001b[1;32m      9\u001b[0m \u001b[39mprint\u001b[39m(conn\u001b[39m.\u001b[39misUsingSMB2)\n",
      "File \u001b[0;32m~/.cache/pypoetry/virtualenvs/playground-0ZBjhm3r-py3.10/lib/python3.10/site-packages/smb/SMBConnection.py:127\u001b[0m, in \u001b[0;36mSMBConnection.connect\u001b[0;34m(self, ip, port, sock_family, timeout)\u001b[0m\n\u001b[1;32m    125\u001b[0m         \u001b[39mself\u001b[39m\u001b[39m.\u001b[39monNMBSessionOK()\n\u001b[1;32m    126\u001b[0m     \u001b[39mwhile\u001b[39;00m \u001b[39mself\u001b[39m\u001b[39m.\u001b[39mauth_result \u001b[39mis\u001b[39;00m \u001b[39mNone\u001b[39;00m:\n\u001b[0;32m--> 127\u001b[0m         \u001b[39mself\u001b[39;49m\u001b[39m.\u001b[39;49m_pollForNetBIOSPacket(timeout)\n\u001b[1;32m    128\u001b[0m \u001b[39mfinally\u001b[39;00m:\n\u001b[1;32m    129\u001b[0m     \u001b[39mself\u001b[39m\u001b[39m.\u001b[39mis_busy \u001b[39m=\u001b[39m \u001b[39mFalse\u001b[39;00m\n",
      "File \u001b[0;32m~/.cache/pypoetry/virtualenvs/playground-0ZBjhm3r-py3.10/lib/python3.10/site-packages/smb/SMBConnection.py:642\u001b[0m, in \u001b[0;36mSMBConnection._pollForNetBIOSPacket\u001b[0;34m(self, timeout)\u001b[0m\n\u001b[1;32m    639\u001b[0m         \u001b[39melse\u001b[39;00m:\n\u001b[1;32m    640\u001b[0m             \u001b[39mraise\u001b[39;00m ex\n\u001b[0;32m--> 642\u001b[0m \u001b[39mself\u001b[39;49m\u001b[39m.\u001b[39;49mfeedData(data)\n",
      "File \u001b[0;32m~/.cache/pypoetry/virtualenvs/playground-0ZBjhm3r-py3.10/lib/python3.10/site-packages/nmb/base.py:54\u001b[0m, in \u001b[0;36mNMBSession.feedData\u001b[0;34m(self, data)\u001b[0m\n\u001b[1;32m     52\u001b[0m \u001b[39melif\u001b[39;00m length \u001b[39m>\u001b[39m \u001b[39m0\u001b[39m:\n\u001b[1;32m     53\u001b[0m     offset \u001b[39m+\u001b[39m\u001b[39m=\u001b[39m length\n\u001b[0;32m---> 54\u001b[0m     \u001b[39mself\u001b[39;49m\u001b[39m.\u001b[39;49m_processNMBSessionPacket(\u001b[39mself\u001b[39;49m\u001b[39m.\u001b[39;49mdata_nmb)\n\u001b[1;32m     55\u001b[0m \u001b[39melse\u001b[39;00m:\n\u001b[1;32m     56\u001b[0m     \u001b[39mraise\u001b[39;00m NMBError\n",
      "File \u001b[0;32m~/.cache/pypoetry/virtualenvs/playground-0ZBjhm3r-py3.10/lib/python3.10/site-packages/nmb/base.py:75\u001b[0m, in \u001b[0;36mNMBSession._processNMBSessionPacket\u001b[0;34m(self, packet)\u001b[0m\n\u001b[1;32m     73\u001b[0m \u001b[39mdef\u001b[39;00m \u001b[39m_processNMBSessionPacket\u001b[39m(\u001b[39mself\u001b[39m, packet):\n\u001b[1;32m     74\u001b[0m     \u001b[39mif\u001b[39;00m packet\u001b[39m.\u001b[39mtype \u001b[39m==\u001b[39m SESSION_MESSAGE:\n\u001b[0;32m---> 75\u001b[0m         \u001b[39mself\u001b[39;49m\u001b[39m.\u001b[39;49monNMBSessionMessage(packet\u001b[39m.\u001b[39;49mflags, packet\u001b[39m.\u001b[39;49mdata)\n\u001b[1;32m     76\u001b[0m     \u001b[39melif\u001b[39;00m packet\u001b[39m.\u001b[39mtype \u001b[39m==\u001b[39m POSITIVE_SESSION_RESPONSE:\n\u001b[1;32m     77\u001b[0m         \u001b[39mself\u001b[39m\u001b[39m.\u001b[39monNMBSessionOK()\n",
      "File \u001b[0;32m~/.cache/pypoetry/virtualenvs/playground-0ZBjhm3r-py3.10/lib/python3.10/site-packages/smb/base.py:123\u001b[0m, in \u001b[0;36mSMB.onNMBSessionMessage\u001b[0;34m(self, flags, data)\u001b[0m\n\u001b[1;32m    121\u001b[0m \u001b[39mwhile\u001b[39;00m \u001b[39mTrue\u001b[39;00m:\n\u001b[1;32m    122\u001b[0m     \u001b[39mtry\u001b[39;00m:\n\u001b[0;32m--> 123\u001b[0m         i \u001b[39m=\u001b[39m \u001b[39mself\u001b[39;49m\u001b[39m.\u001b[39;49msmb_message\u001b[39m.\u001b[39;49mdecode(data)\n\u001b[1;32m    124\u001b[0m     \u001b[39mexcept\u001b[39;00m SMB2ProtocolHeaderError:\n\u001b[1;32m    125\u001b[0m         \u001b[39mself\u001b[39m\u001b[39m.\u001b[39mlog\u001b[39m.\u001b[39minfo(\u001b[39m'\u001b[39m\u001b[39mNow switching over to SMB2 protocol communication\u001b[39m\u001b[39m'\u001b[39m)\n",
      "File \u001b[0;32m~/.cache/pypoetry/virtualenvs/playground-0ZBjhm3r-py3.10/lib/python3.10/site-packages/smb/smb_structs.py:228\u001b[0m, in \u001b[0;36mSMBMessage.decode\u001b[0;34m(self, buf)\u001b[0m\n\u001b[1;32m    225\u001b[0m     \u001b[39mself\u001b[39m\u001b[39m.\u001b[39mdata \u001b[39m=\u001b[39m buf[datalen_offset\u001b[39m+\u001b[39m\u001b[39m2\u001b[39m:datalen_offset\u001b[39m+\u001b[39m\u001b[39m2\u001b[39m\u001b[39m+\u001b[39mbody_len]\n\u001b[1;32m    227\u001b[0m \u001b[39mself\u001b[39m\u001b[39m.\u001b[39mraw_data \u001b[39m=\u001b[39m buf\n\u001b[0;32m--> 228\u001b[0m \u001b[39mself\u001b[39;49m\u001b[39m.\u001b[39;49m_decodePayload()\n\u001b[1;32m    230\u001b[0m \u001b[39mreturn\u001b[39;00m \u001b[39mself\u001b[39m\u001b[39m.\u001b[39mHEADER_STRUCT_SIZE \u001b[39m+\u001b[39m params_count \u001b[39m*\u001b[39m \u001b[39m2\u001b[39m \u001b[39m+\u001b[39m \u001b[39m2\u001b[39m \u001b[39m+\u001b[39m body_len\n",
      "File \u001b[0;32m~/.cache/pypoetry/virtualenvs/playground-0ZBjhm3r-py3.10/lib/python3.10/site-packages/smb/smb_structs.py:255\u001b[0m, in \u001b[0;36mSMBMessage._decodePayload\u001b[0;34m(self)\u001b[0m\n\u001b[1;32m    252\u001b[0m     \u001b[39mself\u001b[39m\u001b[39m.\u001b[39mpayload \u001b[39m=\u001b[39m ComNegotiateResponse()\n\u001b[1;32m    254\u001b[0m \u001b[39mif\u001b[39;00m \u001b[39mself\u001b[39m\u001b[39m.\u001b[39mpayload:\n\u001b[0;32m--> 255\u001b[0m     \u001b[39mself\u001b[39;49m\u001b[39m.\u001b[39;49mpayload\u001b[39m.\u001b[39;49mdecode(\u001b[39mself\u001b[39;49m)\n",
      "File \u001b[0;32m~/.cache/pypoetry/virtualenvs/playground-0ZBjhm3r-py3.10/lib/python3.10/site-packages/smb/smb_structs.py:361\u001b[0m, in \u001b[0;36mComNegotiateResponse.decode\u001b[0;34m(self, message)\u001b[0m\n\u001b[1;32m    357\u001b[0m         _, \u001b[39mself\u001b[39m\u001b[39m.\u001b[39msecurity_mode, \u001b[39mself\u001b[39m\u001b[39m.\u001b[39mmax_mpx_count, \u001b[39mself\u001b[39m\u001b[39m.\u001b[39mmax_number_vcs, \u001b[39mself\u001b[39m\u001b[39m.\u001b[39mmax_buffer_size, \\\n\u001b[1;32m    358\u001b[0m         \u001b[39mself\u001b[39m\u001b[39m.\u001b[39mmax_raw_size, \u001b[39mself\u001b[39m\u001b[39m.\u001b[39msession_key, \u001b[39mself\u001b[39m\u001b[39m.\u001b[39mcapabilities, \u001b[39mself\u001b[39m\u001b[39m.\u001b[39msystem_time, \u001b[39mself\u001b[39m\u001b[39m.\u001b[39mserver_time_zone, \\\n\u001b[1;32m    359\u001b[0m         \u001b[39mself\u001b[39m\u001b[39m.\u001b[39mchallenge_length \u001b[39m=\u001b[39m struct\u001b[39m.\u001b[39munpack(\u001b[39mself\u001b[39m\u001b[39m.\u001b[39mPAYLOAD_STRUCT_FORMAT, message\u001b[39m.\u001b[39mparameters_data[:\u001b[39mself\u001b[39m\u001b[39m.\u001b[39mPAYLOAD_STRUCT_SIZE])\n\u001b[1;32m    360\u001b[0m \u001b[39melif\u001b[39;00m \u001b[39mself\u001b[39m\u001b[39m.\u001b[39mdialect_index \u001b[39m==\u001b[39m \u001b[39m0xFFFF\u001b[39m:\n\u001b[0;32m--> 361\u001b[0m     \u001b[39mraise\u001b[39;00m ProtocolError(\u001b[39m'\u001b[39m\u001b[39mServer does not support any of the pysmb dialects. Please email pysmb to add in support for your OS\u001b[39m\u001b[39m'\u001b[39m,\n\u001b[1;32m    362\u001b[0m                         message\u001b[39m.\u001b[39mraw_data, message)\n\u001b[1;32m    363\u001b[0m \u001b[39melse\u001b[39;00m:\n\u001b[1;32m    364\u001b[0m     \u001b[39mraise\u001b[39;00m ProtocolError(\u001b[39m'\u001b[39m\u001b[39mUnknown dialect index (0x\u001b[39m\u001b[39m%04X\u001b[39;00m\u001b[39m)\u001b[39m\u001b[39m'\u001b[39m \u001b[39m%\u001b[39m \u001b[39mself\u001b[39m\u001b[39m.\u001b[39mdialect_index, message\u001b[39m.\u001b[39mraw_data, message)\n",
      "\u001b[0;31mProtocolError\u001b[0m: Server does not support any of the pysmb dialects. Please email pysmb to add in support for your OS\n==================== SMB Message ====================\nCommand: 0x72 (SMB_COM_NEGOTIATE) \nStatus: NTSTATUS=0x00000000 \nFlags: 0x88 \nFlags2: 0xC003 \nPID: 783 \nUID: 0 \nMID: 1 \nTID: 0 \nSecurity: 0x0000000000000000 \nParameters: 2 bytes \nb'ffff' \nData: 0 bytes \nb'' \n==================== SMB Data Packet (hex) ====================\nb'ff534d4272000000008803c000000000000000000000000000000f030000010001ffff0000'\n"
     ]
    }
   ],
   "source": [
    "# client_machine_name can be an arbitary ASCII string\n",
    "# server_name should match the remote machine name, or else the connection will be rejected\n",
    "# conn = SMBConnection(userID, password, client_machine_name, server_name, use_ntlm_v2 = True)\n",
    "ip = \"127.0.0.1\"  # 127.0.0.1\n",
    "port = 446\n",
    "password = \"Password\"\n",
    "conn = SMBConnection(username=\"uDCS\", password=password, my_name=\"client_name\", remote_name=\"\", domain=\"\", use_ntlm_v2=True)  #sign_options=, is_direct_tcp=,c\n",
    "assert conn.connect(ip=ip, port=port)\n",
    "print(conn.isUsingSMB2)"
   ]
  },
  {
   "cell_type": "code",
   "execution_count": 19,
   "metadata": {},
   "outputs": [
    {
     "name": "stdout",
     "output_type": "stream",
     "text": [
      "TESTSHARE\n",
      "IPC$\n"
     ]
    }
   ],
   "source": [
    "sharelist = conn.listShares()\n",
    "for share in sharelist:\n",
    "    print(share.name)"
   ]
  },
  {
   "cell_type": "code",
   "execution_count": 23,
   "metadata": {},
   "outputs": [
    {
     "name": "stdout",
     "output_type": "stream",
     "text": [
      ".\n",
      "..\n",
      "testfile.txt\n"
     ]
    }
   ],
   "source": [
    "filelist = conn.listPath('TESTSHARE', '/')\n",
    "for file in filelist:\n",
    "    print(file.filename)"
   ]
  },
  {
   "cell_type": "code",
   "execution_count": null,
   "metadata": {},
   "outputs": [],
   "source": [
    "\n",
    "# Retrieved file contents are inside file_obj\n",
    "# Do what you need with the file_obj and then close it\n",
    "# Note that the file obj is positioned at the end-of-file,\n",
    "# so you might need to perform a file_obj.seek() if you need\n",
    "# to read from the beginning\n",
    "\n",
    "print(\"-----\")\n",
    "file_obj = tempfile.NamedTemporaryFile()\n",
    "file_attributes, filesize = conn.retrieveFile(service_name=\"MYSHARE\", path=\"tmp_file\", file_obj=file_obj)\n",
    "# print(file_obj.name)\n",
    "file_obj.seek(0)\n",
    "print(file_obj.readlines())\n",
    "file_obj.close()"
   ]
  },
  {
   "cell_type": "code",
   "execution_count": 57,
   "metadata": {},
   "outputs": [],
   "source": [
    "conn.close()"
   ]
  }
 ],
 "metadata": {
  "kernelspec": {
   "display_name": "playground-0ZBjhm3r-py3.10",
   "language": "python",
   "name": "python3"
  },
  "language_info": {
   "codemirror_mode": {
    "name": "ipython",
    "version": 3
   },
   "file_extension": ".py",
   "mimetype": "text/x-python",
   "name": "python",
   "nbconvert_exporter": "python",
   "pygments_lexer": "ipython3",
   "version": "3.10.6"
  },
  "orig_nbformat": 4,
  "vscode": {
   "interpreter": {
    "hash": "209f868d1e28e070ea69f4dc66b9bf70dba9986efbf5363c700c867c4673879a"
   }
  }
 },
 "nbformat": 4,
 "nbformat_minor": 2
}

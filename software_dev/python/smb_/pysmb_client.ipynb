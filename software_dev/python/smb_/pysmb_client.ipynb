{
 "cells": [
  {
   "cell_type": "code",
   "execution_count": null,
   "metadata": {},
   "outputs": [],
   "source": [
    "import tempfile\n",
    "\n",
    "from smb.SMBConnection import SMBConnection\n",
    "from smb import smb_structs\n",
    "\n",
    "smb_structs.SUPPORT_SMB2 = True"
   ]
  },
  {
   "cell_type": "code",
   "execution_count": null,
   "metadata": {},
   "outputs": [],
   "source": [
    "# client_machine_name can be an arbitary ASCII string\n",
    "# server_name should match the remote machine name, or else the connection will be rejected\n",
    "# conn = SMBConnection(userID, password, client_machine_name, server_name, use_ntlm_v2 = True)\n",
    "ip = \"localhost\"\n",
    "port = 445\n",
    "password = \"Password\"\n",
    "conn = SMBConnection(username=\"uDCS\", password=password, my_name=\"client_name\", remote_name=\"COMPUTERNAME\", domain=\"WORKGROUP\", use_ntlm_v2=True)  #sign_options=, is_direct_tcp=,c\n",
    "assert conn.connect(ip=ip, port=port)\n",
    "print(conn.isUsingSMB2)"
   ]
  },
  {
   "cell_type": "code",
   "execution_count": null,
   "metadata": {},
   "outputs": [],
   "source": [
    "sharelist = conn.listShares()\n",
    "for share in sharelist:\n",
    "    print(share.name)"
   ]
  },
  {
   "cell_type": "code",
   "execution_count": null,
   "metadata": {},
   "outputs": [],
   "source": [
    "filelist = conn.listPath('DCS', '/SHIFT2')\n",
    "for file in filelist:\n",
    "    print(file.filename)"
   ]
  },
  {
   "cell_type": "code",
   "execution_count": null,
   "metadata": {},
   "outputs": [],
   "source": [
    "\n",
    "# Retrieved file contents are inside file_obj\n",
    "# Do what you need with the file_obj and then close it\n",
    "# Note that the file obj is positioned at the end-of-file,\n",
    "# so you might need to perform a file_obj.seek() if you need\n",
    "# to read from the beginning\n",
    "\n",
    "print(\"-----\")\n",
    "file_obj = tempfile.NamedTemporaryFile()\n",
    "file_attributes, filesize = conn.retrieveFile(service_name=\"DCS\", path=\"SHIFT2/testfile.txt\", file_obj=file_obj)\n",
    "# print(file_obj.name)\n",
    "file_obj.seek(0)\n",
    "print(file_obj.readlines())\n",
    "file_obj.close()"
   ]
  },
  {
   "cell_type": "code",
   "execution_count": null,
   "metadata": {},
   "outputs": [],
   "source": [
    "conn.close()"
   ]
  }
 ],
 "metadata": {
  "kernelspec": {
   "display_name": "playground-3EBBBnoF-py3.10",
   "language": "python",
   "name": "python3"
  },
  "language_info": {
   "codemirror_mode": {
    "name": "ipython",
    "version": 3
   },
   "file_extension": ".py",
   "mimetype": "text/x-python",
   "name": "python",
   "nbconvert_exporter": "python",
   "pygments_lexer": "ipython3",
   "version": "3.10.6"
  },
  "orig_nbformat": 4,
  "vscode": {
   "interpreter": {
    "hash": "016c32e91cd1e07b56cbabf32411ebf659c66ff11bfb36b10c8a8b5657e288ce"
   }
  }
 },
 "nbformat": 4,
 "nbformat_minor": 2
}

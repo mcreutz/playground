{
 "cells": [
  {
   "cell_type": "code",
   "execution_count": 129,
   "metadata": {},
   "outputs": [],
   "source": [
    "import tempfile\n",
    "\n",
    "from smb.SMBConnection import SMBConnection\n",
    "from smb import smb_structs\n",
    "\n",
    "smb_structs.SUPPORT_SMB2 = True"
   ]
  },
  {
   "cell_type": "code",
   "execution_count": 143,
   "metadata": {},
   "outputs": [
    {
     "name": "stdout",
     "output_type": "stream",
     "text": [
      "False\n"
     ]
    }
   ],
   "source": [
    "# client_machine_name can be an arbitary ASCII string\n",
    "# server_name should match the remote machine name, or else the connection will be rejected\n",
    "ip = \"150.150.98.7\"  # \"127.0.0.1\"\n",
    "port = 445\n",
    "password = \"Password\"\n",
    "conn = SMBConnection(username=\"uDCS\", password=password, my_name=\"client_name\", remote_name=\"F-M489-06900\", domain=\"FOCKE-MACHINES\", use_ntlm_v2=False, is_direct_tcp=True)  #sign_options=\n",
    "assert conn.connect(ip=ip, port=port)\n",
    "print(conn.isUsingSMB2)"
   ]
  },
  {
   "cell_type": "code",
   "execution_count": null,
   "metadata": {},
   "outputs": [],
   "source": [
    "sharelist = conn.listShares()\n",
    "for share in sharelist:\n",
    "    print(share.name)"
   ]
  },
  {
   "cell_type": "code",
   "execution_count": null,
   "metadata": {},
   "outputs": [],
   "source": [
    "filelist = conn.listPath('DCSArchive', '/')\n",
    "for file in filelist:\n",
    "    print(file.filename)"
   ]
  },
  {
   "cell_type": "code",
   "execution_count": 33,
   "metadata": {},
   "outputs": [],
   "source": [
    "\n",
    "# Retrieved file contents are inside file_obj\n",
    "# Do what you need with the file_obj and then close it\n",
    "# Note that the file obj is positioned at the end-of-file,\n",
    "# so you might need to perform a file_obj.seek() if you need\n",
    "# to read from the beginning\n",
    "\n",
    "# file_obj = tempfile.NamedTemporaryFile()\n",
    "file_obj = open(\"testfile.zip\", 'wb')\n",
    "file_attributes, filesize = conn.retrieveFile(service_name=\"DCSArchive\", path=\"/H413_221222_C1.CSV\", file_obj=file_obj)\n",
    "# print(file_obj.name)\n",
    "# file_obj.seek(0)\n",
    "# print(file_obj.readlines())\n",
    "file_obj.close()"
   ]
  },
  {
   "cell_type": "code",
   "execution_count": 104,
   "metadata": {},
   "outputs": [],
   "source": [
    "conn.close()"
   ]
  }
 ],
 "metadata": {
  "kernelspec": {
   "display_name": "playground-3EBBBnoF-py3.10",
   "language": "python",
   "name": "python3"
  },
  "language_info": {
   "codemirror_mode": {
    "name": "ipython",
    "version": 3
   },
   "file_extension": ".py",
   "mimetype": "text/x-python",
   "name": "python",
   "nbconvert_exporter": "python",
   "pygments_lexer": "ipython3",
   "version": "3.10.6"
  },
  "orig_nbformat": 4,
  "vscode": {
   "interpreter": {
    "hash": "016c32e91cd1e07b56cbabf32411ebf659c66ff11bfb36b10c8a8b5657e288ce"
   }
  }
 },
 "nbformat": 4,
 "nbformat_minor": 2
}

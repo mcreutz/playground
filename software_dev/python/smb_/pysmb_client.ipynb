{
 "cells": [
  {
   "cell_type": "code",
   "execution_count": 32,
   "metadata": {},
   "outputs": [
    {
     "name": "stdout",
     "output_type": "stream",
     "text": [
      "False\n",
      "-----\n",
      "IPC$\n",
      "-----\n"
     ]
    },
    {
     "ename": "OperationFailure",
     "evalue": "Failed to list \\ on DCS_SHARE: Unable to connect to shared device\n==================== SMB Message 0 ====================\nSMB Header:\n-----------\nCommand: 0x75 (SMB_COM_TREE_CONNECT_ANDX) \nStatus: NTSTATUS=0x00000000 \nFlags: 0x18 \nFlags2: 0xC841 \nPID: 1487 \nUID: 20167 \nMID: 9 \nTID: 0 \nSecurity: 0x0000000000000000 \nParameters: 8 bytes \nb'ff0000000c000100' \nData: 33 bytes \nb'005c005c005c004400430053005f005300480041005200450000003f3f3f3f3f00' \nSMB Data Packet (hex):\n----------------------\nb'ff534d4275000000001841c80000000000000000000000000000cf05c74e090004ff0000000c0001002100005c005c005c004400430053005f005300480041005200450000003f3f3f3f3f00'\n==================== SMB Message 1 ====================\nSMB Header:\n-----------\nCommand: 0x75 (SMB_COM_TREE_CONNECT_ANDX) \nStatus: NTSTATUS=0xC00000CC \nFlags: 0x88 \nFlags2: 0xC803 \nPID: 1487 \nUID: 20167 \nMID: 9 \nTID: 0 \nSecurity: 0x0000000000000000 \nParameters: 0 bytes \nb'' \nData: 0 bytes \nb'' \nSMB Data Packet (hex):\n----------------------\nb'ff534d4275cc0000c08803c80000000000000000000000000000cf05c74e0900000000'\n",
     "output_type": "error",
     "traceback": [
      "\u001b[0;31m---------------------------------------------------------------------------\u001b[0m",
      "\u001b[0;31mOperationFailure\u001b[0m                          Traceback (most recent call last)",
      "Cell \u001b[0;32mIn [32], line 26\u001b[0m\n\u001b[1;32m     22\u001b[0m     \u001b[39mprint\u001b[39m(share\u001b[39m.\u001b[39mname)\n\u001b[1;32m     24\u001b[0m \u001b[39mprint\u001b[39m(\u001b[39m\"\u001b[39m\u001b[39m-----\u001b[39m\u001b[39m\"\u001b[39m)\n\u001b[0;32m---> 26\u001b[0m filelist \u001b[39m=\u001b[39m conn\u001b[39m.\u001b[39;49mlistPath(\u001b[39m'\u001b[39;49m\u001b[39mDCS_SHARE\u001b[39;49m\u001b[39m'\u001b[39;49m, \u001b[39m'\u001b[39;49m\u001b[39m/\u001b[39;49m\u001b[39m'\u001b[39;49m)\n\u001b[1;32m     27\u001b[0m \u001b[39mfor\u001b[39;00m file \u001b[39min\u001b[39;00m filelist:\n\u001b[1;32m     28\u001b[0m     \u001b[39mprint\u001b[39m(file\u001b[39m.\u001b[39mfilename)\n",
      "File \u001b[0;32m~/.cache/pypoetry/virtualenvs/playground-0ZBjhm3r-py3.10/lib/python3.10/site-packages/smb/SMBConnection.py:208\u001b[0m, in \u001b[0;36mSMBConnection.listPath\u001b[0;34m(self, service_name, path, search, pattern, timeout)\u001b[0m\n\u001b[1;32m    206\u001b[0m     \u001b[39mself\u001b[39m\u001b[39m.\u001b[39m_listPath(service_name, path, cb, eb, search \u001b[39m=\u001b[39m search, pattern \u001b[39m=\u001b[39m pattern, timeout \u001b[39m=\u001b[39m timeout)\n\u001b[1;32m    207\u001b[0m     \u001b[39mwhile\u001b[39;00m \u001b[39mself\u001b[39m\u001b[39m.\u001b[39mis_busy:\n\u001b[0;32m--> 208\u001b[0m         \u001b[39mself\u001b[39;49m\u001b[39m.\u001b[39;49m_pollForNetBIOSPacket(timeout)\n\u001b[1;32m    209\u001b[0m \u001b[39mfinally\u001b[39;00m:\n\u001b[1;32m    210\u001b[0m     \u001b[39mself\u001b[39m\u001b[39m.\u001b[39mis_busy \u001b[39m=\u001b[39m \u001b[39mFalse\u001b[39;00m\n",
      "File \u001b[0;32m~/.cache/pypoetry/virtualenvs/playground-0ZBjhm3r-py3.10/lib/python3.10/site-packages/smb/SMBConnection.py:642\u001b[0m, in \u001b[0;36mSMBConnection._pollForNetBIOSPacket\u001b[0;34m(self, timeout)\u001b[0m\n\u001b[1;32m    639\u001b[0m         \u001b[39melse\u001b[39;00m:\n\u001b[1;32m    640\u001b[0m             \u001b[39mraise\u001b[39;00m ex\n\u001b[0;32m--> 642\u001b[0m \u001b[39mself\u001b[39;49m\u001b[39m.\u001b[39;49mfeedData(data)\n",
      "File \u001b[0;32m~/.cache/pypoetry/virtualenvs/playground-0ZBjhm3r-py3.10/lib/python3.10/site-packages/nmb/base.py:54\u001b[0m, in \u001b[0;36mNMBSession.feedData\u001b[0;34m(self, data)\u001b[0m\n\u001b[1;32m     52\u001b[0m \u001b[39melif\u001b[39;00m length \u001b[39m>\u001b[39m \u001b[39m0\u001b[39m:\n\u001b[1;32m     53\u001b[0m     offset \u001b[39m+\u001b[39m\u001b[39m=\u001b[39m length\n\u001b[0;32m---> 54\u001b[0m     \u001b[39mself\u001b[39;49m\u001b[39m.\u001b[39;49m_processNMBSessionPacket(\u001b[39mself\u001b[39;49m\u001b[39m.\u001b[39;49mdata_nmb)\n\u001b[1;32m     55\u001b[0m \u001b[39melse\u001b[39;00m:\n\u001b[1;32m     56\u001b[0m     \u001b[39mraise\u001b[39;00m NMBError\n",
      "File \u001b[0;32m~/.cache/pypoetry/virtualenvs/playground-0ZBjhm3r-py3.10/lib/python3.10/site-packages/nmb/base.py:75\u001b[0m, in \u001b[0;36mNMBSession._processNMBSessionPacket\u001b[0;34m(self, packet)\u001b[0m\n\u001b[1;32m     73\u001b[0m \u001b[39mdef\u001b[39;00m \u001b[39m_processNMBSessionPacket\u001b[39m(\u001b[39mself\u001b[39m, packet):\n\u001b[1;32m     74\u001b[0m     \u001b[39mif\u001b[39;00m packet\u001b[39m.\u001b[39mtype \u001b[39m==\u001b[39m SESSION_MESSAGE:\n\u001b[0;32m---> 75\u001b[0m         \u001b[39mself\u001b[39;49m\u001b[39m.\u001b[39;49monNMBSessionMessage(packet\u001b[39m.\u001b[39;49mflags, packet\u001b[39m.\u001b[39;49mdata)\n\u001b[1;32m     76\u001b[0m     \u001b[39melif\u001b[39;00m packet\u001b[39m.\u001b[39mtype \u001b[39m==\u001b[39m POSITIVE_SESSION_RESPONSE:\n\u001b[1;32m     77\u001b[0m         \u001b[39mself\u001b[39m\u001b[39m.\u001b[39monNMBSessionOK()\n",
      "File \u001b[0;32m~/.cache/pypoetry/virtualenvs/playground-0ZBjhm3r-py3.10/lib/python3.10/site-packages/smb/base.py:145\u001b[0m, in \u001b[0;36mSMB.onNMBSessionMessage\u001b[0;34m(self, flags, data)\u001b[0m\n\u001b[1;32m    141\u001b[0m     \u001b[39melse\u001b[39;00m:\n\u001b[1;32m    142\u001b[0m         \u001b[39mself\u001b[39m\u001b[39m.\u001b[39mlog\u001b[39m.\u001b[39mdebug(\u001b[39m'\u001b[39m\u001b[39mReceived SMB2 message \u001b[39m\u001b[39m\"\u001b[39m\u001b[39m%s\u001b[39;00m\u001b[39m\"\u001b[39m\u001b[39m (command:0x\u001b[39m\u001b[39m%04X\u001b[39;00m\u001b[39m flags:0x\u001b[39m\u001b[39m%04x\u001b[39;00m\u001b[39m)\u001b[39m\u001b[39m'\u001b[39m,\n\u001b[1;32m    143\u001b[0m                        SMB2_COMMAND_NAMES\u001b[39m.\u001b[39mget(\u001b[39mself\u001b[39m\u001b[39m.\u001b[39msmb_message\u001b[39m.\u001b[39mcommand, \u001b[39m'\u001b[39m\u001b[39m<unknown>\u001b[39m\u001b[39m'\u001b[39m),\n\u001b[1;32m    144\u001b[0m                        \u001b[39mself\u001b[39m\u001b[39m.\u001b[39msmb_message\u001b[39m.\u001b[39mcommand, \u001b[39mself\u001b[39m\u001b[39m.\u001b[39msmb_message\u001b[39m.\u001b[39mflags)\n\u001b[0;32m--> 145\u001b[0m     \u001b[39mif\u001b[39;00m \u001b[39mself\u001b[39;49m\u001b[39m.\u001b[39;49m_updateState(\u001b[39mself\u001b[39;49m\u001b[39m.\u001b[39;49msmb_message):\n\u001b[1;32m    146\u001b[0m         \u001b[39m# We need to create a new instance instead of calling reset() because the instance could be captured in the message history.\u001b[39;00m\n\u001b[1;32m    147\u001b[0m         \u001b[39mself\u001b[39m\u001b[39m.\u001b[39msmb_message \u001b[39m=\u001b[39m \u001b[39mself\u001b[39m\u001b[39m.\u001b[39m_klassSMBMessage()\n\u001b[1;32m    149\u001b[0m \u001b[39mif\u001b[39;00m next_message_offset \u001b[39m>\u001b[39m \u001b[39m0\u001b[39m:\n",
      "File \u001b[0;32m~/.cache/pypoetry/virtualenvs/playground-0ZBjhm3r-py3.10/lib/python3.10/site-packages/smb/base.py:1872\u001b[0m, in \u001b[0;36mSMB._updateState_SMB1\u001b[0;34m(self, message)\u001b[0m\n\u001b[1;32m   1870\u001b[0m req \u001b[39m=\u001b[39m \u001b[39mself\u001b[39m\u001b[39m.\u001b[39mpending_requests\u001b[39m.\u001b[39mpop(message\u001b[39m.\u001b[39mmid, \u001b[39mNone\u001b[39;00m)\n\u001b[1;32m   1871\u001b[0m \u001b[39mif\u001b[39;00m req:\n\u001b[0;32m-> 1872\u001b[0m     req\u001b[39m.\u001b[39;49mcallback(message, \u001b[39m*\u001b[39;49m\u001b[39m*\u001b[39;49mreq\u001b[39m.\u001b[39;49mkwargs)\n\u001b[1;32m   1873\u001b[0m     \u001b[39mreturn\u001b[39;00m \u001b[39mTrue\u001b[39;00m\n",
      "File \u001b[0;32m~/.cache/pypoetry/virtualenvs/playground-0ZBjhm3r-py3.10/lib/python3.10/site-packages/smb/base.py:2339\u001b[0m, in \u001b[0;36mSMB._listPath_SMB1.<locals>.connectCB\u001b[0;34m(connect_message, **kwargs)\u001b[0m\n\u001b[1;32m   2337\u001b[0m         sendFindFirst(connect_message\u001b[39m.\u001b[39mtid, \u001b[39mFalse\u001b[39;00m)\n\u001b[1;32m   2338\u001b[0m \u001b[39melse\u001b[39;00m:\n\u001b[0;32m-> 2339\u001b[0m     errback(OperationFailure(\u001b[39m'\u001b[39;49m\u001b[39mFailed to list \u001b[39;49m\u001b[39m%s\u001b[39;49;00m\u001b[39m on \u001b[39;49m\u001b[39m%s\u001b[39;49;00m\u001b[39m: Unable to connect to shared device\u001b[39;49m\u001b[39m'\u001b[39;49m \u001b[39m%\u001b[39;49m ( path, service_name ), messages_history))\n",
      "File \u001b[0;32m~/.cache/pypoetry/virtualenvs/playground-0ZBjhm3r-py3.10/lib/python3.10/site-packages/smb/SMBConnection.py:202\u001b[0m, in \u001b[0;36mSMBConnection.listPath.<locals>.eb\u001b[0;34m(failure)\u001b[0m\n\u001b[1;32m    200\u001b[0m \u001b[39mdef\u001b[39;00m \u001b[39meb\u001b[39m(failure):\n\u001b[1;32m    201\u001b[0m     \u001b[39mself\u001b[39m\u001b[39m.\u001b[39mis_busy \u001b[39m=\u001b[39m \u001b[39mFalse\u001b[39;00m\n\u001b[0;32m--> 202\u001b[0m     \u001b[39mraise\u001b[39;00m failure\n",
      "\u001b[0;31mOperationFailure\u001b[0m: Failed to list \\ on DCS_SHARE: Unable to connect to shared device\n==================== SMB Message 0 ====================\nSMB Header:\n-----------\nCommand: 0x75 (SMB_COM_TREE_CONNECT_ANDX) \nStatus: NTSTATUS=0x00000000 \nFlags: 0x18 \nFlags2: 0xC841 \nPID: 1487 \nUID: 20167 \nMID: 9 \nTID: 0 \nSecurity: 0x0000000000000000 \nParameters: 8 bytes \nb'ff0000000c000100' \nData: 33 bytes \nb'005c005c005c004400430053005f005300480041005200450000003f3f3f3f3f00' \nSMB Data Packet (hex):\n----------------------\nb'ff534d4275000000001841c80000000000000000000000000000cf05c74e090004ff0000000c0001002100005c005c005c004400430053005f005300480041005200450000003f3f3f3f3f00'\n==================== SMB Message 1 ====================\nSMB Header:\n-----------\nCommand: 0x75 (SMB_COM_TREE_CONNECT_ANDX) \nStatus: NTSTATUS=0xC00000CC \nFlags: 0x88 \nFlags2: 0xC803 \nPID: 1487 \nUID: 20167 \nMID: 9 \nTID: 0 \nSecurity: 0x0000000000000000 \nParameters: 0 bytes \nb'' \nData: 0 bytes \nb'' \nSMB Data Packet (hex):\n----------------------\nb'ff534d4275cc0000c08803c80000000000000000000000000000cf05c74e0900000000'\n"
     ]
    }
   ],
   "source": [
    "import tempfile\n",
    "\n",
    "from smb.SMBConnection import SMBConnection\n",
    "from smb import smb_structs\n",
    "\n",
    "\n",
    "smb_structs.SUPPORT_SMB2 = True\n",
    "\n",
    "\n",
    "# There will be some mechanism to capture userID, password, client_machine_name, server_name and server_ip\n",
    "# client_machine_name can be an arbitary ASCII string\n",
    "# server_name should match the remote machine name, or else the connection will be rejected\n",
    "# conn = SMBConnection(userID, password, client_machine_name, server_name, use_ntlm_v2 = True)\n",
    "conn = SMBConnection(username=\"uDCS\", password=\"Password\", my_name=\"client_name\", remote_name=\"\", domain=\"\", use_ntlm_v2=True)  #sign_options=, is_direct_tcp=,\n",
    "assert conn.connect(ip=\"127.0.0.1\", port=446)\n",
    "print(conn.isUsingSMB2)\n",
    "\n",
    "print(\"-----\")\n",
    "\n",
    "sharelist = conn.listShares()\n",
    "for share in sharelist:\n",
    "    print(share.name)\n",
    "\n",
    "print(\"-----\")\n",
    "\n",
    "filelist = conn.listPath('DCS_SHARE', '/')\n",
    "for file in filelist:\n",
    "    print(file.filename)\n",
    "\n",
    "print(\"-----\")\n",
    "\n",
    "# Retrieved file contents are inside file_obj\n",
    "# Do what you need with the file_obj and then close it\n",
    "# Note that the file obj is positioned at the end-of-file,\n",
    "# so you might need to perform a file_obj.seek() if you need\n",
    "# to read from the beginning\n",
    "\n",
    "# file_obj = tempfile.NamedTemporaryFile()\n",
    "# file_attributes, filesize = conn.retrieveFile(service_name=\"MYSHARE\", path=\"tmp_file\", file_obj=file_obj)\n",
    "# # print(file_obj.name)\n",
    "# file_obj.seek(0)\n",
    "# print(file_obj.readlines())\n",
    "# file_obj.close()\n",
    "\n",
    "\n",
    "conn.close()"
   ]
  }
 ],
 "metadata": {
  "kernelspec": {
   "display_name": "playground-0ZBjhm3r-py3.10",
   "language": "python",
   "name": "python3"
  },
  "language_info": {
   "codemirror_mode": {
    "name": "ipython",
    "version": 3
   },
   "file_extension": ".py",
   "mimetype": "text/x-python",
   "name": "python",
   "nbconvert_exporter": "python",
   "pygments_lexer": "ipython3",
   "version": "3.10.6 (main, Nov 14 2022, 16:10:14) [GCC 11.3.0]"
  },
  "orig_nbformat": 4,
  "vscode": {
   "interpreter": {
    "hash": "209f868d1e28e070ea69f4dc66b9bf70dba9986efbf5363c700c867c4673879a"
   }
  }
 },
 "nbformat": 4,
 "nbformat_minor": 2
}

{
 "cells": [
  {
   "cell_type": "code",
   "execution_count": 2,
   "metadata": {},
   "outputs": [],
   "source": [
    "import os\n",
    "import unittest\n",
    "from unittest import mock"
   ]
  },
  {
   "cell_type": "code",
   "execution_count": 2,
   "metadata": {},
   "outputs": [
    {
     "name": "stdout",
     "output_type": "stream",
     "text": [
      "default\n"
     ]
    }
   ],
   "source": [
    "patched_env = mock.patch.dict(os.environ, {'TEST': 'patched'})\n",
    "os.environ[\"TEST\"] = 'default'\n",
    "print(os.getenv('TEST'))\n",
    "patched_env.start()\n",
    "print(os.getenv('TEST'))\n",
    "patched_env.stop()\n",
    "print(os.getenv('TEST'))"
   ]
  },
  {
   "cell_type": "code",
   "execution_count": 16,
   "metadata": {},
   "outputs": [
    {
     "name": "stdout",
     "output_type": "stream",
     "text": [
      "foo\n",
      "foo\n",
      "foo\n",
      "True\n",
      "[call.my_func(),\n",
      " call.my_func(param1='something'),\n",
      " call.my_func('some', param1='thing')]\n"
     ]
    }
   ],
   "source": [
    "my_obj = mock.Mock()\n",
    "my_func = mock.Mock(return_value='foo')  # create mock object as function\n",
    "my_se_func = mock.Mock(return_value='bar', side_effect=Exception('huh!'))\n",
    "my_obj.my_func = my_func  # assign mock object to object as method\n",
    "print(my_obj.my_func())  # call mocked method\n",
    "print(my_obj.my_func(param1=\"something\"))  # call mocked method\n",
    "print(my_obj.my_func(\"some\", param1=\"thing\"))  # call mocked method\n",
    "print(my_obj.my_func.called)  # check if method was called\n",
    "print(my_obj.method_calls)  # list all method calls"
   ]
  },
  {
   "cell_type": "code",
   "execution_count": 25,
   "metadata": {},
   "outputs": [],
   "source": [
    "class ProductionClass:\n",
    "    class_property = 'real'\n",
    "\n",
    "    def __init__(self, sub_obj):\n",
    "        self.sub_obj = sub_obj\n",
    "        self.instance_property = 'real'\n",
    "\n",
    "    def method(self, param):\n",
    "        return self.sub_obj.method(param)\n",
    "\n",
    "\n",
    "class ProductionSubclass:\n",
    "    class_property = 'real'\n",
    "\n",
    "    def __init__(self):\n",
    "        self.instance_property = 'real'\n",
    "\n",
    "    def method(self, param):\n",
    "        return 'real'"
   ]
  },
  {
   "cell_type": "code",
   "execution_count": 28,
   "metadata": {},
   "outputs": [],
   "source": [
    "mock_sc_obj = mock.Mock()\n",
    "mock_prop = mock.Mock(return_value='mocked')\n",
    "mock_method = mock.Mock(return_value='mocked')\n",
    "mock_sc_obj.property = mock_prop\n",
    "mock_sc_obj.method = mock_method"
   ]
  },
  {
   "cell_type": "code",
   "execution_count": 41,
   "metadata": {},
   "outputs": [
    {
     "name": "stderr",
     "output_type": "stream",
     "text": [
      "test_method (__main__.TestProductionClass) ... ok\n",
      "test_method (__main__.TestProductionClass2) ... FAIL\n",
      "\n",
      "======================================================================\n",
      "FAIL: test_method (__main__.TestProductionClass2)\n",
      "----------------------------------------------------------------------\n",
      "Traceback (most recent call last):\n",
      "  File \"/usr/local/Cellar/python@3.10/3.10.8/Frameworks/Python.framework/Versions/3.10/lib/python3.10/unittest/mock.py\", line 1369, in patched\n",
      "    return func(*newargs, **newkeywargs)\n",
      "  File \"/var/folders/qt/k5txb7556tz0pk9dmksrt2sr0000gn/T/ipykernel_95218/990241720.py\", line 7, in test_method\n",
      "    assert test_obj.method('test') == 'mocked'\n",
      "AssertionError\n",
      "\n",
      "----------------------------------------------------------------------\n",
      "Ran 2 tests in 0.009s\n",
      "\n",
      "FAILED (failures=1)\n"
     ]
    },
    {
     "data": {
      "text/plain": [
       "<unittest.main.TestProgram at 0x1178031c0>"
      ]
     },
     "execution_count": 41,
     "metadata": {},
     "output_type": "execute_result"
    }
   ],
   "source": [
    "class TestProductionClass(unittest.TestCase):\n",
    "    def test_method(self):\n",
    "        test_obj = ProductionClass(mock_sc_obj)\n",
    "        assert test_obj.method('test') == 'mocked'\n",
    "        # print(type(test_obj.sub_obj))\n",
    "\n",
    "unittest.main(argv=[''], verbosity=2, exit=False)"
   ]
  },
  {
   "cell_type": "code",
   "execution_count": 42,
   "metadata": {},
   "outputs": [
    {
     "name": "stderr",
     "output_type": "stream",
     "text": [
      "test_method (__main__.TestProductionClass) ... ok\n",
      "test_method (__main__.TestProductionClass2) ... FAIL\n",
      "\n",
      "======================================================================\n",
      "FAIL: test_method (__main__.TestProductionClass2)\n",
      "----------------------------------------------------------------------\n",
      "Traceback (most recent call last):\n",
      "  File \"/usr/local/Cellar/python@3.10/3.10.8/Frameworks/Python.framework/Versions/3.10/lib/python3.10/unittest/mock.py\", line 1369, in patched\n",
      "    return func(*newargs, **newkeywargs)\n",
      "  File \"/var/folders/qt/k5txb7556tz0pk9dmksrt2sr0000gn/T/ipykernel_95218/927703061.py\", line 7, in test_method\n",
      "    assert test_obj.method('test') == 'mocked'\n",
      "AssertionError\n",
      "\n",
      "----------------------------------------------------------------------\n",
      "Ran 2 tests in 0.007s\n",
      "\n",
      "FAILED (failures=1)\n"
     ]
    },
    {
     "name": "stdout",
     "output_type": "stream",
     "text": [
      "<class 'unittest.mock.MagicMock'>\n"
     ]
    },
    {
     "data": {
      "text/plain": [
       "<unittest.main.TestProgram at 0x117824a90>"
      ]
     },
     "execution_count": 42,
     "metadata": {},
     "output_type": "execute_result"
    }
   ],
   "source": [
    "class TestProductionClass2(unittest.TestCase):\n",
    "    @mock.patch('__main__.ProductionSubclass')\n",
    "    def test_method(self, mock_sc_obj):\n",
    "        print(type(mock_sc_obj))\n",
    "        test_obj = ProductionClass(mock_sc_obj)\n",
    "        # print(test_obj.method('test'))\n",
    "        assert test_obj.method('test') == 'mocked'\n",
    "        # print(type(test_obj.sub_obj))\n",
    "\n",
    "unittest.main(argv=[''], verbosity=2, exit=False)\n"
   ]
  },
  {
   "cell_type": "code",
   "execution_count": null,
   "metadata": {},
   "outputs": [],
   "source": []
  }
 ],
 "metadata": {
  "kernelspec": {
   "display_name": "playground-KdgE4xX--py3.10",
   "language": "python",
   "name": "python3"
  },
  "language_info": {
   "codemirror_mode": {
    "name": "ipython",
    "version": 3
   },
   "file_extension": ".py",
   "mimetype": "text/x-python",
   "name": "python",
   "nbconvert_exporter": "python",
   "pygments_lexer": "ipython3",
   "version": "3.10.8"
  },
  "orig_nbformat": 4,
  "vscode": {
   "interpreter": {
    "hash": "4534b3131e25656730c698a2226cb19b13d1fe0a1bfcb5e653460d16b9233f41"
   }
  }
 },
 "nbformat": 4,
 "nbformat_minor": 2
}

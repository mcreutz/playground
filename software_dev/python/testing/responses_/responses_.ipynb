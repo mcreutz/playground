{
 "cells": [
  {
   "cell_type": "code",
   "execution_count": 9,
   "metadata": {},
   "outputs": [
    {
     "name": "stdout",
     "output_type": "stream",
     "text": [
      "This is a test.\n",
      "This is a test line.\n",
      "None\n"
     ]
    },
    {
     "ename": "AssertionError",
     "evalue": "",
     "output_type": "error",
     "traceback": [
      "\u001b[0;31m---------------------------------------------------------------------------\u001b[0m",
      "\u001b[0;31mAssertionError\u001b[0m                            Traceback (most recent call last)",
      "\u001b[1;32m/Users/martin/Documents/devel/playground/software_dev/testing/responses_/responses_.ipynb Cell 1'\u001b[0m in \u001b[0;36m<cell line: 25>\u001b[0;34m()\u001b[0m\n\u001b[1;32m     <a href='vscode-notebook-cell:/Users/martin/Documents/devel/playground/software_dev/testing/responses_/responses_.ipynb#ch0000000?line=20'>21</a>\u001b[0m     \u001b[39mprint\u001b[39m(recieved_html)\n\u001b[1;32m     <a href='vscode-notebook-cell:/Users/martin/Documents/devel/playground/software_dev/testing/responses_/responses_.ipynb#ch0000000?line=21'>22</a>\u001b[0m     \u001b[39massert\u001b[39;00m recieved_html \u001b[39m==\u001b[39m mock_html\n\u001b[0;32m---> <a href='vscode-notebook-cell:/Users/martin/Documents/devel/playground/software_dev/testing/responses_/responses_.ipynb#ch0000000?line=24'>25</a>\u001b[0m test_get_website_html()\n",
      "File \u001b[0;32m~/.local/share/virtualenvs/playground-MkuFeJM_/lib/python3.9/site-packages/responses/__init__.py:130\u001b[0m, in \u001b[0;36mget_wrapped.<locals>.wrapper\u001b[0;34m(*args, **kwargs)\u001b[0m\n\u001b[1;32m    <a href='file:///~/.local/share/virtualenvs/playground-MkuFeJM_/lib/python3.9/site-packages/responses/__init__.py?line=126'>127</a>\u001b[0m \u001b[39m@wraps\u001b[39m(func)\n\u001b[1;32m    <a href='file:///~/.local/share/virtualenvs/playground-MkuFeJM_/lib/python3.9/site-packages/responses/__init__.py?line=127'>128</a>\u001b[0m \u001b[39mdef\u001b[39;00m \u001b[39mwrapper\u001b[39m(\u001b[39m*\u001b[39margs, \u001b[39m*\u001b[39m\u001b[39m*\u001b[39mkwargs):\n\u001b[1;32m    <a href='file:///~/.local/share/virtualenvs/playground-MkuFeJM_/lib/python3.9/site-packages/responses/__init__.py?line=128'>129</a>\u001b[0m     \u001b[39mwith\u001b[39;00m responses:\n\u001b[0;32m--> <a href='file:///~/.local/share/virtualenvs/playground-MkuFeJM_/lib/python3.9/site-packages/responses/__init__.py?line=129'>130</a>\u001b[0m         \u001b[39mreturn\u001b[39;00m func(\u001b[39m*\u001b[39;49margs, \u001b[39m*\u001b[39;49m\u001b[39m*\u001b[39;49mkwargs)\n",
      "\u001b[1;32m/Users/martin/Documents/devel/playground/software_dev/testing/responses_/responses_.ipynb Cell 1'\u001b[0m in \u001b[0;36mtest_get_website_html\u001b[0;34m()\u001b[0m\n\u001b[1;32m     <a href='vscode-notebook-cell:/Users/martin/Documents/devel/playground/software_dev/testing/responses_/responses_.ipynb#ch0000000?line=19'>20</a>\u001b[0m \u001b[39mprint\u001b[39m(mock_html)\n\u001b[1;32m     <a href='vscode-notebook-cell:/Users/martin/Documents/devel/playground/software_dev/testing/responses_/responses_.ipynb#ch0000000?line=20'>21</a>\u001b[0m \u001b[39mprint\u001b[39m(recieved_html)\n\u001b[0;32m---> <a href='vscode-notebook-cell:/Users/martin/Documents/devel/playground/software_dev/testing/responses_/responses_.ipynb#ch0000000?line=21'>22</a>\u001b[0m \u001b[39massert\u001b[39;00m recieved_html \u001b[39m==\u001b[39m mock_html\n",
      "\u001b[0;31mAssertionError\u001b[0m: "
     ]
    }
   ],
   "source": [
    "import responses\n",
    "import requests\n",
    "\n",
    "\n",
    "def get_website_html():\n",
    "    url = \"https://google.com\"\n",
    "    html = requests.get(url).text\n",
    "    # print(html[0])\n",
    "\n",
    "\n",
    "@responses.activate\n",
    "def test_get_website_html():\n",
    "    url = \"https://google.com\"\n",
    "    with open(\"mock_website.html\", 'r') as filereader:\n",
    "        mock_html = filereader.readlines()\n",
    "    mock_html = \"\".join(mock_html)\n",
    "    # mock_html = bytes(mock_html)\n",
    "    responses.add(method='GET', url=url, body=mock_html)\n",
    "    recieved_html = get_website_html()\n",
    "    print(mock_html)\n",
    "    print(recieved_html)\n",
    "    assert recieved_html == mock_html\n",
    "\n",
    "\n",
    "test_get_website_html()"
   ]
  },
  {
   "cell_type": "code",
   "execution_count": null,
   "metadata": {},
   "outputs": [],
   "source": []
  }
 ],
 "metadata": {
  "interpreter": {
   "hash": "d98c3b4b76a6c0d198e6bba6c34257f678fd8b927ca969049ed8b3cbefaaf8c3"
  },
  "kernelspec": {
   "display_name": "Python 3.9.10 ('playground-MkuFeJM_')",
   "language": "python",
   "name": "python3"
  },
  "language_info": {
   "codemirror_mode": {
    "name": "ipython",
    "version": 3
   },
   "file_extension": ".py",
   "mimetype": "text/x-python",
   "name": "python",
   "nbconvert_exporter": "python",
   "pygments_lexer": "ipython3",
   "version": "3.9.12"
  },
  "orig_nbformat": 4
 },
 "nbformat": 4,
 "nbformat_minor": 2
}

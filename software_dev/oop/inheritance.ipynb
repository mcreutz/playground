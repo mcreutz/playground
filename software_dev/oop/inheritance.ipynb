{
 "cells": [
  {
   "cell_type": "code",
   "execution_count": 4,
   "metadata": {},
   "outputs": [
    {
     "name": "stdout",
     "output_type": "stream",
     "text": [
      "11\n"
     ]
    }
   ],
   "source": [
    "class BaseClass():\n",
    "\n",
    "    base_class_property = 11\n",
    "\n",
    "    def __init__(self):\n",
    "        BaseClass.base_class_property = 22\n",
    "\n",
    "\n",
    "class MyClass(BaseClass):\n",
    "    def __init__(self):\n",
    "        # super().__init__()\n",
    "        pass\n",
    "\n",
    "    def my_method(self):\n",
    "        print(MyClass.base_class_property)\n",
    "\n",
    "\n",
    "my_object = MyClass()\n",
    "my_object.my_method()\n"
   ]
  },
  {
   "cell_type": "code",
   "execution_count": null,
   "metadata": {},
   "outputs": [],
   "source": []
  }
 ],
 "metadata": {
  "interpreter": {
   "hash": "d98c3b4b76a6c0d198e6bba6c34257f678fd8b927ca969049ed8b3cbefaaf8c3"
  },
  "kernelspec": {
   "display_name": "Python 3.9.7 64-bit ('playground-MkuFeJM_': pipenv)",
   "name": "python3"
  },
  "language_info": {
   "codemirror_mode": {
    "name": "ipython",
    "version": 3
   },
   "file_extension": ".py",
   "mimetype": "text/x-python",
   "name": "python",
   "nbconvert_exporter": "python",
   "pygments_lexer": "ipython3",
   "version": "3.9.7"
  },
  "orig_nbformat": 4
 },
 "nbformat": 4,
 "nbformat_minor": 2
}

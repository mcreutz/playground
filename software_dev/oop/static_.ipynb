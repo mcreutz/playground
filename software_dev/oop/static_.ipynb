{
 "cells": [
  {
   "cell_type": "code",
   "execution_count": 6,
   "source": [
    "class MyClass():\n",
    "\n",
    "    my_prop = 12\n",
    "    \n",
    "    def __init__(self):\n",
    "        pass\n",
    "        \n",
    "    def my_method(self):\n",
    "        pass\n",
    "\n",
    "\n",
    "if __name__ == \"__main__\":\n",
    "    mc1 = MyClass()\n",
    "    mc2 = MyClass()\n",
    "\n",
    "    mc2.my_prop = 13\n",
    "\n",
    "    print(mc1.my_prop)\n",
    "    print(mc2.my_prop)\n",
    "    print(MyClass.my_prop)"
   ],
   "outputs": [
    {
     "output_type": "stream",
     "name": "stdout",
     "text": [
      "12\n",
      "13\n",
      "12\n"
     ]
    }
   ],
   "metadata": {}
  },
  {
   "cell_type": "code",
   "execution_count": null,
   "source": [],
   "outputs": [],
   "metadata": {}
  },
  {
   "cell_type": "code",
   "execution_count": null,
   "source": [],
   "outputs": [],
   "metadata": {}
  }
 ],
 "metadata": {
  "orig_nbformat": 4,
  "language_info": {
   "name": "python",
   "version": "3.9.7",
   "mimetype": "text/x-python",
   "codemirror_mode": {
    "name": "ipython",
    "version": 3
   },
   "pygments_lexer": "ipython3",
   "nbconvert_exporter": "python",
   "file_extension": ".py"
  },
  "kernelspec": {
   "name": "python3",
   "display_name": "Python 3.9.7 64-bit ('private_playground-5JPsKkiQ': pipenv)"
  },
  "interpreter": {
   "hash": "07429c33ae0997cdbc7ceb84990794ad23021ae4dd1118919ae82393c3dc1e60"
  }
 },
 "nbformat": 4,
 "nbformat_minor": 2
}
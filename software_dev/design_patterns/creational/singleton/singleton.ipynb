{
 "cells": [
  {
   "cell_type": "markdown",
   "metadata": {},
   "source": [
    "https://stackoverflow.com/questions/6760685/creating-a-singleton-in-python"
   ]
  },
  {
   "cell_type": "code",
   "execution_count": 11,
   "metadata": {},
   "outputs": [
    {
     "name": "stdout",
     "output_type": "stream",
     "text": [
      "12\n",
      "<class '__main__.MyClass'>\n",
      "44\n",
      "55\n",
      "<__main__.MyClass object at 0x10cdfcc40>\n",
      "<__main__.MyClass object at 0x10cdfc610>\n"
     ]
    }
   ],
   "source": [
    "def singleton(class_):\n",
    "    instances = {}\n",
    "    def getinstance(*args, **kwargs):\n",
    "        if class_ not in instances:\n",
    "            instances[class_] = class_(*args, **kwargs)\n",
    "        return instances[class_]\n",
    "    return getinstance\n",
    "\n",
    "\n",
    "@singleton\n",
    "class MyClass():\n",
    "    my_classprop = 12\n",
    "\n",
    "    def __init__(self, my_prop) -> None:\n",
    "        self.my_prop = my_prop\n",
    "    \n",
    "    def my_method(self):\n",
    "        print(self)\n",
    "\n",
    "    @classmethod\n",
    "    def my_classmethod(cls):\n",
    "        print(cls)\n",
    "\n",
    "\n",
    "my_obj_1 = MyClass(44)\n",
    "my_obj_2 = MyClass(55)\n",
    "\n",
    "print(my_obj_1.my_prop)\n",
    "print(my_obj_2.my_prop)\n",
    "\n",
    "my_obj_1.my_method()\n",
    "my_obj_2.my_method()\n",
    "\n",
    "# print(MyClass.my_classprop)  \n",
    "# MyClass.my_classmethod()\n",
    "# --> Does not work when decorating a class. Class becomes a function. Use a module instead."
   ]
  },
  {
   "cell_type": "code",
   "execution_count": null,
   "metadata": {},
   "outputs": [],
   "source": []
  }
 ],
 "metadata": {
  "interpreter": {
   "hash": "d98c3b4b76a6c0d198e6bba6c34257f678fd8b927ca969049ed8b3cbefaaf8c3"
  },
  "kernelspec": {
   "display_name": "Python 3.9.9 64-bit ('playground-MkuFeJM_': pipenv)",
   "language": "python",
   "name": "python3"
  },
  "language_info": {
   "codemirror_mode": {
    "name": "ipython",
    "version": 3
   },
   "file_extension": ".py",
   "mimetype": "text/x-python",
   "name": "python",
   "nbconvert_exporter": "python",
   "pygments_lexer": "ipython3",
   "version": "3.9.9"
  },
  "orig_nbformat": 4
 },
 "nbformat": 4,
 "nbformat_minor": 2
}

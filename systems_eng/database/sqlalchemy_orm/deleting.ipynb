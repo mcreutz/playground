{
 "cells": [
  {
   "cell_type": "code",
   "execution_count": 1,
   "metadata": {},
   "outputs": [
    {
     "name": "stdout",
     "output_type": "stream",
     "text": [
      "Added FOREIGN_KEY pragma event for sqlite.\n",
      "2022-03-13 15:39:39,857 INFO sqlalchemy.engine.Engine BEGIN (implicit)\n",
      "2022-03-13 15:39:39,858 INFO sqlalchemy.engine.Engine PRAGMA main.table_info(\"user_accounts\")\n",
      "2022-03-13 15:39:39,858 INFO sqlalchemy.engine.Engine [raw sql] ()\n",
      "2022-03-13 15:39:39,859 INFO sqlalchemy.engine.Engine PRAGMA temp.table_info(\"user_accounts\")\n",
      "2022-03-13 15:39:39,859 INFO sqlalchemy.engine.Engine [raw sql] ()\n",
      "2022-03-13 15:39:39,861 INFO sqlalchemy.engine.Engine \n",
      "CREATE TABLE user_accounts (\n",
      "\tname VARCHAR(30) NOT NULL, \n",
      "\tfullname VARCHAR, \n",
      "\tPRIMARY KEY (name)\n",
      ")\n",
      "\n",
      "\n",
      "2022-03-13 15:39:39,862 INFO sqlalchemy.engine.Engine [no key 0.00096s] ()\n",
      "2022-03-13 15:39:39,864 INFO sqlalchemy.engine.Engine COMMIT\n",
      "2022-03-13 15:39:39,867 INFO sqlalchemy.engine.Engine BEGIN (implicit)\n",
      "2022-03-13 15:39:39,870 INFO sqlalchemy.engine.Engine INSERT INTO user_accounts (name, fullname) VALUES (?, ?)\n",
      "2022-03-13 15:39:39,871 INFO sqlalchemy.engine.Engine [generated in 0.00102s] ('sandy', 'Sandy Cheeks')\n",
      "2022-03-13 15:39:39,872 INFO sqlalchemy.engine.Engine COMMIT\n",
      "2022-03-13 15:39:39,873 INFO sqlalchemy.engine.Engine BEGIN (implicit)\n",
      "2022-03-13 15:39:39,875 INFO sqlalchemy.engine.Engine SELECT user_accounts.name, user_accounts.fullname \n",
      "FROM user_accounts\n",
      "2022-03-13 15:39:39,876 INFO sqlalchemy.engine.Engine [generated in 0.00107s] ()\n",
      "[(User(name=sandy, fullname=Sandy Cheeks),)]\n",
      "2022-03-13 15:39:39,878 INFO sqlalchemy.engine.Engine ROLLBACK\n"
     ]
    }
   ],
   "source": [
    "from datetime import date, datetime\n",
    "\n",
    "from sqlalchemy import create_engine, Column, Integer, String, ForeignKey, select, update, event, Date, DateTime, exists, and_, UniqueConstraint, ForeignKeyConstraint\n",
    "from sqlalchemy.orm import Session, declarative_base, relationship\n",
    "\n",
    "engine = create_engine(\"sqlite:///:memory:\", echo=True, future=True)\n",
    "\n",
    "def _fk_pragma_on_connect(dbapi_con, con_record):\n",
    "    dbapi_con.execute('PRAGMA foreign_keys = 1')\n",
    "\n",
    "if engine.url.drivername == 'sqlite':\n",
    "    event.listen(engine, 'connect', _fk_pragma_on_connect)\n",
    "    print(\"Added FOREIGN_KEY pragma event for sqlite.\")\n",
    "\n",
    "Base = declarative_base()\n",
    "\n",
    "\n",
    "class User(Base):\n",
    "    __tablename__ = 'user_accounts'\n",
    "\n",
    "    name = Column(String(30), primary_key=True)\n",
    "    fullname = Column(String)\n",
    "   \n",
    "    def __eq__(self, other):\n",
    "        return self.name == other.name\n",
    "\n",
    "    def __repr__(self):\n",
    "       return f\"User(name={self.name}, fullname={self.fullname})\"\n",
    "\n",
    "\n",
    "Base.metadata.create_all(engine)\n",
    "\n",
    "sandy = User(name=\"sandy\", fullname=\"Sandy Cheeks\")\n",
    "with Session(engine) as session:\n",
    "    session.add(sandy)\n",
    "    session.commit()\n",
    "    print(session.execute(select(User)).all())\n",
    "    session.close()"
   ]
  },
  {
   "cell_type": "code",
   "execution_count": 3,
   "metadata": {},
   "outputs": [
    {
     "name": "stdout",
     "output_type": "stream",
     "text": [
      "2022-03-13 15:51:14,884 INFO sqlalchemy.engine.Engine BEGIN (implicit)\n",
      "2022-03-13 15:51:14,886 INFO sqlalchemy.engine.Engine DELETE FROM user_accounts WHERE user_accounts.name = ?\n",
      "2022-03-13 15:51:14,887 INFO sqlalchemy.engine.Engine [generated in 0.00076s] ('sandy',)\n",
      "2022-03-13 15:51:14,888 INFO sqlalchemy.engine.Engine COMMIT\n",
      "False\n"
     ]
    }
   ],
   "source": [
    "with Session(engine) as session:\n",
    "    session.delete(sandy)\n",
    "    session.commit()\n",
    "    print(sandy in session)"
   ]
  },
  {
   "cell_type": "code",
   "execution_count": null,
   "metadata": {},
   "outputs": [],
   "source": []
  }
 ],
 "metadata": {
  "interpreter": {
   "hash": "d98c3b4b76a6c0d198e6bba6c34257f678fd8b927ca969049ed8b3cbefaaf8c3"
  },
  "kernelspec": {
   "display_name": "Python 3.9.10 ('playground-MkuFeJM_')",
   "language": "python",
   "name": "python3"
  },
  "language_info": {
   "codemirror_mode": {
    "name": "ipython",
    "version": 3
   },
   "file_extension": ".py",
   "mimetype": "text/x-python",
   "name": "python",
   "nbconvert_exporter": "python",
   "pygments_lexer": "ipython3",
   "version": "3.9.10"
  },
  "orig_nbformat": 4
 },
 "nbformat": 4,
 "nbformat_minor": 2
}

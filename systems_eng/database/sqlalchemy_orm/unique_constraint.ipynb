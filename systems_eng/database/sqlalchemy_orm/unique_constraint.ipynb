{
 "cells": [
  {
   "cell_type": "code",
   "execution_count": 1,
   "metadata": {},
   "outputs": [],
   "source": [
    "from datetime import date, datetime\n",
    "\n",
    "from sqlalchemy import create_engine, Column, Integer, String, ForeignKey, select, event, Date, DateTime, exists, and_, UniqueConstraint, ForeignKeyConstraint\n",
    "from sqlalchemy.orm import Session, declarative_base, relationship"
   ]
  },
  {
   "cell_type": "code",
   "execution_count": 2,
   "metadata": {},
   "outputs": [],
   "source": [
    "# Creating the engine\n",
    "\n",
    "engine = create_engine(\"sqlite:///:memory:\", echo=True, future=True)"
   ]
  },
  {
   "cell_type": "code",
   "execution_count": 3,
   "metadata": {},
   "outputs": [
    {
     "name": "stdout",
     "output_type": "stream",
     "text": [
      "Added FOREIGN_KEY pragma event for sqlite.\n"
     ]
    }
   ],
   "source": [
    "# Adding foreign key pragma on every connection for sqlite by event\n",
    "\n",
    "def _fk_pragma_on_connect(dbapi_con, con_record):\n",
    "    dbapi_con.execute('PRAGMA foreign_keys = 1')\n",
    "\n",
    "if engine.url.drivername == 'sqlite':\n",
    "    event.listen(engine, 'connect', _fk_pragma_on_connect)\n",
    "    print(\"Added FOREIGN_KEY pragma event for sqlite.\")"
   ]
  },
  {
   "cell_type": "code",
   "execution_count": 4,
   "metadata": {},
   "outputs": [],
   "source": [
    "# Creating the base class for table-mapped data-classes\n",
    "\n",
    "Base = declarative_base()"
   ]
  },
  {
   "cell_type": "code",
   "execution_count": 5,
   "metadata": {},
   "outputs": [],
   "source": [
    "# Declaration of table-mapped data-classes\n",
    "\n",
    "class User(Base):\n",
    "    __tablename__ = 'user_accounts'\n",
    "    __table_args__ = (UniqueConstraint('name', 'fullname'),)\n",
    "\n",
    "    # id = Column(Integer)\n",
    "    name = Column(String(30), primary_key=True)\n",
    "    fullname = Column(String, primary_key=True)\n",
    "    date_column = Column(Date)\n",
    "    datetime_column = Column(DateTime)\n",
    "\n",
    "    addresses = relationship(\"Address\", back_populates=\"user\")\n",
    "    \n",
    "    # def __repr__(self):\n",
    "    #    return f\"User(id={self.id!r}, name={self.name!r}, fullname={self.fullname!r}, date_column={self.date_column!r}, datetime_column={self.datetime_column})\"\n",
    "\n",
    "    def __eq__(self, other):\n",
    "        return (\n",
    "            (self.name == other.name) and\n",
    "            (self.fullname == other.fullname))\n",
    "\n",
    "\n",
    "class Address(Base):\n",
    "    __tablename__ = 'addresses'\n",
    "    __table_args__ = (ForeignKeyConstraint([\"user_name\", \"user_fullname\"], [\"user_accounts.name\", \"user_accounts.fullname\"]),)\n",
    "\n",
    "    id = Column(Integer, primary_key=True)\n",
    "    email_address = Column(String, nullable=False)\n",
    "    user_name = Column(String(30))\n",
    "    user_fullname = Column(String)\n",
    "\n",
    "    user = relationship(\n",
    "        \"User\", \n",
    "        foreign_keys=\"[Address.user_name, Address.user_fullname]\",\n",
    "        back_populates=\"addresses\")\n",
    "\n",
    "    # def __repr__(self):\n",
    "    #     return f\"Address(id={self.id!r}, email_address={self.email_address!r})\""
   ]
  },
  {
   "cell_type": "code",
   "execution_count": 6,
   "metadata": {},
   "outputs": [
    {
     "name": "stdout",
     "output_type": "stream",
     "text": [
      "2022-03-06 23:32:00,759 INFO sqlalchemy.engine.Engine BEGIN (implicit)\n",
      "2022-03-06 23:32:00,760 INFO sqlalchemy.engine.Engine PRAGMA main.table_info(\"user_accounts\")\n",
      "2022-03-06 23:32:00,760 INFO sqlalchemy.engine.Engine [raw sql] ()\n",
      "2022-03-06 23:32:00,761 INFO sqlalchemy.engine.Engine PRAGMA temp.table_info(\"user_accounts\")\n",
      "2022-03-06 23:32:00,762 INFO sqlalchemy.engine.Engine [raw sql] ()\n",
      "2022-03-06 23:32:00,763 INFO sqlalchemy.engine.Engine PRAGMA main.table_info(\"addresses\")\n",
      "2022-03-06 23:32:00,763 INFO sqlalchemy.engine.Engine [raw sql] ()\n",
      "2022-03-06 23:32:00,764 INFO sqlalchemy.engine.Engine PRAGMA temp.table_info(\"addresses\")\n",
      "2022-03-06 23:32:00,765 INFO sqlalchemy.engine.Engine [raw sql] ()\n",
      "2022-03-06 23:32:00,766 INFO sqlalchemy.engine.Engine \n",
      "CREATE TABLE user_accounts (\n",
      "\tname VARCHAR(30) NOT NULL, \n",
      "\tfullname VARCHAR NOT NULL, \n",
      "\tdate_column DATE, \n",
      "\tdatetime_column DATETIME, \n",
      "\tPRIMARY KEY (name, fullname), \n",
      "\tUNIQUE (name, fullname)\n",
      ")\n",
      "\n",
      "\n",
      "2022-03-06 23:32:00,767 INFO sqlalchemy.engine.Engine [no key 0.00079s] ()\n",
      "2022-03-06 23:32:00,769 INFO sqlalchemy.engine.Engine \n",
      "CREATE TABLE addresses (\n",
      "\tid INTEGER NOT NULL, \n",
      "\temail_address VARCHAR NOT NULL, \n",
      "\tuser_name VARCHAR(30), \n",
      "\tuser_fullname VARCHAR, \n",
      "\tPRIMARY KEY (id), \n",
      "\tFOREIGN KEY(user_name, user_fullname) REFERENCES user_accounts (name, fullname)\n",
      ")\n",
      "\n",
      "\n",
      "2022-03-06 23:32:00,769 INFO sqlalchemy.engine.Engine [no key 0.00075s] ()\n",
      "2022-03-06 23:32:00,770 INFO sqlalchemy.engine.Engine COMMIT\n"
     ]
    }
   ],
   "source": [
    "# Create tables for all data-classes\n",
    "\n",
    "Base.metadata.create_all(engine)\n",
    "\n",
    "# Erstellt nur notwendige Elemente in der DB. Bereits vorhandene Elemente (Tabellen etc. ) werden ohne Fehler ignoriert (checkfirst=True)."
   ]
  },
  {
   "cell_type": "code",
   "execution_count": 7,
   "metadata": {},
   "outputs": [],
   "source": [
    "# Create data-objects\n",
    "\n",
    "sandy = User(name=\"sandy\", fullname=\"Sandy Cheeks\", date_column=date.today(), datetime_column=datetime.now())\n",
    "sandy2 = User(name=\"sandy\", fullname=\"Sandy Cheeks\", date_column=date.today(), datetime_column=datetime.now())\n",
    "sandy3 = User(name=\"sandy\", fullname=\"Sandy Cheeks\")\n",
    "sandy4 = User(name=\"sandy\", fullname=\"Sandy Cheeks\")"
   ]
  },
  {
   "cell_type": "code",
   "execution_count": 8,
   "metadata": {},
   "outputs": [
    {
     "data": {
      "text/plain": [
       "False"
      ]
     },
     "execution_count": 8,
     "metadata": {},
     "output_type": "execute_result"
    }
   ],
   "source": [
    "sandy3 is sandy4"
   ]
  },
  {
   "cell_type": "code",
   "execution_count": 9,
   "metadata": {},
   "outputs": [
    {
     "data": {
      "text/plain": [
       "True"
      ]
     },
     "execution_count": 9,
     "metadata": {},
     "output_type": "execute_result"
    }
   ],
   "source": [
    "sandies = [sandy, sandy2]\n",
    "sandy4 in sandies"
   ]
  },
  {
   "cell_type": "code",
   "execution_count": 10,
   "metadata": {},
   "outputs": [],
   "source": [
    "# Adding users to the database\n",
    "\n",
    "session = Session(engine)\n",
    "session.add(sandy)\n",
    "# session.add_all([sandy, sandy2])\n",
    "# session.commit()\n"
   ]
  },
  {
   "cell_type": "code",
   "execution_count": 11,
   "metadata": {},
   "outputs": [
    {
     "data": {
      "text/plain": [
       "True"
      ]
     },
     "execution_count": 11,
     "metadata": {},
     "output_type": "execute_result"
    }
   ],
   "source": [
    "sandy in session"
   ]
  },
  {
   "cell_type": "code",
   "execution_count": 12,
   "metadata": {},
   "outputs": [
    {
     "name": "stdout",
     "output_type": "stream",
     "text": [
      "2022-03-06 23:32:01,286 INFO sqlalchemy.engine.Engine BEGIN (implicit)\n",
      "2022-03-06 23:32:01,289 INFO sqlalchemy.engine.Engine SELECT user_accounts.name, user_accounts.fullname, user_accounts.date_column, user_accounts.datetime_column \n",
      "FROM user_accounts\n",
      "2022-03-06 23:32:01,289 INFO sqlalchemy.engine.Engine [generated in 0.00088s] ()\n",
      "[]\n",
      "2022-03-06 23:32:01,290 INFO sqlalchemy.engine.Engine ROLLBACK\n"
     ]
    }
   ],
   "source": [
    "with Session(engine) as session:\n",
    "    print(session.execute(select(User)).all())"
   ]
  },
  {
   "cell_type": "code",
   "execution_count": null,
   "metadata": {},
   "outputs": [],
   "source": []
  }
 ],
 "metadata": {
  "interpreter": {
   "hash": "d98c3b4b76a6c0d198e6bba6c34257f678fd8b927ca969049ed8b3cbefaaf8c3"
  },
  "kernelspec": {
   "display_name": "Python 3.9.10 ('playground-MkuFeJM_')",
   "language": "python",
   "name": "python3"
  },
  "language_info": {
   "codemirror_mode": {
    "name": "ipython",
    "version": 3
   },
   "file_extension": ".py",
   "mimetype": "text/x-python",
   "name": "python",
   "nbconvert_exporter": "python",
   "pygments_lexer": "ipython3",
   "version": "3.9.10"
  },
  "orig_nbformat": 4
 },
 "nbformat": 4,
 "nbformat_minor": 2
}

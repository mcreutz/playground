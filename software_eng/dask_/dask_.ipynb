{
 "cells": [
  {
   "cell_type": "code",
   "execution_count": 1,
   "metadata": {},
   "outputs": [],
   "source": [
    "from time import sleep\n",
    "\n",
    "from dask.distributed import Client\n",
    "from dask import delayed"
   ]
  },
  {
   "cell_type": "code",
   "execution_count": 2,
   "metadata": {},
   "outputs": [],
   "source": [
    "client = Client(n_workers=8)"
   ]
  },
  {
   "cell_type": "code",
   "execution_count": null,
   "metadata": {},
   "outputs": [],
   "source": [
    "# Example 1:"
   ]
  },
  {
   "cell_type": "code",
   "execution_count": 3,
   "metadata": {},
   "outputs": [],
   "source": [
    "def inc(x):\n",
    "    sleep(1)\n",
    "    return x + 1\n",
    "\n",
    "def add(x, y):\n",
    "    sleep(1)\n",
    "    return x + y"
   ]
  },
  {
   "cell_type": "code",
   "execution_count": 4,
   "metadata": {},
   "outputs": [
    {
     "output_type": "stream",
     "name": "stdout",
     "text": [
      "CPU times: user 396 µs, sys: 92 µs, total: 488 µs\nWall time: 471 µs\n"
     ]
    }
   ],
   "source": [
    "%%time\n",
    "# This runs immediately, all it does is build a graph\n",
    "\n",
    "x = delayed(inc)(1)\n",
    "y = delayed(inc)(2)\n",
    "z = delayed(add)(x, y)"
   ]
  },
  {
   "cell_type": "code",
   "execution_count": 8,
   "metadata": {},
   "outputs": [
    {
     "output_type": "stream",
     "name": "stdout",
     "text": [
      "CPU times: user 288 ms, sys: 38.3 ms, total: 327 ms\nWall time: 2.03 s\n"
     ]
    },
    {
     "output_type": "execute_result",
     "data": {
      "text/plain": [
       "5"
      ]
     },
     "metadata": {},
     "execution_count": 8
    }
   ],
   "source": [
    "%%time\n",
    "# This actually runs our computation using a local thread pool\n",
    "\n",
    "z.compute()"
   ]
  },
  {
   "cell_type": "code",
   "execution_count": null,
   "metadata": {},
   "outputs": [],
   "source": [
    "# Example 2:"
   ]
  },
  {
   "cell_type": "code",
   "execution_count": 9,
   "metadata": {},
   "outputs": [],
   "source": [
    "data = [1, 2, 3, 4, 5, 6, 7, 8]"
   ]
  },
  {
   "cell_type": "code",
   "execution_count": 12,
   "metadata": {},
   "outputs": [
    {
     "output_type": "stream",
     "name": "stdout",
     "text": [
      "Before computing: Delayed('sum-a84c8c6b-871b-4b77-8e2d-e4770e3ee3ba')\n",
      "After computing : 44\n",
      "CPU times: user 159 ms, sys: 21.5 ms, total: 180 ms\n",
      "Wall time: 1.03 s\n"
     ]
    }
   ],
   "source": [
    "%%time\n",
    "\n",
    "results = []\n",
    "\n",
    "for x in data:\n",
    "    y = delayed(inc)(x)\n",
    "    results.append(y)\n",
    "    \n",
    "total = delayed(sum)(results)\n",
    "print(\"Before computing:\", total)  # Let's see what type of thing total is\n",
    "result = total.compute()\n",
    "print(\"After computing :\", result)  # After it's computed"
   ]
  },
  {
   "cell_type": "code",
   "execution_count": 16,
   "metadata": {},
   "outputs": [],
   "source": [
    "client.close()"
   ]
  },
  {
   "cell_type": "code",
   "execution_count": null,
   "metadata": {},
   "outputs": [],
   "source": [
    "# Example 3"
   ]
  },
  {
   "cell_type": "code",
   "execution_count": 17,
   "metadata": {},
   "outputs": [
    {
     "output_type": "stream",
     "name": "stderr",
     "text": [
      "/usr/local/Cellar/python@3.9/3.9.2_2/Frameworks/Python.framework/Versions/3.9/lib/python3.9/inspect.py:2939: RuntimeWarning: coroutine '_needs_document_lock.<locals>._needs_document_lock_wrapper' was never awaited\n  arg_val = next(arg_vals)\nTask was destroyed but it is pending!\ntask: <Task pending name='Task-229722' coro=<_needs_document_lock.<locals>._needs_document_lock_wrapper() running at /Users/martin/.local/share/virtualenvs/private_playground-5JPsKkiQ/lib/python3.9/site-packages/bokeh/server/session.py:51> cb=[multi_future.<locals>.callback() at /Users/martin/.local/share/virtualenvs/private_playground-5JPsKkiQ/lib/python3.9/site-packages/tornado/gen.py:520]>\n"
     ]
    },
    {
     "output_type": "display_data",
     "data": {
      "text/plain": "VBox(children=(HTML(value='<h2>LocalCluster</h2>'), HBox(children=(HTML(value='\\n<div>\\n  <style scoped>\\n    …",
      "application/vnd.jupyter.widget-view+json": {
       "version_major": 2,
       "version_minor": 0,
       "model_id": "e3a60a30bcdc48df9f91893980b8713b"
      }
     },
     "metadata": {}
    }
   ],
   "source": [
    "from dask.distributed import Client\n",
    "c = Client(n_workers=4)\n",
    "c.cluster"
   ]
  },
  {
   "cell_type": "code",
   "execution_count": 18,
   "metadata": {},
   "outputs": [
    {
     "output_type": "execute_result",
     "data": {
      "text/plain": [
       "<Future: pending, key: inc-7d6fe4615f20b92f6ce3bdc7e675f417>"
      ],
      "text/html": "<b>Future: inc</b> <font color=\"gray\">status: </font><font color=\"black\">pending</font>, <font color=\"gray\">key: </font>inc-7d6fe4615f20b92f6ce3bdc7e675f417"
     },
     "metadata": {},
     "execution_count": 18
    }
   ],
   "source": [
    "def inc(x):\n",
    "    return x + 1\n",
    "\n",
    "fut = c.submit(inc, 1)\n",
    "fut"
   ]
  },
  {
   "cell_type": "code",
   "execution_count": 19,
   "metadata": {},
   "outputs": [
    {
     "output_type": "execute_result",
     "data": {
      "text/plain": [
       "<Future: finished, type: builtins.int, key: inc-7d6fe4615f20b92f6ce3bdc7e675f417>"
      ],
      "text/html": "<b>Future: inc</b> <font color=\"gray\">status: </font><font color=\"black\">finished</font>, <font color=\"gray\">type: </font>builtins.int, <font color=\"gray\">key: </font>inc-7d6fe4615f20b92f6ce3bdc7e675f417"
     },
     "metadata": {},
     "execution_count": 19
    }
   ],
   "source": [
    "fut"
   ]
  },
  {
   "cell_type": "code",
   "execution_count": 20,
   "metadata": {},
   "outputs": [
    {
     "output_type": "execute_result",
     "data": {
      "text/plain": [
       "2"
      ]
     },
     "metadata": {},
     "execution_count": 20
    }
   ],
   "source": [
    "# grab the information back - this blocks if fut is not ready\n",
    "c.gather(fut)\n",
    "# equivalent action when only considering a single future\n",
    "# fut.result()"
   ]
  },
  {
   "cell_type": "code",
   "execution_count": 43,
   "metadata": {},
   "outputs": [],
   "source": [
    "# Some trivial work that takes time\n",
    "# repeated from the Distributed chapter.\n",
    "\n",
    "from dask import delayed\n",
    "import time\n",
    "\n",
    "def inc(x):\n",
    "    time.sleep(5)\n",
    "    return x + 1\n",
    "\n",
    "def dec(x):\n",
    "    time.sleep(3)\n",
    "    return x - 1\n",
    "\n",
    "def add(x, y):\n",
    "    time.sleep(7)\n",
    "    return x + y\n",
    "\n",
    "x = delayed(inc)(1)\n",
    "y = delayed(dec)(2)\n",
    "total = delayed(add)(x, y)"
   ]
  },
  {
   "cell_type": "code",
   "execution_count": 44,
   "metadata": {},
   "outputs": [
    {
     "output_type": "execute_result",
     "data": {
      "text/plain": [
       "<Future: pending, key: add-85c639a5-14dd-4adb-8673-130a469990a3>"
      ],
      "text/html": "<b>Future: add</b> <font color=\"gray\">status: </font><font color=\"black\">pending</font>, <font color=\"gray\">key: </font>add-85c639a5-14dd-4adb-8673-130a469990a3"
     },
     "metadata": {},
     "execution_count": 44
    }
   ],
   "source": [
    "# notice the difference from total.compute()\n",
    "# notice that this cell completes immediately\n",
    "fut = c.compute(total)\n",
    "fut"
   ]
  },
  {
   "cell_type": "code",
   "execution_count": 45,
   "metadata": {},
   "outputs": [
    {
     "output_type": "stream",
     "name": "stderr",
     "text": [
      "distributed.nanny - WARNING - Worker process still alive after 3 seconds, killing\n"
     ]
    },
    {
     "output_type": "execute_result",
     "data": {
      "text/plain": [
       "3"
      ]
     },
     "metadata": {},
     "execution_count": 45
    }
   ],
   "source": [
    "c.gather(fut) # waits until result is ready"
   ]
  },
  {
   "cell_type": "code",
   "execution_count": 47,
   "metadata": {},
   "outputs": [],
   "source": [
    "c.close()"
   ]
  },
  {
   "cell_type": "code",
   "execution_count": 1,
   "metadata": {},
   "outputs": [],
   "source": [
    "# Example 4: External workers"
   ]
  },
  {
   "cell_type": "code",
   "execution_count": 1,
   "metadata": {},
   "outputs": [],
   "source": [
    "from dask.distributed import Client, wait, progress\n",
    "from dask import delayed\n",
    "import time\n",
    "import numpy as np\n",
    "import pandas as pd"
   ]
  },
  {
   "cell_type": "code",
   "execution_count": 2,
   "metadata": {},
   "outputs": [],
   "source": [
    "c = Client(address=\"192.168.0.10:8786\")"
   ]
  },
  {
   "cell_type": "code",
   "execution_count": 3,
   "metadata": {},
   "outputs": [
    {
     "output_type": "execute_result",
     "data": {
      "text/plain": [
       "<Client: 'tcp://192.168.0.10:8786' processes=16 threads=16, memory=15.64 GiB>"
      ],
      "text/html": "<table style=\"border: 2px solid white;\">\n<tr>\n<td style=\"vertical-align: top; border: 0px solid white\">\n<h3 style=\"text-align: left;\">Client</h3>\n<ul style=\"text-align: left; list-style: none; margin: 0; padding: 0;\">\n  <li><b>Scheduler: </b>tcp://192.168.0.10:8786</li>\n  <li><b>Dashboard: </b><a href='http://192.168.0.10:8787/status' target='_blank'>http://192.168.0.10:8787/status</a></li>\n</ul>\n</td>\n<td style=\"vertical-align: top; border: 0px solid white\">\n<h3 style=\"text-align: left;\">Cluster</h3>\n<ul style=\"text-align: left; list-style:none; margin: 0; padding: 0;\">\n  <li><b>Workers: </b>16</li>\n  <li><b>Cores: </b>16</li>\n  <li><b>Memory: </b>15.64 GiB</li>\n</ul>\n</td>\n</tr>\n</table>"
     },
     "metadata": {},
     "execution_count": 3
    }
   ],
   "source": [
    "c"
   ]
  },
  {
   "cell_type": "code",
   "execution_count": 7,
   "metadata": {},
   "outputs": [],
   "source": [
    "def inc(x):\n",
    "    return x + 1\n",
    "\n"
   ]
  },
  {
   "cell_type": "code",
   "execution_count": 8,
   "metadata": {},
   "outputs": [],
   "source": [
    "fut = c.submit(inc, 1)"
   ]
  },
  {
   "cell_type": "code",
   "execution_count": 9,
   "metadata": {},
   "outputs": [
    {
     "output_type": "display_data",
     "data": {
      "text/plain": "VBox()",
      "application/vnd.jupyter.widget-view+json": {
       "version_major": 2,
       "version_minor": 0,
       "model_id": "6eee073244d84b06a8a1b045b1f63980"
      }
     },
     "metadata": {}
    }
   ],
   "source": [
    "progress(fut)"
   ]
  },
  {
   "cell_type": "code",
   "execution_count": 28,
   "metadata": {},
   "outputs": [],
   "source": [
    "def inc(x):\n",
    "    time.sleep(5)\n",
    "    return x + 1\n",
    "\n",
    "def dec(x):\n",
    "    time.sleep(3)\n",
    "    return x - 1\n",
    "\n",
    "def add(x, y):\n",
    "    time.sleep(7)\n",
    "    return x + y\n",
    "\n",
    "x = delayed(inc)(1)\n",
    "y = delayed(dec)(2)\n",
    "x1 = delayed(inc)(11)\n",
    "y1 = delayed(dec)(21)\n",
    "x2 = delayed(inc)(12)\n",
    "y2 = delayed(dec)(22)\n",
    "x3 = delayed(inc)(13)\n",
    "y3 = delayed(dec)(23)\n",
    "total = delayed(add)(x, y)\n",
    "total_1 = total + delayed(add)(x1, y1)\n",
    "total_2 = total_1 + delayed(add)(x2, y2)\n",
    "total_3 = total_2 + delayed(add)(x3, y3)"
   ]
  },
  {
   "cell_type": "code",
   "execution_count": 29,
   "metadata": {},
   "outputs": [
    {
     "output_type": "execute_result",
     "data": {
      "text/plain": [
       "<Future: pending, key: add-63d639a44feb3d204e230ec653a68b4d>"
      ],
      "text/html": "<b>Future: add</b> <font color=\"gray\">status: </font><font color=\"black\">pending</font>, <font color=\"gray\">key: </font>add-63d639a44feb3d204e230ec653a68b4d"
     },
     "metadata": {},
     "execution_count": 29
    }
   ],
   "source": [
    "fut = c.compute(total_3)\n",
    "fut"
   ]
  },
  {
   "cell_type": "code",
   "execution_count": 30,
   "metadata": {},
   "outputs": [
    {
     "output_type": "execute_result",
     "data": {
      "text/plain": [
       "105"
      ]
     },
     "metadata": {},
     "execution_count": 30
    }
   ],
   "source": [
    "c.gather(fut)"
   ]
  },
  {
   "cell_type": "code",
   "execution_count": 6,
   "metadata": {},
   "outputs": [],
   "source": [
    "def counter(x):\n",
    "    val = 0\n",
    "    for i in range(x):\n",
    "        val += 1\n",
    "    return val"
   ]
  },
  {
   "cell_type": "code",
   "execution_count": 44,
   "metadata": {},
   "outputs": [
    {
     "output_type": "execute_result",
     "data": {
      "text/plain": [
       "1200000000"
      ]
     },
     "metadata": {},
     "execution_count": 44
    }
   ],
   "source": [
    "x1 = delayed(counter)(200000000)\n",
    "x2 = delayed(counter)(200000000)\n",
    "x3 = delayed(counter)(200000000)\n",
    "x4 = delayed(counter)(200000000)\n",
    "x5 = delayed(counter)(200000000)\n",
    "x6 = delayed(counter)(200000000)\n",
    "fut = c.compute(x1 + x2 + x3 + x4 + x5 + x6)\n",
    "c.gather(fut)"
   ]
  },
  {
   "cell_type": "code",
   "execution_count": 7,
   "metadata": {},
   "outputs": [
    {
     "output_type": "stream",
     "name": "stdout",
     "text": [
      "CPU times: user 75.4 ms, sys: 9.79 ms, total: 85.2 ms\nWall time: 58.1 s\n"
     ]
    },
    {
     "output_type": "execute_result",
     "data": {
      "text/plain": [
       "[200000000,\n",
       " 200000000,\n",
       " 200000000,\n",
       " 200000000,\n",
       " 200000000,\n",
       " 200000000,\n",
       " 200000000,\n",
       " 200000000,\n",
       " 200000000,\n",
       " 200000000,\n",
       " 200000000,\n",
       " 200000000,\n",
       " 200000000,\n",
       " 200000000,\n",
       " 200000000,\n",
       " 200000000,\n",
       " 200000000,\n",
       " 200000000,\n",
       " 200000000,\n",
       " 200000000,\n",
       " 200000000,\n",
       " 200000000,\n",
       " 200000000,\n",
       " 200000000,\n",
       " 200000000,\n",
       " 200000000,\n",
       " 200000000,\n",
       " 200000000,\n",
       " 200000000,\n",
       " 200000000,\n",
       " 200000000,\n",
       " 200000000,\n",
       " 200000000,\n",
       " 200000000,\n",
       " 200000000,\n",
       " 200000000,\n",
       " 200000000,\n",
       " 200000000,\n",
       " 200000000,\n",
       " 200000000,\n",
       " 200000000,\n",
       " 200000000,\n",
       " 200000000,\n",
       " 200000000,\n",
       " 200000000,\n",
       " 200000000,\n",
       " 200000000,\n",
       " 200000000]"
      ]
     },
     "metadata": {},
     "execution_count": 7
    }
   ],
   "source": [
    "%%time\n",
    "\n",
    "tasks = []\n",
    "mul = 48\n",
    "for i in range(mul):\n",
    "    tasks.append(delayed(counter)(200000000))\n",
    "fut = c.compute(tasks)\n",
    "c.gather(fut)"
   ]
  },
  {
   "cell_type": "code",
   "execution_count": 36,
   "metadata": {},
   "outputs": [
    {
     "output_type": "stream",
     "name": "stdout",
     "text": [
      "CPU times: user 42.1 ms, sys: 7.35 ms, total: 49.5 ms\nWall time: 14.3 s\n"
     ]
    },
    {
     "output_type": "execute_result",
     "data": {
      "text/plain": [
       "3200000120"
      ]
     },
     "metadata": {},
     "execution_count": 36
    }
   ],
   "source": [
    "%%time\n",
    "\n",
    "tasks = []\n",
    "mul = 16\n",
    "for i in range(mul):\n",
    "    fut = c.submit(counter, int(2e8)+i)\n",
    "    tasks.append(fut)\n",
    "wait(tasks)\n",
    "\n",
    "mysum = 0\n",
    "for task in tasks:\n",
    "    mysum += task.result()\n",
    "mysum"
   ]
  },
  {
   "cell_type": "code",
   "execution_count": 63,
   "metadata": {},
   "outputs": [],
   "source": [
    "def bench(size):\n",
    "    df = pd.DataFrame(np.random.randint(0,100,size=(size, 1)), columns=list('A'))\n",
    "    return df.A.mean()"
   ]
  },
  {
   "cell_type": "code",
   "execution_count": 64,
   "metadata": {},
   "outputs": [
    {
     "output_type": "stream",
     "name": "stdout",
     "text": [
      "CPU times: user 100 ms, sys: 15.8 ms, total: 116 ms\nWall time: 2.41 s\n"
     ]
    },
    {
     "output_type": "execute_result",
     "data": {
      "text/plain": [
       "3168.0866766753143"
      ]
     },
     "metadata": {},
     "execution_count": 64
    }
   ],
   "source": [
    "%%time\n",
    "\n",
    "tasks = []\n",
    "mul = 64\n",
    "for i in range(mul):\n",
    "    fut = c.submit(bench, (int(1e7)+i))\n",
    "    tasks.append(fut)\n",
    "wait(tasks)\n",
    "\n",
    "mysum = 0\n",
    "for task in tasks:\n",
    "    mysum += task.result()\n",
    "mysum"
   ]
  },
  {
   "cell_type": "code",
   "execution_count": 65,
   "metadata": {},
   "outputs": [],
   "source": [
    "c.close()"
   ]
  },
  {
   "cell_type": "code",
   "execution_count": null,
   "metadata": {},
   "outputs": [],
   "source": [
    "# Start scheduler via cli\n",
    "# dask scheduler\n",
    "\n",
    "# Start workers via cli\n",
    "# dask worker\n",
    "\n",
    "# Shellscript?"
   ]
  }
 ],
 "metadata": {
  "kernelspec": {
   "name": "python392jvsc74a57bd007429c33ae0997cdbc7ceb84990794ad23021ae4dd1118919ae82393c3dc1e60",
   "display_name": "Python 3.9.2 64-bit ('private_playground-5JPsKkiQ': pipenv)"
  },
  "language_info": {
   "codemirror_mode": {
    "name": "ipython",
    "version": 3
   },
   "file_extension": ".py",
   "mimetype": "text/x-python",
   "name": "python",
   "nbconvert_exporter": "python",
   "pygments_lexer": "ipython3",
   "version": "3.9.2"
  },
  "toc-showcode": false,
  "toc-showmarkdowntxt": false
 },
 "nbformat": 4,
 "nbformat_minor": 4
}